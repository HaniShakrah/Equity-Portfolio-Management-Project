{
 "cells": [
  {
   "cell_type": "code",
   "execution_count": 141,
   "id": "0de95553",
   "metadata": {
    "scrolled": true
   },
   "outputs": [],
   "source": [
    "library(dplyr)\n",
    "library(stringr)\n",
    "library(ggplot2)\n",
    "library(ggrepel)\n",
    "library(reshape2)"
   ]
  },
  {
   "cell_type": "markdown",
   "id": "4ee8f02e",
   "metadata": {},
   "source": [
    "# Preparation"
   ]
  },
  {
   "cell_type": "code",
   "execution_count": 142,
   "id": "a4504b7b",
   "metadata": {},
   "outputs": [],
   "source": [
    "#initialize ticker variables \n",
    "universe = c('IBM', 'MSFT', 'GOOG', 'AAPL', 'AMZN', 'FB', 'NFLX', 'TSLA', 'ORCL', 'SAP')\n",
    "universe_div = c('IBM','MSFT','AAPL','ORCL','SAP')"
   ]
  },
  {
   "cell_type": "code",
   "execution_count": 143,
   "id": "75cfe8bf",
   "metadata": {},
   "outputs": [],
   "source": [
    "#read in data \n",
    "all = list()\n",
    "all_div = list()\n",
    "for (i in universe) {\n",
    "    x = paste(i,\".csv\", sep=\"\")\n",
    "    df = read.csv(x)\n",
    "    all[[i]] = df\n",
    "    }\n",
    "for (i in universe_div) {\n",
    "    x = paste(i,\"div.csv\", sep=\"\")\n",
    "    df = read.csv(x)\n",
    "    all_div[[i]] = df\n",
    "    }\n"
   ]
  },
  {
   "cell_type": "code",
   "execution_count": 144,
   "id": "9f46487c",
   "metadata": {},
   "outputs": [],
   "source": [
    "for (i in universe) {\n",
    "  assign(i, all[[i]])\n",
    "}\n",
    "\n",
    "for(i in universe_div){\n",
    "    assign(paste0(i,\"_div\"), all_div[[i]])\n",
    "                    }\n",
    "IBM_div$Date = as.Date(IBM_div$Date, format = \"%m/%d/%Y\")\n",
    "MSFT_div$Date = as.Date(MSFT_div$Date, format = \"%m/%d/%Y\")\n",
    "AAPL_div$Date = as.Date(AAPL_div$Date, format = \"%m/%d/%Y\")\n",
    "ORCL_div$Date = as.Date(ORCL_div$Date, format = \"%m/%d/%Y\")\n",
    "SAP_div$Date = as.Date(SAP_div$Date, format = \"%m/%d/%Y\")\n"
   ]
  },
  {
   "cell_type": "markdown",
   "id": "0f2b431b",
   "metadata": {},
   "source": [
    "# Retrieve the \"Close\" and \"Adj Close\" values for each stock\n"
   ]
  },
  {
   "cell_type": "code",
   "execution_count": 145,
   "id": "f16e6ee6",
   "metadata": {},
   "outputs": [
    {
     "data": {
      "text/html": [
       "<table class=\"dataframe\">\n",
       "<caption>A data.frame: 6 × 3</caption>\n",
       "<thead>\n",
       "\t<tr><th></th><th scope=col>Date</th><th scope=col>Close</th><th scope=col>Adj.Close</th></tr>\n",
       "\t<tr><th></th><th scope=col>&lt;chr&gt;</th><th scope=col>&lt;dbl&gt;</th><th scope=col>&lt;dbl&gt;</th></tr>\n",
       "</thead>\n",
       "<tbody>\n",
       "\t<tr><th scope=row>1</th><td>1/2/2018</td><td>147.4665</td><td>113.0867</td></tr>\n",
       "\t<tr><th scope=row>2</th><td>1/3/2018</td><td>151.5201</td><td>116.1952</td></tr>\n",
       "\t<tr><th scope=row>3</th><td>1/4/2018</td><td>154.5889</td><td>118.5486</td></tr>\n",
       "\t<tr><th scope=row>4</th><td>1/5/2018</td><td>155.3442</td><td>119.1278</td></tr>\n",
       "\t<tr><th scope=row>5</th><td>1/8/2018</td><td>156.2811</td><td>119.8463</td></tr>\n",
       "\t<tr><th scope=row>6</th><td>1/9/2018</td><td>156.6252</td><td>120.1102</td></tr>\n",
       "</tbody>\n",
       "</table>\n"
      ],
      "text/latex": [
       "A data.frame: 6 × 3\n",
       "\\begin{tabular}{r|lll}\n",
       "  & Date & Close & Adj.Close\\\\\n",
       "  & <chr> & <dbl> & <dbl>\\\\\n",
       "\\hline\n",
       "\t1 & 1/2/2018 & 147.4665 & 113.0867\\\\\n",
       "\t2 & 1/3/2018 & 151.5201 & 116.1952\\\\\n",
       "\t3 & 1/4/2018 & 154.5889 & 118.5486\\\\\n",
       "\t4 & 1/5/2018 & 155.3442 & 119.1278\\\\\n",
       "\t5 & 1/8/2018 & 156.2811 & 119.8463\\\\\n",
       "\t6 & 1/9/2018 & 156.6252 & 120.1102\\\\\n",
       "\\end{tabular}\n"
      ],
      "text/markdown": [
       "\n",
       "A data.frame: 6 × 3\n",
       "\n",
       "| <!--/--> | Date &lt;chr&gt; | Close &lt;dbl&gt; | Adj.Close &lt;dbl&gt; |\n",
       "|---|---|---|---|\n",
       "| 1 | 1/2/2018 | 147.4665 | 113.0867 |\n",
       "| 2 | 1/3/2018 | 151.5201 | 116.1952 |\n",
       "| 3 | 1/4/2018 | 154.5889 | 118.5486 |\n",
       "| 4 | 1/5/2018 | 155.3442 | 119.1278 |\n",
       "| 5 | 1/8/2018 | 156.2811 | 119.8463 |\n",
       "| 6 | 1/9/2018 | 156.6252 | 120.1102 |\n",
       "\n"
      ],
      "text/plain": [
       "  Date     Close    Adj.Close\n",
       "1 1/2/2018 147.4665 113.0867 \n",
       "2 1/3/2018 151.5201 116.1952 \n",
       "3 1/4/2018 154.5889 118.5486 \n",
       "4 1/5/2018 155.3442 119.1278 \n",
       "5 1/8/2018 156.2811 119.8463 \n",
       "6 1/9/2018 156.6252 120.1102 "
      ]
     },
     "metadata": {},
     "output_type": "display_data"
    }
   ],
   "source": [
    "head(IBM[,c(1,5,6)])"
   ]
  },
  {
   "cell_type": "code",
   "execution_count": 146,
   "id": "63d169c6",
   "metadata": {},
   "outputs": [],
   "source": [
    "#merge all individual df's together \n",
    "merged = merge(IBM[,c(1,5,6)], MSFT[,c(1,5,6)], by = \"Date\", suffixes = c(\"_IBM\", \"_MSFT\"))\n",
    "for (i in universe[3:length(universe)]){\n",
    "    df = get(i)\n",
    "    col_names = names(df)[c(5,6)]\n",
    "    new_col_names = paste0(col_names, \"_\", i)\n",
    "    names(df)[c(5,6)] = new_col_names \n",
    "    merged = merge(merged, df[,c(1,5,6)], by = \"Date\")\n",
    "}"
   ]
  },
  {
   "cell_type": "code",
   "execution_count": 147,
   "id": "86549d61",
   "metadata": {},
   "outputs": [
    {
     "data": {
      "text/html": [
       "<table class=\"dataframe\">\n",
       "<caption>A data.frame: 6 × 21</caption>\n",
       "<thead>\n",
       "\t<tr><th></th><th scope=col>Date</th><th scope=col>Close_IBM</th><th scope=col>Adj.Close_IBM</th><th scope=col>Close_MSFT</th><th scope=col>Adj.Close_MSFT</th><th scope=col>Close_GOOG</th><th scope=col>Adj.Close_GOOG</th><th scope=col>Close_AAPL</th><th scope=col>Adj.Close_AAPL</th><th scope=col>Close_AMZN</th><th scope=col>⋯</th><th scope=col>Close_FB</th><th scope=col>Adj.Close_FB</th><th scope=col>Close_NFLX</th><th scope=col>Adj.Close_NFLX</th><th scope=col>Close_TSLA</th><th scope=col>Adj.Close_TSLA</th><th scope=col>Close_ORCL</th><th scope=col>Adj.Close_ORCL</th><th scope=col>Close_SAP</th><th scope=col>Adj.Close_SAP</th></tr>\n",
       "\t<tr><th></th><th scope=col>&lt;date&gt;</th><th scope=col>&lt;dbl&gt;</th><th scope=col>&lt;dbl&gt;</th><th scope=col>&lt;dbl&gt;</th><th scope=col>&lt;dbl&gt;</th><th scope=col>&lt;dbl&gt;</th><th scope=col>&lt;dbl&gt;</th><th scope=col>&lt;dbl&gt;</th><th scope=col>&lt;dbl&gt;</th><th scope=col>&lt;dbl&gt;</th><th scope=col>⋯</th><th scope=col>&lt;dbl&gt;</th><th scope=col>&lt;dbl&gt;</th><th scope=col>&lt;dbl&gt;</th><th scope=col>&lt;dbl&gt;</th><th scope=col>&lt;dbl&gt;</th><th scope=col>&lt;dbl&gt;</th><th scope=col>&lt;dbl&gt;</th><th scope=col>&lt;dbl&gt;</th><th scope=col>&lt;dbl&gt;</th><th scope=col>&lt;dbl&gt;</th></tr>\n",
       "</thead>\n",
       "<tbody>\n",
       "\t<tr><th scope=row>1</th><td>2018-01-10</td><td>156.9599</td><td>120.3668</td><td>87.82</td><td>82.31483</td><td>55.1305</td><td>55.1305</td><td>43.5725</td><td>41.31276</td><td>62.7165</td><td>⋯</td><td>187.84</td><td>187.84</td><td>212.52</td><td>212.52</td><td>22.32000</td><td>22.32000</td><td>48.80</td><td>44.74147</td><td>112.87</td><td>101.64254</td></tr>\n",
       "\t<tr><th scope=row>2</th><td>2018-01-11</td><td>156.9790</td><td>120.3815</td><td>88.08</td><td>82.55853</td><td>55.2760</td><td>55.2760</td><td>43.8200</td><td>41.54743</td><td>63.8340</td><td>⋯</td><td>187.77</td><td>187.77</td><td>217.24</td><td>217.24</td><td>22.53000</td><td>22.53000</td><td>48.95</td><td>44.87899</td><td>109.64</td><td> 98.73383</td></tr>\n",
       "\t<tr><th scope=row>3</th><td>2018-01-12</td><td>155.9656</td><td>119.6043</td><td>89.60</td><td>83.98323</td><td>56.1130</td><td>56.1130</td><td>44.2725</td><td>41.97647</td><td>65.2600</td><td>⋯</td><td>179.37</td><td>179.37</td><td>221.23</td><td>221.23</td><td>22.41467</td><td>22.41467</td><td>49.51</td><td>45.39242</td><td>110.13</td><td> 99.17509</td></tr>\n",
       "\t<tr><th scope=row>4</th><td>2018-01-16</td><td>156.6444</td><td>120.1249</td><td>88.35</td><td>82.81162</td><td>56.0880</td><td>56.0880</td><td>44.0475</td><td>41.76313</td><td>65.2430</td><td>⋯</td><td>178.39</td><td>178.39</td><td>221.53</td><td>221.53</td><td>22.67067</td><td>22.67067</td><td>49.59</td><td>45.46577</td><td>110.68</td><td> 99.67039</td></tr>\n",
       "\t<tr><th scope=row>5</th><td>2018-01-17</td><td>161.2333</td><td>123.6439</td><td>90.14</td><td>84.48939</td><td>56.5990</td><td>56.5990</td><td>44.7750</td><td>42.45291</td><td>64.7500</td><td>⋯</td><td>177.60</td><td>177.60</td><td>217.50</td><td>217.50</td><td>23.14400</td><td>23.14400</td><td>50.27</td><td>46.08921</td><td>111.19</td><td>100.12965</td></tr>\n",
       "\t<tr><th scope=row>6</th><td>2018-01-18</td><td>161.6826</td><td>123.9885</td><td>90.10</td><td>84.45190</td><td>56.4895</td><td>56.4895</td><td>44.8150</td><td>42.49084</td><td>64.6660</td><td>⋯</td><td>179.80</td><td>179.80</td><td>220.33</td><td>220.33</td><td>22.97133</td><td>22.97133</td><td>50.23</td><td>46.05253</td><td>111.67</td><td>100.56190</td></tr>\n",
       "</tbody>\n",
       "</table>\n"
      ],
      "text/latex": [
       "A data.frame: 6 × 21\n",
       "\\begin{tabular}{r|lllllllllllllllllllll}\n",
       "  & Date & Close\\_IBM & Adj.Close\\_IBM & Close\\_MSFT & Adj.Close\\_MSFT & Close\\_GOOG & Adj.Close\\_GOOG & Close\\_AAPL & Adj.Close\\_AAPL & Close\\_AMZN & ⋯ & Close\\_FB & Adj.Close\\_FB & Close\\_NFLX & Adj.Close\\_NFLX & Close\\_TSLA & Adj.Close\\_TSLA & Close\\_ORCL & Adj.Close\\_ORCL & Close\\_SAP & Adj.Close\\_SAP\\\\\n",
       "  & <date> & <dbl> & <dbl> & <dbl> & <dbl> & <dbl> & <dbl> & <dbl> & <dbl> & <dbl> & ⋯ & <dbl> & <dbl> & <dbl> & <dbl> & <dbl> & <dbl> & <dbl> & <dbl> & <dbl> & <dbl>\\\\\n",
       "\\hline\n",
       "\t1 & 2018-01-10 & 156.9599 & 120.3668 & 87.82 & 82.31483 & 55.1305 & 55.1305 & 43.5725 & 41.31276 & 62.7165 & ⋯ & 187.84 & 187.84 & 212.52 & 212.52 & 22.32000 & 22.32000 & 48.80 & 44.74147 & 112.87 & 101.64254\\\\\n",
       "\t2 & 2018-01-11 & 156.9790 & 120.3815 & 88.08 & 82.55853 & 55.2760 & 55.2760 & 43.8200 & 41.54743 & 63.8340 & ⋯ & 187.77 & 187.77 & 217.24 & 217.24 & 22.53000 & 22.53000 & 48.95 & 44.87899 & 109.64 &  98.73383\\\\\n",
       "\t3 & 2018-01-12 & 155.9656 & 119.6043 & 89.60 & 83.98323 & 56.1130 & 56.1130 & 44.2725 & 41.97647 & 65.2600 & ⋯ & 179.37 & 179.37 & 221.23 & 221.23 & 22.41467 & 22.41467 & 49.51 & 45.39242 & 110.13 &  99.17509\\\\\n",
       "\t4 & 2018-01-16 & 156.6444 & 120.1249 & 88.35 & 82.81162 & 56.0880 & 56.0880 & 44.0475 & 41.76313 & 65.2430 & ⋯ & 178.39 & 178.39 & 221.53 & 221.53 & 22.67067 & 22.67067 & 49.59 & 45.46577 & 110.68 &  99.67039\\\\\n",
       "\t5 & 2018-01-17 & 161.2333 & 123.6439 & 90.14 & 84.48939 & 56.5990 & 56.5990 & 44.7750 & 42.45291 & 64.7500 & ⋯ & 177.60 & 177.60 & 217.50 & 217.50 & 23.14400 & 23.14400 & 50.27 & 46.08921 & 111.19 & 100.12965\\\\\n",
       "\t6 & 2018-01-18 & 161.6826 & 123.9885 & 90.10 & 84.45190 & 56.4895 & 56.4895 & 44.8150 & 42.49084 & 64.6660 & ⋯ & 179.80 & 179.80 & 220.33 & 220.33 & 22.97133 & 22.97133 & 50.23 & 46.05253 & 111.67 & 100.56190\\\\\n",
       "\\end{tabular}\n"
      ],
      "text/markdown": [
       "\n",
       "A data.frame: 6 × 21\n",
       "\n",
       "| <!--/--> | Date &lt;date&gt; | Close_IBM &lt;dbl&gt; | Adj.Close_IBM &lt;dbl&gt; | Close_MSFT &lt;dbl&gt; | Adj.Close_MSFT &lt;dbl&gt; | Close_GOOG &lt;dbl&gt; | Adj.Close_GOOG &lt;dbl&gt; | Close_AAPL &lt;dbl&gt; | Adj.Close_AAPL &lt;dbl&gt; | Close_AMZN &lt;dbl&gt; | ⋯ ⋯ | Close_FB &lt;dbl&gt; | Adj.Close_FB &lt;dbl&gt; | Close_NFLX &lt;dbl&gt; | Adj.Close_NFLX &lt;dbl&gt; | Close_TSLA &lt;dbl&gt; | Adj.Close_TSLA &lt;dbl&gt; | Close_ORCL &lt;dbl&gt; | Adj.Close_ORCL &lt;dbl&gt; | Close_SAP &lt;dbl&gt; | Adj.Close_SAP &lt;dbl&gt; |\n",
       "|---|---|---|---|---|---|---|---|---|---|---|---|---|---|---|---|---|---|---|---|---|---|\n",
       "| 1 | 2018-01-10 | 156.9599 | 120.3668 | 87.82 | 82.31483 | 55.1305 | 55.1305 | 43.5725 | 41.31276 | 62.7165 | ⋯ | 187.84 | 187.84 | 212.52 | 212.52 | 22.32000 | 22.32000 | 48.80 | 44.74147 | 112.87 | 101.64254 |\n",
       "| 2 | 2018-01-11 | 156.9790 | 120.3815 | 88.08 | 82.55853 | 55.2760 | 55.2760 | 43.8200 | 41.54743 | 63.8340 | ⋯ | 187.77 | 187.77 | 217.24 | 217.24 | 22.53000 | 22.53000 | 48.95 | 44.87899 | 109.64 |  98.73383 |\n",
       "| 3 | 2018-01-12 | 155.9656 | 119.6043 | 89.60 | 83.98323 | 56.1130 | 56.1130 | 44.2725 | 41.97647 | 65.2600 | ⋯ | 179.37 | 179.37 | 221.23 | 221.23 | 22.41467 | 22.41467 | 49.51 | 45.39242 | 110.13 |  99.17509 |\n",
       "| 4 | 2018-01-16 | 156.6444 | 120.1249 | 88.35 | 82.81162 | 56.0880 | 56.0880 | 44.0475 | 41.76313 | 65.2430 | ⋯ | 178.39 | 178.39 | 221.53 | 221.53 | 22.67067 | 22.67067 | 49.59 | 45.46577 | 110.68 |  99.67039 |\n",
       "| 5 | 2018-01-17 | 161.2333 | 123.6439 | 90.14 | 84.48939 | 56.5990 | 56.5990 | 44.7750 | 42.45291 | 64.7500 | ⋯ | 177.60 | 177.60 | 217.50 | 217.50 | 23.14400 | 23.14400 | 50.27 | 46.08921 | 111.19 | 100.12965 |\n",
       "| 6 | 2018-01-18 | 161.6826 | 123.9885 | 90.10 | 84.45190 | 56.4895 | 56.4895 | 44.8150 | 42.49084 | 64.6660 | ⋯ | 179.80 | 179.80 | 220.33 | 220.33 | 22.97133 | 22.97133 | 50.23 | 46.05253 | 111.67 | 100.56190 |\n",
       "\n"
      ],
      "text/plain": [
       "  Date       Close_IBM Adj.Close_IBM Close_MSFT Adj.Close_MSFT Close_GOOG\n",
       "1 2018-01-10 156.9599  120.3668      87.82      82.31483       55.1305   \n",
       "2 2018-01-11 156.9790  120.3815      88.08      82.55853       55.2760   \n",
       "3 2018-01-12 155.9656  119.6043      89.60      83.98323       56.1130   \n",
       "4 2018-01-16 156.6444  120.1249      88.35      82.81162       56.0880   \n",
       "5 2018-01-17 161.2333  123.6439      90.14      84.48939       56.5990   \n",
       "6 2018-01-18 161.6826  123.9885      90.10      84.45190       56.4895   \n",
       "  Adj.Close_GOOG Close_AAPL Adj.Close_AAPL Close_AMZN ⋯ Close_FB Adj.Close_FB\n",
       "1 55.1305        43.5725    41.31276       62.7165    ⋯ 187.84   187.84      \n",
       "2 55.2760        43.8200    41.54743       63.8340    ⋯ 187.77   187.77      \n",
       "3 56.1130        44.2725    41.97647       65.2600    ⋯ 179.37   179.37      \n",
       "4 56.0880        44.0475    41.76313       65.2430    ⋯ 178.39   178.39      \n",
       "5 56.5990        44.7750    42.45291       64.7500    ⋯ 177.60   177.60      \n",
       "6 56.4895        44.8150    42.49084       64.6660    ⋯ 179.80   179.80      \n",
       "  Close_NFLX Adj.Close_NFLX Close_TSLA Adj.Close_TSLA Close_ORCL Adj.Close_ORCL\n",
       "1 212.52     212.52         22.32000   22.32000       48.80      44.74147      \n",
       "2 217.24     217.24         22.53000   22.53000       48.95      44.87899      \n",
       "3 221.23     221.23         22.41467   22.41467       49.51      45.39242      \n",
       "4 221.53     221.53         22.67067   22.67067       49.59      45.46577      \n",
       "5 217.50     217.50         23.14400   23.14400       50.27      46.08921      \n",
       "6 220.33     220.33         22.97133   22.97133       50.23      46.05253      \n",
       "  Close_SAP Adj.Close_SAP\n",
       "1 112.87    101.64254    \n",
       "2 109.64     98.73383    \n",
       "3 110.13     99.17509    \n",
       "4 110.68     99.67039    \n",
       "5 111.19    100.12965    \n",
       "6 111.67    100.56190    "
      ]
     },
     "metadata": {},
     "output_type": "display_data"
    }
   ],
   "source": [
    "#change \"Date\" column to Date format \n",
    "merged$Date = as.Date(merged$Date, format = \"%m/%d/%Y\")\n",
    "head(merged)"
   ]
  },
  {
   "cell_type": "code",
   "execution_count": 148,
   "id": "b4625132",
   "metadata": {
    "scrolled": true
   },
   "outputs": [
    {
     "data": {
      "text/html": [
       "<table class=\"dataframe\">\n",
       "<caption>A data.frame: 6 × 21</caption>\n",
       "<thead>\n",
       "\t<tr><th></th><th scope=col>Date</th><th scope=col>Close_IBM</th><th scope=col>Adj.Close_IBM</th><th scope=col>Close_MSFT</th><th scope=col>Adj.Close_MSFT</th><th scope=col>Close_GOOG</th><th scope=col>Adj.Close_GOOG</th><th scope=col>Close_AAPL</th><th scope=col>Adj.Close_AAPL</th><th scope=col>Close_AMZN</th><th scope=col>⋯</th><th scope=col>Close_FB</th><th scope=col>Adj.Close_FB</th><th scope=col>Close_NFLX</th><th scope=col>Adj.Close_NFLX</th><th scope=col>Close_TSLA</th><th scope=col>Adj.Close_TSLA</th><th scope=col>Close_ORCL</th><th scope=col>Adj.Close_ORCL</th><th scope=col>Close_SAP</th><th scope=col>Adj.Close_SAP</th></tr>\n",
       "\t<tr><th></th><th scope=col>&lt;date&gt;</th><th scope=col>&lt;dbl&gt;</th><th scope=col>&lt;dbl&gt;</th><th scope=col>&lt;dbl&gt;</th><th scope=col>&lt;dbl&gt;</th><th scope=col>&lt;dbl&gt;</th><th scope=col>&lt;dbl&gt;</th><th scope=col>&lt;dbl&gt;</th><th scope=col>&lt;dbl&gt;</th><th scope=col>&lt;dbl&gt;</th><th scope=col>⋯</th><th scope=col>&lt;dbl&gt;</th><th scope=col>&lt;dbl&gt;</th><th scope=col>&lt;dbl&gt;</th><th scope=col>&lt;dbl&gt;</th><th scope=col>&lt;dbl&gt;</th><th scope=col>&lt;dbl&gt;</th><th scope=col>&lt;dbl&gt;</th><th scope=col>&lt;dbl&gt;</th><th scope=col>&lt;dbl&gt;</th><th scope=col>&lt;dbl&gt;</th></tr>\n",
       "</thead>\n",
       "<tbody>\n",
       "\t<tr><th scope=row>1</th><td>2018-01-02</td><td>147.4665</td><td>113.0867</td><td>85.95</td><td>80.56204</td><td>53.2500</td><td>53.2500</td><td>43.0650</td><td>40.83159</td><td>59.4505</td><td>⋯</td><td>181.42</td><td>181.42</td><td>201.07</td><td>201.07</td><td>21.36867</td><td>21.36867</td><td>46.63</td><td>42.58610</td><td>112.39</td><td>101.2103</td></tr>\n",
       "\t<tr><th scope=row>2</th><td>2018-01-03</td><td>151.5201</td><td>116.1952</td><td>86.35</td><td>80.93695</td><td>54.1240</td><td>54.1240</td><td>43.0575</td><td>40.82447</td><td>60.2100</td><td>⋯</td><td>184.67</td><td>184.67</td><td>205.05</td><td>205.05</td><td>21.15000</td><td>21.15000</td><td>47.71</td><td>43.57244</td><td>113.31</td><td>102.0388</td></tr>\n",
       "\t<tr><th scope=row>3</th><td>2018-01-04</td><td>154.5889</td><td>118.5486</td><td>87.11</td><td>81.64934</td><td>54.3200</td><td>54.3200</td><td>43.2575</td><td>41.01411</td><td>60.4795</td><td>⋯</td><td>184.33</td><td>184.33</td><td>205.63</td><td>205.63</td><td>20.97467</td><td>20.97467</td><td>48.18</td><td>44.00167</td><td>115.05</td><td>103.6057</td></tr>\n",
       "\t<tr><th scope=row>4</th><td>2018-01-05</td><td>155.3442</td><td>119.1278</td><td>88.19</td><td>82.66164</td><td>55.1115</td><td>55.1115</td><td>43.7500</td><td>41.48107</td><td>61.4570</td><td>⋯</td><td>186.85</td><td>186.85</td><td>209.99</td><td>209.99</td><td>21.10533</td><td>21.10533</td><td>48.47</td><td>44.26653</td><td>116.33</td><td>104.7584</td></tr>\n",
       "\t<tr><th scope=row>5</th><td>2018-01-08</td><td>156.2811</td><td>119.8463</td><td>88.28</td><td>82.74599</td><td>55.3470</td><td>55.3470</td><td>43.5875</td><td>41.32699</td><td>62.3435</td><td>⋯</td><td>188.28</td><td>188.28</td><td>212.05</td><td>212.05</td><td>22.42733</td><td>22.42733</td><td>48.98</td><td>44.73230</td><td>114.80</td><td>103.3806</td></tr>\n",
       "\t<tr><th scope=row>6</th><td>2018-01-09</td><td>156.6252</td><td>120.1102</td><td>88.22</td><td>82.68976</td><td>55.3130</td><td>55.3130</td><td>43.5825</td><td>41.32225</td><td>62.6350</td><td>⋯</td><td>187.87</td><td>187.87</td><td>209.31</td><td>209.31</td><td>22.24600</td><td>22.24600</td><td>49.06</td><td>44.97985</td><td>114.16</td><td>102.8042</td></tr>\n",
       "</tbody>\n",
       "</table>\n"
      ],
      "text/latex": [
       "A data.frame: 6 × 21\n",
       "\\begin{tabular}{r|lllllllllllllllllllll}\n",
       "  & Date & Close\\_IBM & Adj.Close\\_IBM & Close\\_MSFT & Adj.Close\\_MSFT & Close\\_GOOG & Adj.Close\\_GOOG & Close\\_AAPL & Adj.Close\\_AAPL & Close\\_AMZN & ⋯ & Close\\_FB & Adj.Close\\_FB & Close\\_NFLX & Adj.Close\\_NFLX & Close\\_TSLA & Adj.Close\\_TSLA & Close\\_ORCL & Adj.Close\\_ORCL & Close\\_SAP & Adj.Close\\_SAP\\\\\n",
       "  & <date> & <dbl> & <dbl> & <dbl> & <dbl> & <dbl> & <dbl> & <dbl> & <dbl> & <dbl> & ⋯ & <dbl> & <dbl> & <dbl> & <dbl> & <dbl> & <dbl> & <dbl> & <dbl> & <dbl> & <dbl>\\\\\n",
       "\\hline\n",
       "\t1 & 2018-01-02 & 147.4665 & 113.0867 & 85.95 & 80.56204 & 53.2500 & 53.2500 & 43.0650 & 40.83159 & 59.4505 & ⋯ & 181.42 & 181.42 & 201.07 & 201.07 & 21.36867 & 21.36867 & 46.63 & 42.58610 & 112.39 & 101.2103\\\\\n",
       "\t2 & 2018-01-03 & 151.5201 & 116.1952 & 86.35 & 80.93695 & 54.1240 & 54.1240 & 43.0575 & 40.82447 & 60.2100 & ⋯ & 184.67 & 184.67 & 205.05 & 205.05 & 21.15000 & 21.15000 & 47.71 & 43.57244 & 113.31 & 102.0388\\\\\n",
       "\t3 & 2018-01-04 & 154.5889 & 118.5486 & 87.11 & 81.64934 & 54.3200 & 54.3200 & 43.2575 & 41.01411 & 60.4795 & ⋯ & 184.33 & 184.33 & 205.63 & 205.63 & 20.97467 & 20.97467 & 48.18 & 44.00167 & 115.05 & 103.6057\\\\\n",
       "\t4 & 2018-01-05 & 155.3442 & 119.1278 & 88.19 & 82.66164 & 55.1115 & 55.1115 & 43.7500 & 41.48107 & 61.4570 & ⋯ & 186.85 & 186.85 & 209.99 & 209.99 & 21.10533 & 21.10533 & 48.47 & 44.26653 & 116.33 & 104.7584\\\\\n",
       "\t5 & 2018-01-08 & 156.2811 & 119.8463 & 88.28 & 82.74599 & 55.3470 & 55.3470 & 43.5875 & 41.32699 & 62.3435 & ⋯ & 188.28 & 188.28 & 212.05 & 212.05 & 22.42733 & 22.42733 & 48.98 & 44.73230 & 114.80 & 103.3806\\\\\n",
       "\t6 & 2018-01-09 & 156.6252 & 120.1102 & 88.22 & 82.68976 & 55.3130 & 55.3130 & 43.5825 & 41.32225 & 62.6350 & ⋯ & 187.87 & 187.87 & 209.31 & 209.31 & 22.24600 & 22.24600 & 49.06 & 44.97985 & 114.16 & 102.8042\\\\\n",
       "\\end{tabular}\n"
      ],
      "text/markdown": [
       "\n",
       "A data.frame: 6 × 21\n",
       "\n",
       "| <!--/--> | Date &lt;date&gt; | Close_IBM &lt;dbl&gt; | Adj.Close_IBM &lt;dbl&gt; | Close_MSFT &lt;dbl&gt; | Adj.Close_MSFT &lt;dbl&gt; | Close_GOOG &lt;dbl&gt; | Adj.Close_GOOG &lt;dbl&gt; | Close_AAPL &lt;dbl&gt; | Adj.Close_AAPL &lt;dbl&gt; | Close_AMZN &lt;dbl&gt; | ⋯ ⋯ | Close_FB &lt;dbl&gt; | Adj.Close_FB &lt;dbl&gt; | Close_NFLX &lt;dbl&gt; | Adj.Close_NFLX &lt;dbl&gt; | Close_TSLA &lt;dbl&gt; | Adj.Close_TSLA &lt;dbl&gt; | Close_ORCL &lt;dbl&gt; | Adj.Close_ORCL &lt;dbl&gt; | Close_SAP &lt;dbl&gt; | Adj.Close_SAP &lt;dbl&gt; |\n",
       "|---|---|---|---|---|---|---|---|---|---|---|---|---|---|---|---|---|---|---|---|---|---|\n",
       "| 1 | 2018-01-02 | 147.4665 | 113.0867 | 85.95 | 80.56204 | 53.2500 | 53.2500 | 43.0650 | 40.83159 | 59.4505 | ⋯ | 181.42 | 181.42 | 201.07 | 201.07 | 21.36867 | 21.36867 | 46.63 | 42.58610 | 112.39 | 101.2103 |\n",
       "| 2 | 2018-01-03 | 151.5201 | 116.1952 | 86.35 | 80.93695 | 54.1240 | 54.1240 | 43.0575 | 40.82447 | 60.2100 | ⋯ | 184.67 | 184.67 | 205.05 | 205.05 | 21.15000 | 21.15000 | 47.71 | 43.57244 | 113.31 | 102.0388 |\n",
       "| 3 | 2018-01-04 | 154.5889 | 118.5486 | 87.11 | 81.64934 | 54.3200 | 54.3200 | 43.2575 | 41.01411 | 60.4795 | ⋯ | 184.33 | 184.33 | 205.63 | 205.63 | 20.97467 | 20.97467 | 48.18 | 44.00167 | 115.05 | 103.6057 |\n",
       "| 4 | 2018-01-05 | 155.3442 | 119.1278 | 88.19 | 82.66164 | 55.1115 | 55.1115 | 43.7500 | 41.48107 | 61.4570 | ⋯ | 186.85 | 186.85 | 209.99 | 209.99 | 21.10533 | 21.10533 | 48.47 | 44.26653 | 116.33 | 104.7584 |\n",
       "| 5 | 2018-01-08 | 156.2811 | 119.8463 | 88.28 | 82.74599 | 55.3470 | 55.3470 | 43.5875 | 41.32699 | 62.3435 | ⋯ | 188.28 | 188.28 | 212.05 | 212.05 | 22.42733 | 22.42733 | 48.98 | 44.73230 | 114.80 | 103.3806 |\n",
       "| 6 | 2018-01-09 | 156.6252 | 120.1102 | 88.22 | 82.68976 | 55.3130 | 55.3130 | 43.5825 | 41.32225 | 62.6350 | ⋯ | 187.87 | 187.87 | 209.31 | 209.31 | 22.24600 | 22.24600 | 49.06 | 44.97985 | 114.16 | 102.8042 |\n",
       "\n"
      ],
      "text/plain": [
       "  Date       Close_IBM Adj.Close_IBM Close_MSFT Adj.Close_MSFT Close_GOOG\n",
       "1 2018-01-02 147.4665  113.0867      85.95      80.56204       53.2500   \n",
       "2 2018-01-03 151.5201  116.1952      86.35      80.93695       54.1240   \n",
       "3 2018-01-04 154.5889  118.5486      87.11      81.64934       54.3200   \n",
       "4 2018-01-05 155.3442  119.1278      88.19      82.66164       55.1115   \n",
       "5 2018-01-08 156.2811  119.8463      88.28      82.74599       55.3470   \n",
       "6 2018-01-09 156.6252  120.1102      88.22      82.68976       55.3130   \n",
       "  Adj.Close_GOOG Close_AAPL Adj.Close_AAPL Close_AMZN ⋯ Close_FB Adj.Close_FB\n",
       "1 53.2500        43.0650    40.83159       59.4505    ⋯ 181.42   181.42      \n",
       "2 54.1240        43.0575    40.82447       60.2100    ⋯ 184.67   184.67      \n",
       "3 54.3200        43.2575    41.01411       60.4795    ⋯ 184.33   184.33      \n",
       "4 55.1115        43.7500    41.48107       61.4570    ⋯ 186.85   186.85      \n",
       "5 55.3470        43.5875    41.32699       62.3435    ⋯ 188.28   188.28      \n",
       "6 55.3130        43.5825    41.32225       62.6350    ⋯ 187.87   187.87      \n",
       "  Close_NFLX Adj.Close_NFLX Close_TSLA Adj.Close_TSLA Close_ORCL Adj.Close_ORCL\n",
       "1 201.07     201.07         21.36867   21.36867       46.63      42.58610      \n",
       "2 205.05     205.05         21.15000   21.15000       47.71      43.57244      \n",
       "3 205.63     205.63         20.97467   20.97467       48.18      44.00167      \n",
       "4 209.99     209.99         21.10533   21.10533       48.47      44.26653      \n",
       "5 212.05     212.05         22.42733   22.42733       48.98      44.73230      \n",
       "6 209.31     209.31         22.24600   22.24600       49.06      44.97985      \n",
       "  Close_SAP Adj.Close_SAP\n",
       "1 112.39    101.2103     \n",
       "2 113.31    102.0388     \n",
       "3 115.05    103.6057     \n",
       "4 116.33    104.7584     \n",
       "5 114.80    103.3806     \n",
       "6 114.16    102.8042     "
      ]
     },
     "metadata": {},
     "output_type": "display_data"
    }
   ],
   "source": [
    "###FINAL DF FOR THIS SECTION###\n",
    "\n",
    "#sorting, changing prices to contain every fifth day \n",
    "prices = arrange(merged, Date)\n",
    "prices2 = prices\n",
    "prices = prices[seq(1, nrow(df), 5), ]\n",
    "head(prices2)"
   ]
  },
  {
   "cell_type": "markdown",
   "id": "837de1d0",
   "metadata": {},
   "source": [
    "# 5 Days Rebalancing of Buying Low"
   ]
  },
  {
   "cell_type": "code",
   "execution_count": 149,
   "id": "3be5492e",
   "metadata": {
    "scrolled": true
   },
   "outputs": [
    {
     "name": "stderr",
     "output_type": "stream",
     "text": [
      "Warning message in merge.data.frame(percent_change_df, change, by = \"Date\"):\n",
      "\"column names 'change.x', 'change.y' are duplicated in the result\"\n",
      "Warning message in merge.data.frame(percent_change_df, change, by = \"Date\"):\n",
      "\"column names 'change.x', 'change.y' are duplicated in the result\"\n",
      "Warning message in merge.data.frame(percent_change_df, change, by = \"Date\"):\n",
      "\"column names 'change.x', 'change.y', 'change.x', 'change.y' are duplicated in the result\"\n",
      "Warning message in merge.data.frame(percent_change_df, change, by = \"Date\"):\n",
      "\"column names 'change.x', 'change.y', 'change.x', 'change.y' are duplicated in the result\"\n",
      "Warning message in merge.data.frame(percent_change_df, change, by = \"Date\"):\n",
      "\"column names 'change.x', 'change.y', 'change.x', 'change.y', 'change.x', 'change.y' are duplicated in the result\"\n",
      "Warning message in merge.data.frame(percent_change_df, change, by = \"Date\"):\n",
      "\"column names 'change.x', 'change.y', 'change.x', 'change.y', 'change.x', 'change.y' are duplicated in the result\"\n",
      "Warning message in merge.data.frame(percent_change_df, change, by = \"Date\"):\n",
      "\"column names 'change.x', 'change.y', 'change.x', 'change.y', 'change.x', 'change.y', 'change.x', 'change.y' are duplicated in the result\"\n"
     ]
    }
   ],
   "source": [
    "#calculate %change\n",
    "percent_change_df = data.frame(Date = merged$Date)\n",
    "for (i in universe){\n",
    "    change = arrange(merged,Date) %>% transmute(Date, change = get(paste0(\"Adj.Close_\", i))/lag(get(paste0(\"Adj.Close_\", i)), n=5)) \n",
    "    percent_change_df <- merge(percent_change_df, change, by = \"Date\")\n",
    "}"
   ]
  },
  {
   "cell_type": "code",
   "execution_count": 150,
   "id": "c9c18f73",
   "metadata": {},
   "outputs": [],
   "source": [
    "#change column names \n",
    "names(percent_change_df)= c(\"Date\", \"5Day%Change_IBM\",\"5Day%Change_MSFT\",\"5Day%Change_GOOG\", \"5Day%Change_AAPL\", \"5Day%Change_AMZN\",\"5Day%Change_FB\", \"5Day%Change_NFLX\",\"5Day%Change_TSLA\",\"5Day%Change_ORCL\",\"5Day%Change_SAP\")"
   ]
  },
  {
   "cell_type": "code",
   "execution_count": 151,
   "id": "ad617ed4",
   "metadata": {},
   "outputs": [
    {
     "data": {
      "text/html": [
       "<table class=\"dataframe\">\n",
       "<caption>A data.frame: 6 × 11</caption>\n",
       "<thead>\n",
       "\t<tr><th></th><th scope=col>Date</th><th scope=col>5Day%Change_IBM</th><th scope=col>5Day%Change_MSFT</th><th scope=col>5Day%Change_GOOG</th><th scope=col>5Day%Change_AAPL</th><th scope=col>5Day%Change_AMZN</th><th scope=col>5Day%Change_FB</th><th scope=col>5Day%Change_NFLX</th><th scope=col>5Day%Change_TSLA</th><th scope=col>5Day%Change_ORCL</th><th scope=col>5Day%Change_SAP</th></tr>\n",
       "\t<tr><th></th><th scope=col>&lt;date&gt;</th><th scope=col>&lt;dbl&gt;</th><th scope=col>&lt;dbl&gt;</th><th scope=col>&lt;dbl&gt;</th><th scope=col>&lt;dbl&gt;</th><th scope=col>&lt;dbl&gt;</th><th scope=col>&lt;dbl&gt;</th><th scope=col>&lt;dbl&gt;</th><th scope=col>&lt;dbl&gt;</th><th scope=col>&lt;dbl&gt;</th><th scope=col>&lt;dbl&gt;</th></tr>\n",
       "</thead>\n",
       "<tbody>\n",
       "\t<tr><th scope=row>1</th><td>2018-01-02</td><td>      NA</td><td>      NA</td><td>      NA</td><td>      NA</td><td>      NA</td><td>      NA</td><td>      NA</td><td>      NA</td><td>     NA</td><td>      NA</td></tr>\n",
       "\t<tr><th scope=row>2</th><td>2018-01-03</td><td>      NA</td><td>      NA</td><td>      NA</td><td>      NA</td><td>      NA</td><td>      NA</td><td>      NA</td><td>      NA</td><td>     NA</td><td>      NA</td></tr>\n",
       "\t<tr><th scope=row>3</th><td>2018-01-04</td><td>      NA</td><td>      NA</td><td>      NA</td><td>      NA</td><td>      NA</td><td>      NA</td><td>      NA</td><td>      NA</td><td>     NA</td><td>      NA</td></tr>\n",
       "\t<tr><th scope=row>4</th><td>2018-01-05</td><td>      NA</td><td>      NA</td><td>      NA</td><td>      NA</td><td>      NA</td><td>      NA</td><td>      NA</td><td>      NA</td><td>     NA</td><td>      NA</td></tr>\n",
       "\t<tr><th scope=row>5</th><td>2018-01-08</td><td>      NA</td><td>      NA</td><td>      NA</td><td>      NA</td><td>      NA</td><td>      NA</td><td>      NA</td><td>      NA</td><td>     NA</td><td>      NA</td></tr>\n",
       "\t<tr><th scope=row>6</th><td>2018-01-09</td><td>1.062107</td><td>1.026411</td><td>1.038742</td><td>1.012017</td><td>1.053566</td><td>1.035553</td><td>1.040981</td><td>1.041057</td><td>1.05621</td><td>1.015749</td></tr>\n",
       "</tbody>\n",
       "</table>\n"
      ],
      "text/latex": [
       "A data.frame: 6 × 11\n",
       "\\begin{tabular}{r|lllllllllll}\n",
       "  & Date & 5Day\\%Change\\_IBM & 5Day\\%Change\\_MSFT & 5Day\\%Change\\_GOOG & 5Day\\%Change\\_AAPL & 5Day\\%Change\\_AMZN & 5Day\\%Change\\_FB & 5Day\\%Change\\_NFLX & 5Day\\%Change\\_TSLA & 5Day\\%Change\\_ORCL & 5Day\\%Change\\_SAP\\\\\n",
       "  & <date> & <dbl> & <dbl> & <dbl> & <dbl> & <dbl> & <dbl> & <dbl> & <dbl> & <dbl> & <dbl>\\\\\n",
       "\\hline\n",
       "\t1 & 2018-01-02 &       NA &       NA &       NA &       NA &       NA &       NA &       NA &       NA &      NA &       NA\\\\\n",
       "\t2 & 2018-01-03 &       NA &       NA &       NA &       NA &       NA &       NA &       NA &       NA &      NA &       NA\\\\\n",
       "\t3 & 2018-01-04 &       NA &       NA &       NA &       NA &       NA &       NA &       NA &       NA &      NA &       NA\\\\\n",
       "\t4 & 2018-01-05 &       NA &       NA &       NA &       NA &       NA &       NA &       NA &       NA &      NA &       NA\\\\\n",
       "\t5 & 2018-01-08 &       NA &       NA &       NA &       NA &       NA &       NA &       NA &       NA &      NA &       NA\\\\\n",
       "\t6 & 2018-01-09 & 1.062107 & 1.026411 & 1.038742 & 1.012017 & 1.053566 & 1.035553 & 1.040981 & 1.041057 & 1.05621 & 1.015749\\\\\n",
       "\\end{tabular}\n"
      ],
      "text/markdown": [
       "\n",
       "A data.frame: 6 × 11\n",
       "\n",
       "| <!--/--> | Date &lt;date&gt; | 5Day%Change_IBM &lt;dbl&gt; | 5Day%Change_MSFT &lt;dbl&gt; | 5Day%Change_GOOG &lt;dbl&gt; | 5Day%Change_AAPL &lt;dbl&gt; | 5Day%Change_AMZN &lt;dbl&gt; | 5Day%Change_FB &lt;dbl&gt; | 5Day%Change_NFLX &lt;dbl&gt; | 5Day%Change_TSLA &lt;dbl&gt; | 5Day%Change_ORCL &lt;dbl&gt; | 5Day%Change_SAP &lt;dbl&gt; |\n",
       "|---|---|---|---|---|---|---|---|---|---|---|---|\n",
       "| 1 | 2018-01-02 |       NA |       NA |       NA |       NA |       NA |       NA |       NA |       NA |      NA |       NA |\n",
       "| 2 | 2018-01-03 |       NA |       NA |       NA |       NA |       NA |       NA |       NA |       NA |      NA |       NA |\n",
       "| 3 | 2018-01-04 |       NA |       NA |       NA |       NA |       NA |       NA |       NA |       NA |      NA |       NA |\n",
       "| 4 | 2018-01-05 |       NA |       NA |       NA |       NA |       NA |       NA |       NA |       NA |      NA |       NA |\n",
       "| 5 | 2018-01-08 |       NA |       NA |       NA |       NA |       NA |       NA |       NA |       NA |      NA |       NA |\n",
       "| 6 | 2018-01-09 | 1.062107 | 1.026411 | 1.038742 | 1.012017 | 1.053566 | 1.035553 | 1.040981 | 1.041057 | 1.05621 | 1.015749 |\n",
       "\n"
      ],
      "text/plain": [
       "  Date       5Day%Change_IBM 5Day%Change_MSFT 5Day%Change_GOOG 5Day%Change_AAPL\n",
       "1 2018-01-02       NA              NA               NA               NA        \n",
       "2 2018-01-03       NA              NA               NA               NA        \n",
       "3 2018-01-04       NA              NA               NA               NA        \n",
       "4 2018-01-05       NA              NA               NA               NA        \n",
       "5 2018-01-08       NA              NA               NA               NA        \n",
       "6 2018-01-09 1.062107        1.026411         1.038742         1.012017        \n",
       "  5Day%Change_AMZN 5Day%Change_FB 5Day%Change_NFLX 5Day%Change_TSLA\n",
       "1       NA               NA             NA               NA        \n",
       "2       NA               NA             NA               NA        \n",
       "3       NA               NA             NA               NA        \n",
       "4       NA               NA             NA               NA        \n",
       "5       NA               NA             NA               NA        \n",
       "6 1.053566         1.035553       1.040981         1.041057        \n",
       "  5Day%Change_ORCL 5Day%Change_SAP\n",
       "1      NA                NA       \n",
       "2      NA                NA       \n",
       "3      NA                NA       \n",
       "4      NA                NA       \n",
       "5      NA                NA       \n",
       "6 1.05621          1.015749       "
      ]
     },
     "metadata": {},
     "output_type": "display_data"
    }
   ],
   "source": [
    "head(percent_change_df)"
   ]
  },
  {
   "cell_type": "code",
   "execution_count": 152,
   "id": "a5e42a6c",
   "metadata": {},
   "outputs": [
    {
     "data": {
      "text/html": [
       "<table class=\"dataframe\">\n",
       "<caption>A data.frame: 6 × 11</caption>\n",
       "<thead>\n",
       "\t<tr><th></th><th scope=col>Date</th><th scope=col>5Day%Change_IBM</th><th scope=col>5Day%Change_MSFT</th><th scope=col>5Day%Change_GOOG</th><th scope=col>5Day%Change_AAPL</th><th scope=col>5Day%Change_AMZN</th><th scope=col>5Day%Change_FB</th><th scope=col>5Day%Change_NFLX</th><th scope=col>5Day%Change_TSLA</th><th scope=col>5Day%Change_ORCL</th><th scope=col>5Day%Change_SAP</th></tr>\n",
       "\t<tr><th></th><th scope=col>&lt;date&gt;</th><th scope=col>&lt;dbl&gt;</th><th scope=col>&lt;dbl&gt;</th><th scope=col>&lt;dbl&gt;</th><th scope=col>&lt;dbl&gt;</th><th scope=col>&lt;dbl&gt;</th><th scope=col>&lt;dbl&gt;</th><th scope=col>&lt;dbl&gt;</th><th scope=col>&lt;dbl&gt;</th><th scope=col>&lt;dbl&gt;</th><th scope=col>&lt;dbl&gt;</th></tr>\n",
       "</thead>\n",
       "<tbody>\n",
       "\t<tr><th scope=row>1</th><td>2018-01-02</td><td>       NA</td><td>       NA</td><td>       NA</td><td>       NA</td><td>       NA</td><td>       NA</td><td>       NA</td><td>       NA</td><td>       NA</td><td>       NA</td></tr>\n",
       "\t<tr><th scope=row>6</th><td>2018-01-09</td><td>1.0621071</td><td>1.0264109</td><td>1.0387418</td><td>1.0120167</td><td>1.0535655</td><td>1.0355528</td><td>1.0409807</td><td>1.0410569</td><td>1.0562096</td><td>1.0157488</td></tr>\n",
       "\t<tr><th scope=row>11</th><td>2018-01-17</td><td>1.0294209</td><td>1.0217636</td><td>1.0232495</td><td>1.0273620</td><td>1.0337671</td><td>0.9453346</td><td>1.0391286</td><td>1.0403668</td><td>1.0246636</td><td>0.9739838</td></tr>\n",
       "\t<tr><th scope=row>16</th><td>2018-01-24</td><td>0.9805513</td><td>1.0186376</td><td>1.0284988</td><td>0.9727527</td><td>1.0482703</td><td>1.0503941</td><td>1.2013793</td><td>0.9963418</td><td>1.0234733</td><td>1.0285998</td></tr>\n",
       "\t<tr><th scope=row>21</th><td>2018-01-31</td><td>0.9899017</td><td>1.0347420</td><td>1.0048959</td><td>0.9610261</td><td>1.0687877</td><td>1.0018225</td><td>1.0344432</td><td>1.0243430</td><td>1.0027212</td><td>0.9902072</td></tr>\n",
       "\t<tr><th scope=row>26</th><td>2018-02-07</td><td>0.9398289</td><td>0.9431641</td><td>0.8962682</td><td>0.9528759</td><td>0.9764902</td><td>0.9640965</td><td>0.9787644</td><td>0.9737236</td><td>0.9472765</td><td>0.9279470</td></tr>\n",
       "</tbody>\n",
       "</table>\n"
      ],
      "text/latex": [
       "A data.frame: 6 × 11\n",
       "\\begin{tabular}{r|lllllllllll}\n",
       "  & Date & 5Day\\%Change\\_IBM & 5Day\\%Change\\_MSFT & 5Day\\%Change\\_GOOG & 5Day\\%Change\\_AAPL & 5Day\\%Change\\_AMZN & 5Day\\%Change\\_FB & 5Day\\%Change\\_NFLX & 5Day\\%Change\\_TSLA & 5Day\\%Change\\_ORCL & 5Day\\%Change\\_SAP\\\\\n",
       "  & <date> & <dbl> & <dbl> & <dbl> & <dbl> & <dbl> & <dbl> & <dbl> & <dbl> & <dbl> & <dbl>\\\\\n",
       "\\hline\n",
       "\t1 & 2018-01-02 &        NA &        NA &        NA &        NA &        NA &        NA &        NA &        NA &        NA &        NA\\\\\n",
       "\t6 & 2018-01-09 & 1.0621071 & 1.0264109 & 1.0387418 & 1.0120167 & 1.0535655 & 1.0355528 & 1.0409807 & 1.0410569 & 1.0562096 & 1.0157488\\\\\n",
       "\t11 & 2018-01-17 & 1.0294209 & 1.0217636 & 1.0232495 & 1.0273620 & 1.0337671 & 0.9453346 & 1.0391286 & 1.0403668 & 1.0246636 & 0.9739838\\\\\n",
       "\t16 & 2018-01-24 & 0.9805513 & 1.0186376 & 1.0284988 & 0.9727527 & 1.0482703 & 1.0503941 & 1.2013793 & 0.9963418 & 1.0234733 & 1.0285998\\\\\n",
       "\t21 & 2018-01-31 & 0.9899017 & 1.0347420 & 1.0048959 & 0.9610261 & 1.0687877 & 1.0018225 & 1.0344432 & 1.0243430 & 1.0027212 & 0.9902072\\\\\n",
       "\t26 & 2018-02-07 & 0.9398289 & 0.9431641 & 0.8962682 & 0.9528759 & 0.9764902 & 0.9640965 & 0.9787644 & 0.9737236 & 0.9472765 & 0.9279470\\\\\n",
       "\\end{tabular}\n"
      ],
      "text/markdown": [
       "\n",
       "A data.frame: 6 × 11\n",
       "\n",
       "| <!--/--> | Date &lt;date&gt; | 5Day%Change_IBM &lt;dbl&gt; | 5Day%Change_MSFT &lt;dbl&gt; | 5Day%Change_GOOG &lt;dbl&gt; | 5Day%Change_AAPL &lt;dbl&gt; | 5Day%Change_AMZN &lt;dbl&gt; | 5Day%Change_FB &lt;dbl&gt; | 5Day%Change_NFLX &lt;dbl&gt; | 5Day%Change_TSLA &lt;dbl&gt; | 5Day%Change_ORCL &lt;dbl&gt; | 5Day%Change_SAP &lt;dbl&gt; |\n",
       "|---|---|---|---|---|---|---|---|---|---|---|---|\n",
       "| 1 | 2018-01-02 |        NA |        NA |        NA |        NA |        NA |        NA |        NA |        NA |        NA |        NA |\n",
       "| 6 | 2018-01-09 | 1.0621071 | 1.0264109 | 1.0387418 | 1.0120167 | 1.0535655 | 1.0355528 | 1.0409807 | 1.0410569 | 1.0562096 | 1.0157488 |\n",
       "| 11 | 2018-01-17 | 1.0294209 | 1.0217636 | 1.0232495 | 1.0273620 | 1.0337671 | 0.9453346 | 1.0391286 | 1.0403668 | 1.0246636 | 0.9739838 |\n",
       "| 16 | 2018-01-24 | 0.9805513 | 1.0186376 | 1.0284988 | 0.9727527 | 1.0482703 | 1.0503941 | 1.2013793 | 0.9963418 | 1.0234733 | 1.0285998 |\n",
       "| 21 | 2018-01-31 | 0.9899017 | 1.0347420 | 1.0048959 | 0.9610261 | 1.0687877 | 1.0018225 | 1.0344432 | 1.0243430 | 1.0027212 | 0.9902072 |\n",
       "| 26 | 2018-02-07 | 0.9398289 | 0.9431641 | 0.8962682 | 0.9528759 | 0.9764902 | 0.9640965 | 0.9787644 | 0.9737236 | 0.9472765 | 0.9279470 |\n",
       "\n"
      ],
      "text/plain": [
       "   Date       5Day%Change_IBM 5Day%Change_MSFT 5Day%Change_GOOG\n",
       "1  2018-01-02        NA              NA               NA       \n",
       "6  2018-01-09 1.0621071       1.0264109        1.0387418       \n",
       "11 2018-01-17 1.0294209       1.0217636        1.0232495       \n",
       "16 2018-01-24 0.9805513       1.0186376        1.0284988       \n",
       "21 2018-01-31 0.9899017       1.0347420        1.0048959       \n",
       "26 2018-02-07 0.9398289       0.9431641        0.8962682       \n",
       "   5Day%Change_AAPL 5Day%Change_AMZN 5Day%Change_FB 5Day%Change_NFLX\n",
       "1         NA               NA               NA             NA       \n",
       "6  1.0120167        1.0535655        1.0355528      1.0409807       \n",
       "11 1.0273620        1.0337671        0.9453346      1.0391286       \n",
       "16 0.9727527        1.0482703        1.0503941      1.2013793       \n",
       "21 0.9610261        1.0687877        1.0018225      1.0344432       \n",
       "26 0.9528759        0.9764902        0.9640965      0.9787644       \n",
       "   5Day%Change_TSLA 5Day%Change_ORCL 5Day%Change_SAP\n",
       "1         NA               NA               NA      \n",
       "6  1.0410569        1.0562096        1.0157488      \n",
       "11 1.0403668        1.0246636        0.9739838      \n",
       "16 0.9963418        1.0234733        1.0285998      \n",
       "21 1.0243430        1.0027212        0.9902072      \n",
       "26 0.9737236        0.9472765        0.9279470      "
      ]
     },
     "metadata": {},
     "output_type": "display_data"
    }
   ],
   "source": [
    "#selling days \n",
    "every_fifth_day= percent_change_df[seq(1, nrow(df), 5), ]\n",
    "head(every_fifth_day)"
   ]
  },
  {
   "cell_type": "code",
   "execution_count": 153,
   "id": "e805ab3a",
   "metadata": {},
   "outputs": [],
   "source": [
    "#first step in getting the 5 stocks to buy on these days \n",
    "purchases = apply(every_fifth_day[2:length(every_fifth_day)], 1, function(row)head(sort(row),5))"
   ]
  },
  {
   "cell_type": "code",
   "execution_count": 154,
   "id": "09d5f89c",
   "metadata": {},
   "outputs": [
    {
     "data": {
      "text/html": [
       "<dl>\n",
       "\t<dt>$`1`</dt>\n",
       "\t\t<dd></dd>\n",
       "\t<dt>$`6`</dt>\n",
       "\t\t<dd><style>\n",
       ".dl-inline {width: auto; margin:0; padding: 0}\n",
       ".dl-inline>dt, .dl-inline>dd {float: none; width: auto; display: inline-block}\n",
       ".dl-inline>dt::after {content: \":\\0020\"; padding-right: .5ex}\n",
       ".dl-inline>dt:not(:first-of-type) {padding-left: .5ex}\n",
       "</style><dl class=dl-inline><dt>5Day%Change_AAPL</dt><dd>1.01201670108895</dd><dt>5Day%Change_SAP</dt><dd>1.0157488052029</dd><dt>5Day%Change_MSFT</dt><dd>1.02641089956483</dd><dt>5Day%Change_FB</dt><dd>1.0355528446208</dd><dt>5Day%Change_GOOG</dt><dd>1.03874178403756</dd></dl>\n",
       "</dd>\n",
       "</dl>\n"
      ],
      "text/latex": [
       "\\begin{description}\n",
       "\\item[\\$`1`] \n",
       "\\item[\\$`6`] \\begin{description*}\n",
       "\\item[5Day\\textbackslash{}\\%Change\\textbackslash{}\\_AAPL] 1.01201670108895\n",
       "\\item[5Day\\textbackslash{}\\%Change\\textbackslash{}\\_SAP] 1.0157488052029\n",
       "\\item[5Day\\textbackslash{}\\%Change\\textbackslash{}\\_MSFT] 1.02641089956483\n",
       "\\item[5Day\\textbackslash{}\\%Change\\textbackslash{}\\_FB] 1.0355528446208\n",
       "\\item[5Day\\textbackslash{}\\%Change\\textbackslash{}\\_GOOG] 1.03874178403756\n",
       "\\end{description*}\n",
       "\n",
       "\\end{description}\n"
      ],
      "text/markdown": [
       "$`1`\n",
       ":   \n",
       "$`6`\n",
       ":   5Day%Change_AAPL\n",
       ":   1.012016701088955Day%Change_SAP\n",
       ":   1.01574880520295Day%Change_MSFT\n",
       ":   1.026410899564835Day%Change_FB\n",
       ":   1.03555284462085Day%Change_GOOG\n",
       ":   1.03874178403756\n",
       "\n",
       "\n",
       "\n",
       "\n"
      ],
      "text/plain": [
       "$`1`\n",
       "named numeric(0)\n",
       "\n",
       "$`6`\n",
       "5Day%Change_AAPL  5Day%Change_SAP 5Day%Change_MSFT   5Day%Change_FB \n",
       "        1.012017         1.015749         1.026411         1.035553 \n",
       "5Day%Change_GOOG \n",
       "        1.038742 \n"
      ]
     },
     "metadata": {},
     "output_type": "display_data"
    }
   ],
   "source": [
    "head(purchases,2)"
   ]
  },
  {
   "cell_type": "code",
   "execution_count": 155,
   "id": "6406511b",
   "metadata": {},
   "outputs": [],
   "source": [
    "#extract names of tickers for each rebalance day \n",
    "x = lapply(purchases, function(inner_list) {\n",
    "  lapply(names(inner_list), function(subname) {\n",
    "    return(subname)\n",
    "  })\n",
    "})"
   ]
  },
  {
   "cell_type": "code",
   "execution_count": 156,
   "id": "a41e3f91",
   "metadata": {},
   "outputs": [
    {
     "data": {
      "text/html": [
       "<dl>\n",
       "\t<dt>$`1`</dt>\n",
       "\t\t<dd><ol>\n",
       "</ol>\n",
       "</dd>\n",
       "\t<dt>$`6`</dt>\n",
       "\t\t<dd><ol>\n",
       "\t<li>'5Day%Change_AAPL'</li>\n",
       "\t<li>'5Day%Change_SAP'</li>\n",
       "\t<li>'5Day%Change_MSFT'</li>\n",
       "\t<li>'5Day%Change_FB'</li>\n",
       "\t<li>'5Day%Change_GOOG'</li>\n",
       "</ol>\n",
       "</dd>\n",
       "</dl>\n"
      ],
      "text/latex": [
       "\\begin{description}\n",
       "\\item[\\$`1`] \\begin{enumerate}\n",
       "\\end{enumerate}\n",
       "\n",
       "\\item[\\$`6`] \\begin{enumerate}\n",
       "\\item '5Day\\%Change\\_AAPL'\n",
       "\\item '5Day\\%Change\\_SAP'\n",
       "\\item '5Day\\%Change\\_MSFT'\n",
       "\\item '5Day\\%Change\\_FB'\n",
       "\\item '5Day\\%Change\\_GOOG'\n",
       "\\end{enumerate}\n",
       "\n",
       "\\end{description}\n"
      ],
      "text/markdown": [
       "$`1`\n",
       ":   \n",
       "\n",
       "\n",
       "$`6`\n",
       ":   1. '5Day%Change_AAPL'\n",
       "2. '5Day%Change_SAP'\n",
       "3. '5Day%Change_MSFT'\n",
       "4. '5Day%Change_FB'\n",
       "5. '5Day%Change_GOOG'\n",
       "\n",
       "\n",
       "\n",
       "\n",
       "\n"
      ],
      "text/plain": [
       "$`1`\n",
       "list()\n",
       "\n",
       "$`6`\n",
       "$`6`[[1]]\n",
       "[1] \"5Day%Change_AAPL\"\n",
       "\n",
       "$`6`[[2]]\n",
       "[1] \"5Day%Change_SAP\"\n",
       "\n",
       "$`6`[[3]]\n",
       "[1] \"5Day%Change_MSFT\"\n",
       "\n",
       "$`6`[[4]]\n",
       "[1] \"5Day%Change_FB\"\n",
       "\n",
       "$`6`[[5]]\n",
       "[1] \"5Day%Change_GOOG\"\n",
       "\n"
      ]
     },
     "metadata": {},
     "output_type": "display_data"
    }
   ],
   "source": [
    "head(x,2)"
   ]
  },
  {
   "cell_type": "code",
   "execution_count": 157,
   "id": "638606a6",
   "metadata": {},
   "outputs": [],
   "source": [
    "#extracting names continued \n",
    "company_names = c()\n",
    "for (element in x){\n",
    "    for (company in element){\n",
    "        name = str_remove(company, \"5Day%Change_\")\n",
    "        company_names = c(company_names, name)\n",
    "    }\n",
    "}"
   ]
  },
  {
   "cell_type": "code",
   "execution_count": 158,
   "id": "e0951f7c",
   "metadata": {},
   "outputs": [
    {
     "data": {
      "text/html": [
       "<style>\n",
       ".list-inline {list-style: none; margin:0; padding: 0}\n",
       ".list-inline>li {display: inline-block}\n",
       ".list-inline>li:not(:last-child)::after {content: \"\\00b7\"; padding: 0 .5ex}\n",
       "</style>\n",
       "<ol class=list-inline><li>'AAPL'</li><li>'SAP'</li><li>'MSFT'</li></ol>\n"
      ],
      "text/latex": [
       "\\begin{enumerate*}\n",
       "\\item 'AAPL'\n",
       "\\item 'SAP'\n",
       "\\item 'MSFT'\n",
       "\\end{enumerate*}\n"
      ],
      "text/markdown": [
       "1. 'AAPL'\n",
       "2. 'SAP'\n",
       "3. 'MSFT'\n",
       "\n",
       "\n"
      ],
      "text/plain": [
       "[1] \"AAPL\" \"SAP\"  \"MSFT\""
      ]
     },
     "metadata": {},
     "output_type": "display_data"
    }
   ],
   "source": [
    "head(company_names,3)"
   ]
  },
  {
   "cell_type": "code",
   "execution_count": 159,
   "id": "aebe6397",
   "metadata": {},
   "outputs": [],
   "source": [
    "#organize the names of the stocks to buy/sell, along with the respective dates, into one df \n",
    "buy = data.frame(Date = every_fifth_day$Date[-1],matrix(company_names, ncol=5, byrow=TRUE))\n",
    "names(buy) = c(\"Date\",\"Buy1\",\"Buy2\",\"Buy3\",\"Buy4\",\"Buy5\")\n",
    "buy = mutate(buy, Sell1 = c(NA,head(buy$Buy1, -1)))\n",
    "buy =mutate(buy, Sell2 = c(NA,head(buy$Buy2, -1)))\n",
    "buy = mutate(buy, Sell3 = c(NA,head(buy$Buy3, -1)))\n",
    "buy= mutate(buy, Sell4 = c(NA,head(buy$Buy4, -1)))\n",
    "buy = mutate(buy, Sell5 = c(NA,head(buy$Buy5, -1)))"
   ]
  },
  {
   "cell_type": "code",
   "execution_count": 160,
   "id": "6d3aaaed",
   "metadata": {
    "scrolled": true
   },
   "outputs": [
    {
     "data": {
      "text/html": [
       "<table class=\"dataframe\">\n",
       "<caption>A data.frame: 6 × 11</caption>\n",
       "<thead>\n",
       "\t<tr><th></th><th scope=col>Date</th><th scope=col>IBM</th><th scope=col>MSFT</th><th scope=col>GOOG</th><th scope=col>AAPL</th><th scope=col>AMZN</th><th scope=col>FB</th><th scope=col>NFLX</th><th scope=col>TSLA</th><th scope=col>ORCL</th><th scope=col>SAP</th></tr>\n",
       "\t<tr><th></th><th scope=col>&lt;date&gt;</th><th scope=col>&lt;dbl&gt;</th><th scope=col>&lt;dbl&gt;</th><th scope=col>&lt;dbl&gt;</th><th scope=col>&lt;dbl&gt;</th><th scope=col>&lt;dbl&gt;</th><th scope=col>&lt;dbl&gt;</th><th scope=col>&lt;dbl&gt;</th><th scope=col>&lt;dbl&gt;</th><th scope=col>&lt;dbl&gt;</th><th scope=col>&lt;dbl&gt;</th></tr>\n",
       "</thead>\n",
       "<tbody>\n",
       "\t<tr><th scope=row>1</th><td>2018-01-02</td><td>147.4665</td><td>85.95</td><td>53.250</td><td>43.0650</td><td>59.4505</td><td>181.42</td><td>201.07</td><td>21.36867</td><td>46.63</td><td>112.39</td></tr>\n",
       "\t<tr><th scope=row>6</th><td>2018-01-09</td><td>156.6252</td><td>88.22</td><td>55.313</td><td>43.5825</td><td>62.6350</td><td>187.87</td><td>209.31</td><td>22.24600</td><td>49.06</td><td>114.16</td></tr>\n",
       "\t<tr><th scope=row>11</th><td>2018-01-17</td><td>161.2333</td><td>90.14</td><td>56.599</td><td>44.7750</td><td>64.7500</td><td>177.60</td><td>217.50</td><td>23.14400</td><td>50.27</td><td>111.19</td></tr>\n",
       "\t<tr><th scope=row>16</th><td>2018-01-24</td><td>158.0975</td><td>91.82</td><td>58.212</td><td>43.5550</td><td>67.8755</td><td>186.55</td><td>261.30</td><td>23.05933</td><td>51.45</td><td>114.37</td></tr>\n",
       "\t<tr><th scope=row>21</th><td>2018-01-31</td><td>156.5010</td><td>95.01</td><td>58.497</td><td>41.8575</td><td>72.5445</td><td>186.89</td><td>270.30</td><td>23.62067</td><td>51.59</td><td>113.25</td></tr>\n",
       "\t<tr><th scope=row>26</th><td>2018-02-07</td><td>147.0841</td><td>89.61</td><td>52.429</td><td>39.8850</td><td>70.8390</td><td>180.18</td><td>264.56</td><td>23.00000</td><td>48.87</td><td>105.09</td></tr>\n",
       "</tbody>\n",
       "</table>\n"
      ],
      "text/latex": [
       "A data.frame: 6 × 11\n",
       "\\begin{tabular}{r|lllllllllll}\n",
       "  & Date & IBM & MSFT & GOOG & AAPL & AMZN & FB & NFLX & TSLA & ORCL & SAP\\\\\n",
       "  & <date> & <dbl> & <dbl> & <dbl> & <dbl> & <dbl> & <dbl> & <dbl> & <dbl> & <dbl> & <dbl>\\\\\n",
       "\\hline\n",
       "\t1 & 2018-01-02 & 147.4665 & 85.95 & 53.250 & 43.0650 & 59.4505 & 181.42 & 201.07 & 21.36867 & 46.63 & 112.39\\\\\n",
       "\t6 & 2018-01-09 & 156.6252 & 88.22 & 55.313 & 43.5825 & 62.6350 & 187.87 & 209.31 & 22.24600 & 49.06 & 114.16\\\\\n",
       "\t11 & 2018-01-17 & 161.2333 & 90.14 & 56.599 & 44.7750 & 64.7500 & 177.60 & 217.50 & 23.14400 & 50.27 & 111.19\\\\\n",
       "\t16 & 2018-01-24 & 158.0975 & 91.82 & 58.212 & 43.5550 & 67.8755 & 186.55 & 261.30 & 23.05933 & 51.45 & 114.37\\\\\n",
       "\t21 & 2018-01-31 & 156.5010 & 95.01 & 58.497 & 41.8575 & 72.5445 & 186.89 & 270.30 & 23.62067 & 51.59 & 113.25\\\\\n",
       "\t26 & 2018-02-07 & 147.0841 & 89.61 & 52.429 & 39.8850 & 70.8390 & 180.18 & 264.56 & 23.00000 & 48.87 & 105.09\\\\\n",
       "\\end{tabular}\n"
      ],
      "text/markdown": [
       "\n",
       "A data.frame: 6 × 11\n",
       "\n",
       "| <!--/--> | Date &lt;date&gt; | IBM &lt;dbl&gt; | MSFT &lt;dbl&gt; | GOOG &lt;dbl&gt; | AAPL &lt;dbl&gt; | AMZN &lt;dbl&gt; | FB &lt;dbl&gt; | NFLX &lt;dbl&gt; | TSLA &lt;dbl&gt; | ORCL &lt;dbl&gt; | SAP &lt;dbl&gt; |\n",
       "|---|---|---|---|---|---|---|---|---|---|---|---|\n",
       "| 1 | 2018-01-02 | 147.4665 | 85.95 | 53.250 | 43.0650 | 59.4505 | 181.42 | 201.07 | 21.36867 | 46.63 | 112.39 |\n",
       "| 6 | 2018-01-09 | 156.6252 | 88.22 | 55.313 | 43.5825 | 62.6350 | 187.87 | 209.31 | 22.24600 | 49.06 | 114.16 |\n",
       "| 11 | 2018-01-17 | 161.2333 | 90.14 | 56.599 | 44.7750 | 64.7500 | 177.60 | 217.50 | 23.14400 | 50.27 | 111.19 |\n",
       "| 16 | 2018-01-24 | 158.0975 | 91.82 | 58.212 | 43.5550 | 67.8755 | 186.55 | 261.30 | 23.05933 | 51.45 | 114.37 |\n",
       "| 21 | 2018-01-31 | 156.5010 | 95.01 | 58.497 | 41.8575 | 72.5445 | 186.89 | 270.30 | 23.62067 | 51.59 | 113.25 |\n",
       "| 26 | 2018-02-07 | 147.0841 | 89.61 | 52.429 | 39.8850 | 70.8390 | 180.18 | 264.56 | 23.00000 | 48.87 | 105.09 |\n",
       "\n"
      ],
      "text/plain": [
       "   Date       IBM      MSFT  GOOG   AAPL    AMZN    FB     NFLX   TSLA    \n",
       "1  2018-01-02 147.4665 85.95 53.250 43.0650 59.4505 181.42 201.07 21.36867\n",
       "6  2018-01-09 156.6252 88.22 55.313 43.5825 62.6350 187.87 209.31 22.24600\n",
       "11 2018-01-17 161.2333 90.14 56.599 44.7750 64.7500 177.60 217.50 23.14400\n",
       "16 2018-01-24 158.0975 91.82 58.212 43.5550 67.8755 186.55 261.30 23.05933\n",
       "21 2018-01-31 156.5010 95.01 58.497 41.8575 72.5445 186.89 270.30 23.62067\n",
       "26 2018-02-07 147.0841 89.61 52.429 39.8850 70.8390 180.18 264.56 23.00000\n",
       "   ORCL  SAP   \n",
       "1  46.63 112.39\n",
       "6  49.06 114.16\n",
       "11 50.27 111.19\n",
       "16 51.45 114.37\n",
       "21 51.59 113.25\n",
       "26 48.87 105.09"
      ]
     },
     "metadata": {},
     "output_type": "display_data"
    }
   ],
   "source": [
    "#pull the close prices \n",
    "close_prices = prices[,c(1,seq(2,21,2))]\n",
    "names(close_prices) = c('Date', universe)\n",
    "head(close_prices)"
   ]
  },
  {
   "cell_type": "code",
   "execution_count": 161,
   "id": "86f5ffaf",
   "metadata": {
    "scrolled": true
   },
   "outputs": [
    {
     "data": {
      "text/html": [
       "<table class=\"dataframe\">\n",
       "<caption>A data.frame: 6 × 11</caption>\n",
       "<thead>\n",
       "\t<tr><th></th><th scope=col>Date</th><th scope=col>Buy1</th><th scope=col>Buy2</th><th scope=col>Buy3</th><th scope=col>Buy4</th><th scope=col>Buy5</th><th scope=col>Sell1</th><th scope=col>Sell2</th><th scope=col>Sell3</th><th scope=col>Sell4</th><th scope=col>Sell5</th></tr>\n",
       "\t<tr><th></th><th scope=col>&lt;date&gt;</th><th scope=col>&lt;chr&gt;</th><th scope=col>&lt;chr&gt;</th><th scope=col>&lt;chr&gt;</th><th scope=col>&lt;chr&gt;</th><th scope=col>&lt;chr&gt;</th><th scope=col>&lt;chr&gt;</th><th scope=col>&lt;chr&gt;</th><th scope=col>&lt;chr&gt;</th><th scope=col>&lt;chr&gt;</th><th scope=col>&lt;chr&gt;</th></tr>\n",
       "</thead>\n",
       "<tbody>\n",
       "\t<tr><th scope=row>1</th><td>2018-01-09</td><td>AAPL</td><td>SAP</td><td>MSFT</td><td>FB  </td><td>GOOG</td><td>NA  </td><td>NA </td><td>NA  </td><td>NA  </td><td>NA  </td></tr>\n",
       "\t<tr><th scope=row>2</th><td>2018-01-17</td><td>FB  </td><td>SAP</td><td>MSFT</td><td>GOOG</td><td>ORCL</td><td>AAPL</td><td>SAP</td><td>MSFT</td><td>FB  </td><td>GOOG</td></tr>\n",
       "\t<tr><th scope=row>3</th><td>2018-01-24</td><td>AAPL</td><td>IBM</td><td>TSLA</td><td>MSFT</td><td>ORCL</td><td>FB  </td><td>SAP</td><td>MSFT</td><td>GOOG</td><td>ORCL</td></tr>\n",
       "\t<tr><th scope=row>4</th><td>2018-01-31</td><td>AAPL</td><td>IBM</td><td>SAP </td><td>FB  </td><td>ORCL</td><td>AAPL</td><td>IBM</td><td>TSLA</td><td>MSFT</td><td>ORCL</td></tr>\n",
       "\t<tr><th scope=row>5</th><td>2018-02-07</td><td>GOOG</td><td>SAP</td><td>IBM </td><td>MSFT</td><td>ORCL</td><td>AAPL</td><td>IBM</td><td>SAP </td><td>FB  </td><td>ORCL</td></tr>\n",
       "\t<tr><th scope=row>6</th><td>2018-02-14</td><td>TSLA</td><td>FB </td><td>SAP </td><td>NFLX</td><td>ORCL</td><td>GOOG</td><td>SAP</td><td>IBM </td><td>MSFT</td><td>ORCL</td></tr>\n",
       "</tbody>\n",
       "</table>\n"
      ],
      "text/latex": [
       "A data.frame: 6 × 11\n",
       "\\begin{tabular}{r|lllllllllll}\n",
       "  & Date & Buy1 & Buy2 & Buy3 & Buy4 & Buy5 & Sell1 & Sell2 & Sell3 & Sell4 & Sell5\\\\\n",
       "  & <date> & <chr> & <chr> & <chr> & <chr> & <chr> & <chr> & <chr> & <chr> & <chr> & <chr>\\\\\n",
       "\\hline\n",
       "\t1 & 2018-01-09 & AAPL & SAP & MSFT & FB   & GOOG & NA   & NA  & NA   & NA   & NA  \\\\\n",
       "\t2 & 2018-01-17 & FB   & SAP & MSFT & GOOG & ORCL & AAPL & SAP & MSFT & FB   & GOOG\\\\\n",
       "\t3 & 2018-01-24 & AAPL & IBM & TSLA & MSFT & ORCL & FB   & SAP & MSFT & GOOG & ORCL\\\\\n",
       "\t4 & 2018-01-31 & AAPL & IBM & SAP  & FB   & ORCL & AAPL & IBM & TSLA & MSFT & ORCL\\\\\n",
       "\t5 & 2018-02-07 & GOOG & SAP & IBM  & MSFT & ORCL & AAPL & IBM & SAP  & FB   & ORCL\\\\\n",
       "\t6 & 2018-02-14 & TSLA & FB  & SAP  & NFLX & ORCL & GOOG & SAP & IBM  & MSFT & ORCL\\\\\n",
       "\\end{tabular}\n"
      ],
      "text/markdown": [
       "\n",
       "A data.frame: 6 × 11\n",
       "\n",
       "| <!--/--> | Date &lt;date&gt; | Buy1 &lt;chr&gt; | Buy2 &lt;chr&gt; | Buy3 &lt;chr&gt; | Buy4 &lt;chr&gt; | Buy5 &lt;chr&gt; | Sell1 &lt;chr&gt; | Sell2 &lt;chr&gt; | Sell3 &lt;chr&gt; | Sell4 &lt;chr&gt; | Sell5 &lt;chr&gt; |\n",
       "|---|---|---|---|---|---|---|---|---|---|---|---|\n",
       "| 1 | 2018-01-09 | AAPL | SAP | MSFT | FB   | GOOG | NA   | NA  | NA   | NA   | NA   |\n",
       "| 2 | 2018-01-17 | FB   | SAP | MSFT | GOOG | ORCL | AAPL | SAP | MSFT | FB   | GOOG |\n",
       "| 3 | 2018-01-24 | AAPL | IBM | TSLA | MSFT | ORCL | FB   | SAP | MSFT | GOOG | ORCL |\n",
       "| 4 | 2018-01-31 | AAPL | IBM | SAP  | FB   | ORCL | AAPL | IBM | TSLA | MSFT | ORCL |\n",
       "| 5 | 2018-02-07 | GOOG | SAP | IBM  | MSFT | ORCL | AAPL | IBM | SAP  | FB   | ORCL |\n",
       "| 6 | 2018-02-14 | TSLA | FB  | SAP  | NFLX | ORCL | GOOG | SAP | IBM  | MSFT | ORCL |\n",
       "\n"
      ],
      "text/plain": [
       "  Date       Buy1 Buy2 Buy3 Buy4 Buy5 Sell1 Sell2 Sell3 Sell4 Sell5\n",
       "1 2018-01-09 AAPL SAP  MSFT FB   GOOG NA    NA    NA    NA    NA   \n",
       "2 2018-01-17 FB   SAP  MSFT GOOG ORCL AAPL  SAP   MSFT  FB    GOOG \n",
       "3 2018-01-24 AAPL IBM  TSLA MSFT ORCL FB    SAP   MSFT  GOOG  ORCL \n",
       "4 2018-01-31 AAPL IBM  SAP  FB   ORCL AAPL  IBM   TSLA  MSFT  ORCL \n",
       "5 2018-02-07 GOOG SAP  IBM  MSFT ORCL AAPL  IBM   SAP   FB    ORCL \n",
       "6 2018-02-14 TSLA FB   SAP  NFLX ORCL GOOG  SAP   IBM   MSFT  ORCL "
      ]
     },
     "metadata": {},
     "output_type": "display_data"
    }
   ],
   "source": [
    "head(buy)"
   ]
  },
  {
   "cell_type": "code",
   "execution_count": 162,
   "id": "53af95fb",
   "metadata": {},
   "outputs": [
    {
     "data": {
      "text/html": [
       "<table class=\"dataframe\">\n",
       "<caption>A data.frame: 6 × 21</caption>\n",
       "<thead>\n",
       "\t<tr><th></th><th scope=col>Date</th><th scope=col>Buy1</th><th scope=col>Buy2</th><th scope=col>Buy3</th><th scope=col>Buy4</th><th scope=col>Buy5</th><th scope=col>Sell1</th><th scope=col>Sell2</th><th scope=col>Sell3</th><th scope=col>Sell4</th><th scope=col>⋯</th><th scope=col>IBM</th><th scope=col>MSFT</th><th scope=col>GOOG</th><th scope=col>AAPL</th><th scope=col>AMZN</th><th scope=col>FB</th><th scope=col>NFLX</th><th scope=col>TSLA</th><th scope=col>ORCL</th><th scope=col>SAP</th></tr>\n",
       "\t<tr><th></th><th scope=col>&lt;date&gt;</th><th scope=col>&lt;chr&gt;</th><th scope=col>&lt;chr&gt;</th><th scope=col>&lt;chr&gt;</th><th scope=col>&lt;chr&gt;</th><th scope=col>&lt;chr&gt;</th><th scope=col>&lt;chr&gt;</th><th scope=col>&lt;chr&gt;</th><th scope=col>&lt;chr&gt;</th><th scope=col>&lt;chr&gt;</th><th scope=col>⋯</th><th scope=col>&lt;dbl&gt;</th><th scope=col>&lt;dbl&gt;</th><th scope=col>&lt;dbl&gt;</th><th scope=col>&lt;dbl&gt;</th><th scope=col>&lt;dbl&gt;</th><th scope=col>&lt;dbl&gt;</th><th scope=col>&lt;dbl&gt;</th><th scope=col>&lt;dbl&gt;</th><th scope=col>&lt;dbl&gt;</th><th scope=col>&lt;dbl&gt;</th></tr>\n",
       "</thead>\n",
       "<tbody>\n",
       "\t<tr><th scope=row>1</th><td>2018-01-09</td><td>AAPL</td><td>SAP</td><td>MSFT</td><td>FB  </td><td>GOOG</td><td>NA  </td><td>NA </td><td>NA  </td><td>NA  </td><td>⋯</td><td>156.6252</td><td>88.22</td><td>55.313</td><td>43.5825</td><td>62.6350</td><td>187.87</td><td>209.31</td><td>22.24600</td><td>49.06</td><td>114.16</td></tr>\n",
       "\t<tr><th scope=row>2</th><td>2018-01-17</td><td>FB  </td><td>SAP</td><td>MSFT</td><td>GOOG</td><td>ORCL</td><td>AAPL</td><td>SAP</td><td>MSFT</td><td>FB  </td><td>⋯</td><td>161.2333</td><td>90.14</td><td>56.599</td><td>44.7750</td><td>64.7500</td><td>177.60</td><td>217.50</td><td>23.14400</td><td>50.27</td><td>111.19</td></tr>\n",
       "\t<tr><th scope=row>3</th><td>2018-01-24</td><td>AAPL</td><td>IBM</td><td>TSLA</td><td>MSFT</td><td>ORCL</td><td>FB  </td><td>SAP</td><td>MSFT</td><td>GOOG</td><td>⋯</td><td>158.0975</td><td>91.82</td><td>58.212</td><td>43.5550</td><td>67.8755</td><td>186.55</td><td>261.30</td><td>23.05933</td><td>51.45</td><td>114.37</td></tr>\n",
       "\t<tr><th scope=row>4</th><td>2018-01-31</td><td>AAPL</td><td>IBM</td><td>SAP </td><td>FB  </td><td>ORCL</td><td>AAPL</td><td>IBM</td><td>TSLA</td><td>MSFT</td><td>⋯</td><td>156.5010</td><td>95.01</td><td>58.497</td><td>41.8575</td><td>72.5445</td><td>186.89</td><td>270.30</td><td>23.62067</td><td>51.59</td><td>113.25</td></tr>\n",
       "\t<tr><th scope=row>5</th><td>2018-02-07</td><td>GOOG</td><td>SAP</td><td>IBM </td><td>MSFT</td><td>ORCL</td><td>AAPL</td><td>IBM</td><td>SAP </td><td>FB  </td><td>⋯</td><td>147.0841</td><td>89.61</td><td>52.429</td><td>39.8850</td><td>70.8390</td><td>180.18</td><td>264.56</td><td>23.00000</td><td>48.87</td><td>105.09</td></tr>\n",
       "\t<tr><th scope=row>6</th><td>2018-02-14</td><td>TSLA</td><td>FB </td><td>SAP </td><td>NFLX</td><td>ORCL</td><td>GOOG</td><td>SAP</td><td>IBM </td><td>MSFT</td><td>⋯</td><td>147.9541</td><td>90.81</td><td>53.485</td><td>41.8425</td><td>72.5525</td><td>179.52</td><td>266.00</td><td>21.48733</td><td>49.45</td><td>105.13</td></tr>\n",
       "</tbody>\n",
       "</table>\n"
      ],
      "text/latex": [
       "A data.frame: 6 × 21\n",
       "\\begin{tabular}{r|lllllllllllllllllllll}\n",
       "  & Date & Buy1 & Buy2 & Buy3 & Buy4 & Buy5 & Sell1 & Sell2 & Sell3 & Sell4 & ⋯ & IBM & MSFT & GOOG & AAPL & AMZN & FB & NFLX & TSLA & ORCL & SAP\\\\\n",
       "  & <date> & <chr> & <chr> & <chr> & <chr> & <chr> & <chr> & <chr> & <chr> & <chr> & ⋯ & <dbl> & <dbl> & <dbl> & <dbl> & <dbl> & <dbl> & <dbl> & <dbl> & <dbl> & <dbl>\\\\\n",
       "\\hline\n",
       "\t1 & 2018-01-09 & AAPL & SAP & MSFT & FB   & GOOG & NA   & NA  & NA   & NA   & ⋯ & 156.6252 & 88.22 & 55.313 & 43.5825 & 62.6350 & 187.87 & 209.31 & 22.24600 & 49.06 & 114.16\\\\\n",
       "\t2 & 2018-01-17 & FB   & SAP & MSFT & GOOG & ORCL & AAPL & SAP & MSFT & FB   & ⋯ & 161.2333 & 90.14 & 56.599 & 44.7750 & 64.7500 & 177.60 & 217.50 & 23.14400 & 50.27 & 111.19\\\\\n",
       "\t3 & 2018-01-24 & AAPL & IBM & TSLA & MSFT & ORCL & FB   & SAP & MSFT & GOOG & ⋯ & 158.0975 & 91.82 & 58.212 & 43.5550 & 67.8755 & 186.55 & 261.30 & 23.05933 & 51.45 & 114.37\\\\\n",
       "\t4 & 2018-01-31 & AAPL & IBM & SAP  & FB   & ORCL & AAPL & IBM & TSLA & MSFT & ⋯ & 156.5010 & 95.01 & 58.497 & 41.8575 & 72.5445 & 186.89 & 270.30 & 23.62067 & 51.59 & 113.25\\\\\n",
       "\t5 & 2018-02-07 & GOOG & SAP & IBM  & MSFT & ORCL & AAPL & IBM & SAP  & FB   & ⋯ & 147.0841 & 89.61 & 52.429 & 39.8850 & 70.8390 & 180.18 & 264.56 & 23.00000 & 48.87 & 105.09\\\\\n",
       "\t6 & 2018-02-14 & TSLA & FB  & SAP  & NFLX & ORCL & GOOG & SAP & IBM  & MSFT & ⋯ & 147.9541 & 90.81 & 53.485 & 41.8425 & 72.5525 & 179.52 & 266.00 & 21.48733 & 49.45 & 105.13\\\\\n",
       "\\end{tabular}\n"
      ],
      "text/markdown": [
       "\n",
       "A data.frame: 6 × 21\n",
       "\n",
       "| <!--/--> | Date &lt;date&gt; | Buy1 &lt;chr&gt; | Buy2 &lt;chr&gt; | Buy3 &lt;chr&gt; | Buy4 &lt;chr&gt; | Buy5 &lt;chr&gt; | Sell1 &lt;chr&gt; | Sell2 &lt;chr&gt; | Sell3 &lt;chr&gt; | Sell4 &lt;chr&gt; | ⋯ ⋯ | IBM &lt;dbl&gt; | MSFT &lt;dbl&gt; | GOOG &lt;dbl&gt; | AAPL &lt;dbl&gt; | AMZN &lt;dbl&gt; | FB &lt;dbl&gt; | NFLX &lt;dbl&gt; | TSLA &lt;dbl&gt; | ORCL &lt;dbl&gt; | SAP &lt;dbl&gt; |\n",
       "|---|---|---|---|---|---|---|---|---|---|---|---|---|---|---|---|---|---|---|---|---|---|\n",
       "| 1 | 2018-01-09 | AAPL | SAP | MSFT | FB   | GOOG | NA   | NA  | NA   | NA   | ⋯ | 156.6252 | 88.22 | 55.313 | 43.5825 | 62.6350 | 187.87 | 209.31 | 22.24600 | 49.06 | 114.16 |\n",
       "| 2 | 2018-01-17 | FB   | SAP | MSFT | GOOG | ORCL | AAPL | SAP | MSFT | FB   | ⋯ | 161.2333 | 90.14 | 56.599 | 44.7750 | 64.7500 | 177.60 | 217.50 | 23.14400 | 50.27 | 111.19 |\n",
       "| 3 | 2018-01-24 | AAPL | IBM | TSLA | MSFT | ORCL | FB   | SAP | MSFT | GOOG | ⋯ | 158.0975 | 91.82 | 58.212 | 43.5550 | 67.8755 | 186.55 | 261.30 | 23.05933 | 51.45 | 114.37 |\n",
       "| 4 | 2018-01-31 | AAPL | IBM | SAP  | FB   | ORCL | AAPL | IBM | TSLA | MSFT | ⋯ | 156.5010 | 95.01 | 58.497 | 41.8575 | 72.5445 | 186.89 | 270.30 | 23.62067 | 51.59 | 113.25 |\n",
       "| 5 | 2018-02-07 | GOOG | SAP | IBM  | MSFT | ORCL | AAPL | IBM | SAP  | FB   | ⋯ | 147.0841 | 89.61 | 52.429 | 39.8850 | 70.8390 | 180.18 | 264.56 | 23.00000 | 48.87 | 105.09 |\n",
       "| 6 | 2018-02-14 | TSLA | FB  | SAP  | NFLX | ORCL | GOOG | SAP | IBM  | MSFT | ⋯ | 147.9541 | 90.81 | 53.485 | 41.8425 | 72.5525 | 179.52 | 266.00 | 21.48733 | 49.45 | 105.13 |\n",
       "\n"
      ],
      "text/plain": [
       "  Date       Buy1 Buy2 Buy3 Buy4 Buy5 Sell1 Sell2 Sell3 Sell4 ⋯ IBM      MSFT \n",
       "1 2018-01-09 AAPL SAP  MSFT FB   GOOG NA    NA    NA    NA    ⋯ 156.6252 88.22\n",
       "2 2018-01-17 FB   SAP  MSFT GOOG ORCL AAPL  SAP   MSFT  FB    ⋯ 161.2333 90.14\n",
       "3 2018-01-24 AAPL IBM  TSLA MSFT ORCL FB    SAP   MSFT  GOOG  ⋯ 158.0975 91.82\n",
       "4 2018-01-31 AAPL IBM  SAP  FB   ORCL AAPL  IBM   TSLA  MSFT  ⋯ 156.5010 95.01\n",
       "5 2018-02-07 GOOG SAP  IBM  MSFT ORCL AAPL  IBM   SAP   FB    ⋯ 147.0841 89.61\n",
       "6 2018-02-14 TSLA FB   SAP  NFLX ORCL GOOG  SAP   IBM   MSFT  ⋯ 147.9541 90.81\n",
       "  GOOG   AAPL    AMZN    FB     NFLX   TSLA     ORCL  SAP   \n",
       "1 55.313 43.5825 62.6350 187.87 209.31 22.24600 49.06 114.16\n",
       "2 56.599 44.7750 64.7500 177.60 217.50 23.14400 50.27 111.19\n",
       "3 58.212 43.5550 67.8755 186.55 261.30 23.05933 51.45 114.37\n",
       "4 58.497 41.8575 72.5445 186.89 270.30 23.62067 51.59 113.25\n",
       "5 52.429 39.8850 70.8390 180.18 264.56 23.00000 48.87 105.09\n",
       "6 53.485 41.8425 72.5525 179.52 266.00 21.48733 49.45 105.13"
      ]
     },
     "metadata": {},
     "output_type": "display_data"
    }
   ],
   "source": [
    "#combine buy and sell prices \n",
    "combined= merge(buy, close_prices, by=\"Date\")\n",
    "head(combined)"
   ]
  },
  {
   "cell_type": "code",
   "execution_count": 163,
   "id": "05b0e1b5",
   "metadata": {},
   "outputs": [
    {
     "name": "stderr",
     "output_type": "stream",
     "text": [
      "Warning message in merge.data.frame(df3, ORCL_div, by = \"Date\", all.x = TRUE):\n",
      "\"column names 'Dividends.x', 'Dividends.y' are duplicated in the result\"\n",
      "Warning message in merge.data.frame(df3, SAP_div, by = \"Date\", all.x = TRUE):\n",
      "\"column names 'Dividends.x', 'Dividends.y' are duplicated in the result\"\n"
     ]
    },
    {
     "data": {
      "text/html": [
       "<table class=\"dataframe\">\n",
       "<caption>A data.frame: 6 × 26</caption>\n",
       "<thead>\n",
       "\t<tr><th></th><th scope=col>Date</th><th scope=col>Buy1</th><th scope=col>Buy2</th><th scope=col>Buy3</th><th scope=col>Buy4</th><th scope=col>Buy5</th><th scope=col>Sell1</th><th scope=col>Sell2</th><th scope=col>Sell3</th><th scope=col>Sell4</th><th scope=col>⋯</th><th scope=col>FB</th><th scope=col>NFLX</th><th scope=col>TSLA</th><th scope=col>ORCL</th><th scope=col>SAP</th><th scope=col>IBM_div</th><th scope=col>MSFT_div</th><th scope=col>AAPL_div</th><th scope=col>ORCL_div</th><th scope=col>SAP_div</th></tr>\n",
       "\t<tr><th></th><th scope=col>&lt;date&gt;</th><th scope=col>&lt;chr&gt;</th><th scope=col>&lt;chr&gt;</th><th scope=col>&lt;chr&gt;</th><th scope=col>&lt;chr&gt;</th><th scope=col>&lt;chr&gt;</th><th scope=col>&lt;chr&gt;</th><th scope=col>&lt;chr&gt;</th><th scope=col>&lt;chr&gt;</th><th scope=col>&lt;chr&gt;</th><th scope=col>⋯</th><th scope=col>&lt;dbl&gt;</th><th scope=col>&lt;dbl&gt;</th><th scope=col>&lt;dbl&gt;</th><th scope=col>&lt;dbl&gt;</th><th scope=col>&lt;dbl&gt;</th><th scope=col>&lt;dbl&gt;</th><th scope=col>&lt;dbl&gt;</th><th scope=col>&lt;dbl&gt;</th><th scope=col>&lt;dbl&gt;</th><th scope=col>&lt;dbl&gt;</th></tr>\n",
       "</thead>\n",
       "<tbody>\n",
       "\t<tr><th scope=row>1</th><td>2018-01-02</td><td>IBM </td><td>MSFT</td><td>GOOG</td><td>AAPL</td><td>AMZN</td><td>NA </td><td>NA  </td><td>NA  </td><td>NA  </td><td>⋯</td><td>181.42</td><td>201.07</td><td>21.36867</td><td>46.63</td><td>112.39</td><td>NA</td><td>NA</td><td>NA</td><td>NA</td><td>NA</td></tr>\n",
       "\t<tr><th scope=row>2</th><td>2018-01-03</td><td>IBM </td><td>MSFT</td><td>GOOG</td><td>AAPL</td><td>AMZN</td><td>NA </td><td>NA  </td><td>NA  </td><td>NA  </td><td>⋯</td><td>184.67</td><td>205.05</td><td>21.15000</td><td>47.71</td><td>113.31</td><td>NA</td><td>NA</td><td>NA</td><td>NA</td><td>NA</td></tr>\n",
       "\t<tr><th scope=row>3</th><td>2018-01-04</td><td>IBM </td><td>MSFT</td><td>GOOG</td><td>AAPL</td><td>AMZN</td><td>NA </td><td>NA  </td><td>NA  </td><td>NA  </td><td>⋯</td><td>184.33</td><td>205.63</td><td>20.97467</td><td>48.18</td><td>115.05</td><td>NA</td><td>NA</td><td>NA</td><td>NA</td><td>NA</td></tr>\n",
       "\t<tr><th scope=row>4</th><td>2018-01-05</td><td>IBM </td><td>MSFT</td><td>GOOG</td><td>AAPL</td><td>AMZN</td><td>NA </td><td>NA  </td><td>NA  </td><td>NA  </td><td>⋯</td><td>186.85</td><td>209.99</td><td>21.10533</td><td>48.47</td><td>116.33</td><td>NA</td><td>NA</td><td>NA</td><td>NA</td><td>NA</td></tr>\n",
       "\t<tr><th scope=row>5</th><td>2018-01-08</td><td>IBM </td><td>MSFT</td><td>GOOG</td><td>AAPL</td><td>AMZN</td><td>NA </td><td>NA  </td><td>NA  </td><td>NA  </td><td>⋯</td><td>188.28</td><td>212.05</td><td>22.42733</td><td>48.98</td><td>114.80</td><td>NA</td><td>NA</td><td>NA</td><td>NA</td><td>NA</td></tr>\n",
       "\t<tr><th scope=row>6</th><td>2018-01-09</td><td>AAPL</td><td>SAP </td><td>MSFT</td><td>FB  </td><td>GOOG</td><td>IBM</td><td>MSFT</td><td>GOOG</td><td>AAPL</td><td>⋯</td><td>187.87</td><td>209.31</td><td>22.24600</td><td>49.06</td><td>114.16</td><td>NA</td><td>NA</td><td>NA</td><td>NA</td><td>NA</td></tr>\n",
       "</tbody>\n",
       "</table>\n"
      ],
      "text/latex": [
       "A data.frame: 6 × 26\n",
       "\\begin{tabular}{r|lllllllllllllllllllll}\n",
       "  & Date & Buy1 & Buy2 & Buy3 & Buy4 & Buy5 & Sell1 & Sell2 & Sell3 & Sell4 & ⋯ & FB & NFLX & TSLA & ORCL & SAP & IBM\\_div & MSFT\\_div & AAPL\\_div & ORCL\\_div & SAP\\_div\\\\\n",
       "  & <date> & <chr> & <chr> & <chr> & <chr> & <chr> & <chr> & <chr> & <chr> & <chr> & ⋯ & <dbl> & <dbl> & <dbl> & <dbl> & <dbl> & <dbl> & <dbl> & <dbl> & <dbl> & <dbl>\\\\\n",
       "\\hline\n",
       "\t1 & 2018-01-02 & IBM  & MSFT & GOOG & AAPL & AMZN & NA  & NA   & NA   & NA   & ⋯ & 181.42 & 201.07 & 21.36867 & 46.63 & 112.39 & NA & NA & NA & NA & NA\\\\\n",
       "\t2 & 2018-01-03 & IBM  & MSFT & GOOG & AAPL & AMZN & NA  & NA   & NA   & NA   & ⋯ & 184.67 & 205.05 & 21.15000 & 47.71 & 113.31 & NA & NA & NA & NA & NA\\\\\n",
       "\t3 & 2018-01-04 & IBM  & MSFT & GOOG & AAPL & AMZN & NA  & NA   & NA   & NA   & ⋯ & 184.33 & 205.63 & 20.97467 & 48.18 & 115.05 & NA & NA & NA & NA & NA\\\\\n",
       "\t4 & 2018-01-05 & IBM  & MSFT & GOOG & AAPL & AMZN & NA  & NA   & NA   & NA   & ⋯ & 186.85 & 209.99 & 21.10533 & 48.47 & 116.33 & NA & NA & NA & NA & NA\\\\\n",
       "\t5 & 2018-01-08 & IBM  & MSFT & GOOG & AAPL & AMZN & NA  & NA   & NA   & NA   & ⋯ & 188.28 & 212.05 & 22.42733 & 48.98 & 114.80 & NA & NA & NA & NA & NA\\\\\n",
       "\t6 & 2018-01-09 & AAPL & SAP  & MSFT & FB   & GOOG & IBM & MSFT & GOOG & AAPL & ⋯ & 187.87 & 209.31 & 22.24600 & 49.06 & 114.16 & NA & NA & NA & NA & NA\\\\\n",
       "\\end{tabular}\n"
      ],
      "text/markdown": [
       "\n",
       "A data.frame: 6 × 26\n",
       "\n",
       "| <!--/--> | Date &lt;date&gt; | Buy1 &lt;chr&gt; | Buy2 &lt;chr&gt; | Buy3 &lt;chr&gt; | Buy4 &lt;chr&gt; | Buy5 &lt;chr&gt; | Sell1 &lt;chr&gt; | Sell2 &lt;chr&gt; | Sell3 &lt;chr&gt; | Sell4 &lt;chr&gt; | ⋯ ⋯ | FB &lt;dbl&gt; | NFLX &lt;dbl&gt; | TSLA &lt;dbl&gt; | ORCL &lt;dbl&gt; | SAP &lt;dbl&gt; | IBM_div &lt;dbl&gt; | MSFT_div &lt;dbl&gt; | AAPL_div &lt;dbl&gt; | ORCL_div &lt;dbl&gt; | SAP_div &lt;dbl&gt; |\n",
       "|---|---|---|---|---|---|---|---|---|---|---|---|---|---|---|---|---|---|---|---|---|---|\n",
       "| 1 | 2018-01-02 | IBM  | MSFT | GOOG | AAPL | AMZN | NA  | NA   | NA   | NA   | ⋯ | 181.42 | 201.07 | 21.36867 | 46.63 | 112.39 | NA | NA | NA | NA | NA |\n",
       "| 2 | 2018-01-03 | IBM  | MSFT | GOOG | AAPL | AMZN | NA  | NA   | NA   | NA   | ⋯ | 184.67 | 205.05 | 21.15000 | 47.71 | 113.31 | NA | NA | NA | NA | NA |\n",
       "| 3 | 2018-01-04 | IBM  | MSFT | GOOG | AAPL | AMZN | NA  | NA   | NA   | NA   | ⋯ | 184.33 | 205.63 | 20.97467 | 48.18 | 115.05 | NA | NA | NA | NA | NA |\n",
       "| 4 | 2018-01-05 | IBM  | MSFT | GOOG | AAPL | AMZN | NA  | NA   | NA   | NA   | ⋯ | 186.85 | 209.99 | 21.10533 | 48.47 | 116.33 | NA | NA | NA | NA | NA |\n",
       "| 5 | 2018-01-08 | IBM  | MSFT | GOOG | AAPL | AMZN | NA  | NA   | NA   | NA   | ⋯ | 188.28 | 212.05 | 22.42733 | 48.98 | 114.80 | NA | NA | NA | NA | NA |\n",
       "| 6 | 2018-01-09 | AAPL | SAP  | MSFT | FB   | GOOG | IBM | MSFT | GOOG | AAPL | ⋯ | 187.87 | 209.31 | 22.24600 | 49.06 | 114.16 | NA | NA | NA | NA | NA |\n",
       "\n"
      ],
      "text/plain": [
       "  Date       Buy1 Buy2 Buy3 Buy4 Buy5 Sell1 Sell2 Sell3 Sell4 ⋯ FB     NFLX  \n",
       "1 2018-01-02 IBM  MSFT GOOG AAPL AMZN NA    NA    NA    NA    ⋯ 181.42 201.07\n",
       "2 2018-01-03 IBM  MSFT GOOG AAPL AMZN NA    NA    NA    NA    ⋯ 184.67 205.05\n",
       "3 2018-01-04 IBM  MSFT GOOG AAPL AMZN NA    NA    NA    NA    ⋯ 184.33 205.63\n",
       "4 2018-01-05 IBM  MSFT GOOG AAPL AMZN NA    NA    NA    NA    ⋯ 186.85 209.99\n",
       "5 2018-01-08 IBM  MSFT GOOG AAPL AMZN NA    NA    NA    NA    ⋯ 188.28 212.05\n",
       "6 2018-01-09 AAPL SAP  MSFT FB   GOOG IBM   MSFT  GOOG  AAPL  ⋯ 187.87 209.31\n",
       "  TSLA     ORCL  SAP    IBM_div MSFT_div AAPL_div ORCL_div SAP_div\n",
       "1 21.36867 46.63 112.39 NA      NA       NA       NA       NA     \n",
       "2 21.15000 47.71 113.31 NA      NA       NA       NA       NA     \n",
       "3 20.97467 48.18 115.05 NA      NA       NA       NA       NA     \n",
       "4 21.10533 48.47 116.33 NA      NA       NA       NA       NA     \n",
       "5 22.42733 48.98 114.80 NA      NA       NA       NA       NA     \n",
       "6 22.24600 49.06 114.16 NA      NA       NA       NA       NA     "
      ]
     },
     "metadata": {},
     "output_type": "display_data"
    }
   ],
   "source": [
    "#clean data into df3\n",
    "#cols 2:11 in df3 tell us which companies we are buying/selling on rebalance days--prices of these tickers on given day are in columns directly to the right \n",
    "combined_copy = combined\n",
    "close_prices2 = prices2[,c(1,seq(2,21,2))]\n",
    "names(close_prices2) = c('Date', universe)\n",
    "df3 = merge(x=combined_copy[,1:11],y=close_prices2, by =\"Date\", all=TRUE)\n",
    "df3[1:5,2:6] = matrix(c(\"IBM\",\"MSFT\",\"GOOG\",\"AAPL\",\"AMZN\"),nrow=5,ncol=5,byrow=TRUE)\n",
    "df3[6:10,7:11] = matrix(c(\"IBM\",\"MSFT\",\"GOOG\",\"AAPL\",\"AMZN\"),nrow=5,ncol=5,byrow=TRUE)\n",
    "df3 = merge(df3,IBM_div, by=\"Date\", all.x = TRUE)\n",
    "df3 = merge(df3,MSFT_div, by=\"Date\", all.x = TRUE)\n",
    "df3 = merge(df3,AAPL_div, by=\"Date\", all.x = TRUE)\n",
    "df3 = merge(df3,ORCL_div, by=\"Date\", all.x = TRUE)\n",
    "df3 = merge(df3,SAP_div, by=\"Date\", all.x = TRUE)\n",
    "names(df3)[22:26] = paste0(universe_div, \"_div\")\n",
    "head(df3)\n",
    "df4=df3"
   ]
  },
  {
   "cell_type": "code",
   "execution_count": 164,
   "id": "75b261dc",
   "metadata": {},
   "outputs": [
    {
     "data": {
      "text/html": [
       "<table class=\"dataframe\">\n",
       "<caption>A data.frame: 6 × 26</caption>\n",
       "<thead>\n",
       "\t<tr><th></th><th scope=col>Date</th><th scope=col>Buy1</th><th scope=col>Buy2</th><th scope=col>Buy3</th><th scope=col>Buy4</th><th scope=col>Buy5</th><th scope=col>Sell1</th><th scope=col>Sell2</th><th scope=col>Sell3</th><th scope=col>Sell4</th><th scope=col>⋯</th><th scope=col>FB</th><th scope=col>NFLX</th><th scope=col>TSLA</th><th scope=col>ORCL</th><th scope=col>SAP</th><th scope=col>IBM_div</th><th scope=col>MSFT_div</th><th scope=col>AAPL_div</th><th scope=col>ORCL_div</th><th scope=col>SAP_div</th></tr>\n",
       "\t<tr><th></th><th scope=col>&lt;date&gt;</th><th scope=col>&lt;chr&gt;</th><th scope=col>&lt;chr&gt;</th><th scope=col>&lt;chr&gt;</th><th scope=col>&lt;chr&gt;</th><th scope=col>&lt;chr&gt;</th><th scope=col>&lt;chr&gt;</th><th scope=col>&lt;chr&gt;</th><th scope=col>&lt;chr&gt;</th><th scope=col>&lt;chr&gt;</th><th scope=col>⋯</th><th scope=col>&lt;dbl&gt;</th><th scope=col>&lt;dbl&gt;</th><th scope=col>&lt;dbl&gt;</th><th scope=col>&lt;dbl&gt;</th><th scope=col>&lt;dbl&gt;</th><th scope=col>&lt;dbl&gt;</th><th scope=col>&lt;dbl&gt;</th><th scope=col>&lt;dbl&gt;</th><th scope=col>&lt;dbl&gt;</th><th scope=col>&lt;dbl&gt;</th></tr>\n",
       "</thead>\n",
       "<tbody>\n",
       "\t<tr><th scope=row>1</th><td>2018-01-02</td><td>IBM </td><td>MSFT</td><td>GOOG</td><td>AAPL</td><td>AMZN</td><td>NA </td><td>NA  </td><td>NA  </td><td>NA  </td><td>⋯</td><td>181.42</td><td>201.07</td><td>21.36867</td><td>46.63</td><td>112.39</td><td>NA</td><td>NA</td><td>NA</td><td>NA</td><td>NA</td></tr>\n",
       "\t<tr><th scope=row>2</th><td>2018-01-03</td><td>IBM </td><td>MSFT</td><td>GOOG</td><td>AAPL</td><td>AMZN</td><td>NA </td><td>NA  </td><td>NA  </td><td>NA  </td><td>⋯</td><td>184.67</td><td>205.05</td><td>21.15000</td><td>47.71</td><td>113.31</td><td>NA</td><td>NA</td><td>NA</td><td>NA</td><td>NA</td></tr>\n",
       "\t<tr><th scope=row>3</th><td>2018-01-04</td><td>IBM </td><td>MSFT</td><td>GOOG</td><td>AAPL</td><td>AMZN</td><td>NA </td><td>NA  </td><td>NA  </td><td>NA  </td><td>⋯</td><td>184.33</td><td>205.63</td><td>20.97467</td><td>48.18</td><td>115.05</td><td>NA</td><td>NA</td><td>NA</td><td>NA</td><td>NA</td></tr>\n",
       "\t<tr><th scope=row>4</th><td>2018-01-05</td><td>IBM </td><td>MSFT</td><td>GOOG</td><td>AAPL</td><td>AMZN</td><td>NA </td><td>NA  </td><td>NA  </td><td>NA  </td><td>⋯</td><td>186.85</td><td>209.99</td><td>21.10533</td><td>48.47</td><td>116.33</td><td>NA</td><td>NA</td><td>NA</td><td>NA</td><td>NA</td></tr>\n",
       "\t<tr><th scope=row>5</th><td>2018-01-08</td><td>IBM </td><td>MSFT</td><td>GOOG</td><td>AAPL</td><td>AMZN</td><td>NA </td><td>NA  </td><td>NA  </td><td>NA  </td><td>⋯</td><td>188.28</td><td>212.05</td><td>22.42733</td><td>48.98</td><td>114.80</td><td>NA</td><td>NA</td><td>NA</td><td>NA</td><td>NA</td></tr>\n",
       "\t<tr><th scope=row>6</th><td>2018-01-09</td><td>AAPL</td><td>SAP </td><td>MSFT</td><td>FB  </td><td>GOOG</td><td>IBM</td><td>MSFT</td><td>GOOG</td><td>AAPL</td><td>⋯</td><td>187.87</td><td>209.31</td><td>22.24600</td><td>49.06</td><td>114.16</td><td>NA</td><td>NA</td><td>NA</td><td>NA</td><td>NA</td></tr>\n",
       "</tbody>\n",
       "</table>\n"
      ],
      "text/latex": [
       "A data.frame: 6 × 26\n",
       "\\begin{tabular}{r|lllllllllllllllllllll}\n",
       "  & Date & Buy1 & Buy2 & Buy3 & Buy4 & Buy5 & Sell1 & Sell2 & Sell3 & Sell4 & ⋯ & FB & NFLX & TSLA & ORCL & SAP & IBM\\_div & MSFT\\_div & AAPL\\_div & ORCL\\_div & SAP\\_div\\\\\n",
       "  & <date> & <chr> & <chr> & <chr> & <chr> & <chr> & <chr> & <chr> & <chr> & <chr> & ⋯ & <dbl> & <dbl> & <dbl> & <dbl> & <dbl> & <dbl> & <dbl> & <dbl> & <dbl> & <dbl>\\\\\n",
       "\\hline\n",
       "\t1 & 2018-01-02 & IBM  & MSFT & GOOG & AAPL & AMZN & NA  & NA   & NA   & NA   & ⋯ & 181.42 & 201.07 & 21.36867 & 46.63 & 112.39 & NA & NA & NA & NA & NA\\\\\n",
       "\t2 & 2018-01-03 & IBM  & MSFT & GOOG & AAPL & AMZN & NA  & NA   & NA   & NA   & ⋯ & 184.67 & 205.05 & 21.15000 & 47.71 & 113.31 & NA & NA & NA & NA & NA\\\\\n",
       "\t3 & 2018-01-04 & IBM  & MSFT & GOOG & AAPL & AMZN & NA  & NA   & NA   & NA   & ⋯ & 184.33 & 205.63 & 20.97467 & 48.18 & 115.05 & NA & NA & NA & NA & NA\\\\\n",
       "\t4 & 2018-01-05 & IBM  & MSFT & GOOG & AAPL & AMZN & NA  & NA   & NA   & NA   & ⋯ & 186.85 & 209.99 & 21.10533 & 48.47 & 116.33 & NA & NA & NA & NA & NA\\\\\n",
       "\t5 & 2018-01-08 & IBM  & MSFT & GOOG & AAPL & AMZN & NA  & NA   & NA   & NA   & ⋯ & 188.28 & 212.05 & 22.42733 & 48.98 & 114.80 & NA & NA & NA & NA & NA\\\\\n",
       "\t6 & 2018-01-09 & AAPL & SAP  & MSFT & FB   & GOOG & IBM & MSFT & GOOG & AAPL & ⋯ & 187.87 & 209.31 & 22.24600 & 49.06 & 114.16 & NA & NA & NA & NA & NA\\\\\n",
       "\\end{tabular}\n"
      ],
      "text/markdown": [
       "\n",
       "A data.frame: 6 × 26\n",
       "\n",
       "| <!--/--> | Date &lt;date&gt; | Buy1 &lt;chr&gt; | Buy2 &lt;chr&gt; | Buy3 &lt;chr&gt; | Buy4 &lt;chr&gt; | Buy5 &lt;chr&gt; | Sell1 &lt;chr&gt; | Sell2 &lt;chr&gt; | Sell3 &lt;chr&gt; | Sell4 &lt;chr&gt; | ⋯ ⋯ | FB &lt;dbl&gt; | NFLX &lt;dbl&gt; | TSLA &lt;dbl&gt; | ORCL &lt;dbl&gt; | SAP &lt;dbl&gt; | IBM_div &lt;dbl&gt; | MSFT_div &lt;dbl&gt; | AAPL_div &lt;dbl&gt; | ORCL_div &lt;dbl&gt; | SAP_div &lt;dbl&gt; |\n",
       "|---|---|---|---|---|---|---|---|---|---|---|---|---|---|---|---|---|---|---|---|---|---|\n",
       "| 1 | 2018-01-02 | IBM  | MSFT | GOOG | AAPL | AMZN | NA  | NA   | NA   | NA   | ⋯ | 181.42 | 201.07 | 21.36867 | 46.63 | 112.39 | NA | NA | NA | NA | NA |\n",
       "| 2 | 2018-01-03 | IBM  | MSFT | GOOG | AAPL | AMZN | NA  | NA   | NA   | NA   | ⋯ | 184.67 | 205.05 | 21.15000 | 47.71 | 113.31 | NA | NA | NA | NA | NA |\n",
       "| 3 | 2018-01-04 | IBM  | MSFT | GOOG | AAPL | AMZN | NA  | NA   | NA   | NA   | ⋯ | 184.33 | 205.63 | 20.97467 | 48.18 | 115.05 | NA | NA | NA | NA | NA |\n",
       "| 4 | 2018-01-05 | IBM  | MSFT | GOOG | AAPL | AMZN | NA  | NA   | NA   | NA   | ⋯ | 186.85 | 209.99 | 21.10533 | 48.47 | 116.33 | NA | NA | NA | NA | NA |\n",
       "| 5 | 2018-01-08 | IBM  | MSFT | GOOG | AAPL | AMZN | NA  | NA   | NA   | NA   | ⋯ | 188.28 | 212.05 | 22.42733 | 48.98 | 114.80 | NA | NA | NA | NA | NA |\n",
       "| 6 | 2018-01-09 | AAPL | SAP  | MSFT | FB   | GOOG | IBM | MSFT | GOOG | AAPL | ⋯ | 187.87 | 209.31 | 22.24600 | 49.06 | 114.16 | NA | NA | NA | NA | NA |\n",
       "\n"
      ],
      "text/plain": [
       "  Date       Buy1 Buy2 Buy3 Buy4 Buy5 Sell1 Sell2 Sell3 Sell4 ⋯ FB     NFLX  \n",
       "1 2018-01-02 IBM  MSFT GOOG AAPL AMZN NA    NA    NA    NA    ⋯ 181.42 201.07\n",
       "2 2018-01-03 IBM  MSFT GOOG AAPL AMZN NA    NA    NA    NA    ⋯ 184.67 205.05\n",
       "3 2018-01-04 IBM  MSFT GOOG AAPL AMZN NA    NA    NA    NA    ⋯ 184.33 205.63\n",
       "4 2018-01-05 IBM  MSFT GOOG AAPL AMZN NA    NA    NA    NA    ⋯ 186.85 209.99\n",
       "5 2018-01-08 IBM  MSFT GOOG AAPL AMZN NA    NA    NA    NA    ⋯ 188.28 212.05\n",
       "6 2018-01-09 AAPL SAP  MSFT FB   GOOG IBM   MSFT  GOOG  AAPL  ⋯ 187.87 209.31\n",
       "  TSLA     ORCL  SAP    IBM_div MSFT_div AAPL_div ORCL_div SAP_div\n",
       "1 21.36867 46.63 112.39 NA      NA       NA       NA       NA     \n",
       "2 21.15000 47.71 113.31 NA      NA       NA       NA       NA     \n",
       "3 20.97467 48.18 115.05 NA      NA       NA       NA       NA     \n",
       "4 21.10533 48.47 116.33 NA      NA       NA       NA       NA     \n",
       "5 22.42733 48.98 114.80 NA      NA       NA       NA       NA     \n",
       "6 22.24600 49.06 114.16 NA      NA       NA       NA       NA     "
      ]
     },
     "metadata": {},
     "output_type": "display_data"
    }
   ],
   "source": [
    "#fill tickers down the buy/sell columns for calculations of mtm later \n",
    "for (i in seq(6,nrow(df3),5)){\n",
    "        z=i+4\n",
    "        df3[i:z,2:11] = df3[i,2:11]\n",
    "}\n",
    "head(df3)"
   ]
  },
  {
   "cell_type": "code",
   "execution_count": 165,
   "id": "9d7b2e42",
   "metadata": {},
   "outputs": [],
   "source": [
    "#substitute names in buy columns for buy prices \n",
    "for (i in 1:nrow(df3)){\n",
    "    for (j in 2:6){\n",
    "        name = df3[i,j]\n",
    "        if (name %in% names(df3)){\n",
    "            price = df3[i,name]\n",
    "            df3[i,j] = price\n",
    "        }\n",
    "    }\n",
    "}"
   ]
  },
  {
   "cell_type": "code",
   "execution_count": 166,
   "id": "4788f2cd",
   "metadata": {
    "scrolled": true
   },
   "outputs": [
    {
     "data": {
      "text/html": [
       "<table class=\"dataframe\">\n",
       "<caption>A data.frame: 6 × 26</caption>\n",
       "<thead>\n",
       "\t<tr><th></th><th scope=col>Date</th><th scope=col>Buy1</th><th scope=col>Buy2</th><th scope=col>Buy3</th><th scope=col>Buy4</th><th scope=col>Buy5</th><th scope=col>Sell1</th><th scope=col>Sell2</th><th scope=col>Sell3</th><th scope=col>Sell4</th><th scope=col>⋯</th><th scope=col>FB</th><th scope=col>NFLX</th><th scope=col>TSLA</th><th scope=col>ORCL</th><th scope=col>SAP</th><th scope=col>IBM_div</th><th scope=col>MSFT_div</th><th scope=col>AAPL_div</th><th scope=col>ORCL_div</th><th scope=col>SAP_div</th></tr>\n",
       "\t<tr><th></th><th scope=col>&lt;date&gt;</th><th scope=col>&lt;chr&gt;</th><th scope=col>&lt;chr&gt;</th><th scope=col>&lt;chr&gt;</th><th scope=col>&lt;chr&gt;</th><th scope=col>&lt;chr&gt;</th><th scope=col>&lt;chr&gt;</th><th scope=col>&lt;chr&gt;</th><th scope=col>&lt;chr&gt;</th><th scope=col>&lt;chr&gt;</th><th scope=col>⋯</th><th scope=col>&lt;dbl&gt;</th><th scope=col>&lt;dbl&gt;</th><th scope=col>&lt;dbl&gt;</th><th scope=col>&lt;dbl&gt;</th><th scope=col>&lt;dbl&gt;</th><th scope=col>&lt;dbl&gt;</th><th scope=col>&lt;dbl&gt;</th><th scope=col>&lt;dbl&gt;</th><th scope=col>&lt;dbl&gt;</th><th scope=col>&lt;dbl&gt;</th></tr>\n",
       "</thead>\n",
       "<tbody>\n",
       "\t<tr><th scope=row>1</th><td>2018-01-02</td><td>147.466537</td><td>85.949997 </td><td>53.25    </td><td>43.064999 </td><td>59.4505  </td><td>NA        </td><td>NA       </td><td>NA    </td><td>NA     </td><td>⋯</td><td>181.42</td><td>201.07</td><td>21.36867</td><td>46.63</td><td>112.39</td><td>NA</td><td>NA</td><td>NA</td><td>NA</td><td>NA</td></tr>\n",
       "\t<tr><th scope=row>2</th><td>2018-01-03</td><td>151.520081</td><td>86.349998 </td><td>54.124001</td><td>43.057499 </td><td>60.209999</td><td>NA        </td><td>NA       </td><td>NA    </td><td>NA     </td><td>⋯</td><td>184.67</td><td>205.05</td><td>21.15000</td><td>47.71</td><td>113.31</td><td>NA</td><td>NA</td><td>NA</td><td>NA</td><td>NA</td></tr>\n",
       "\t<tr><th scope=row>3</th><td>2018-01-04</td><td>154.588913</td><td>87.110001 </td><td>54.32    </td><td>43.2575   </td><td>60.4795  </td><td>NA        </td><td>NA       </td><td>NA    </td><td>NA     </td><td>⋯</td><td>184.33</td><td>205.63</td><td>20.97467</td><td>48.18</td><td>115.05</td><td>NA</td><td>NA</td><td>NA</td><td>NA</td><td>NA</td></tr>\n",
       "\t<tr><th scope=row>4</th><td>2018-01-05</td><td>155.344162</td><td>88.190002 </td><td>55.1115  </td><td>43.75     </td><td>61.457001</td><td>NA        </td><td>NA       </td><td>NA    </td><td>NA     </td><td>⋯</td><td>186.85</td><td>209.99</td><td>21.10533</td><td>48.47</td><td>116.33</td><td>NA</td><td>NA</td><td>NA</td><td>NA</td><td>NA</td></tr>\n",
       "\t<tr><th scope=row>5</th><td>2018-01-08</td><td>156.281067</td><td>88.279999 </td><td>55.347   </td><td>43.587502 </td><td>62.343498</td><td>NA        </td><td>NA       </td><td>NA    </td><td>NA     </td><td>⋯</td><td>188.28</td><td>212.05</td><td>22.42733</td><td>48.98</td><td>114.80</td><td>NA</td><td>NA</td><td>NA</td><td>NA</td><td>NA</td></tr>\n",
       "\t<tr><th scope=row>6</th><td>2018-01-09</td><td>43.5825   </td><td>114.160004</td><td>88.220001</td><td>187.869995</td><td>55.313   </td><td>156.625244</td><td>88.220001</td><td>55.313</td><td>43.5825</td><td>⋯</td><td>187.87</td><td>209.31</td><td>22.24600</td><td>49.06</td><td>114.16</td><td>NA</td><td>NA</td><td>NA</td><td>NA</td><td>NA</td></tr>\n",
       "</tbody>\n",
       "</table>\n"
      ],
      "text/latex": [
       "A data.frame: 6 × 26\n",
       "\\begin{tabular}{r|lllllllllllllllllllll}\n",
       "  & Date & Buy1 & Buy2 & Buy3 & Buy4 & Buy5 & Sell1 & Sell2 & Sell3 & Sell4 & ⋯ & FB & NFLX & TSLA & ORCL & SAP & IBM\\_div & MSFT\\_div & AAPL\\_div & ORCL\\_div & SAP\\_div\\\\\n",
       "  & <date> & <chr> & <chr> & <chr> & <chr> & <chr> & <chr> & <chr> & <chr> & <chr> & ⋯ & <dbl> & <dbl> & <dbl> & <dbl> & <dbl> & <dbl> & <dbl> & <dbl> & <dbl> & <dbl>\\\\\n",
       "\\hline\n",
       "\t1 & 2018-01-02 & 147.466537 & 85.949997  & 53.25     & 43.064999  & 59.4505   & NA         & NA        & NA     & NA      & ⋯ & 181.42 & 201.07 & 21.36867 & 46.63 & 112.39 & NA & NA & NA & NA & NA\\\\\n",
       "\t2 & 2018-01-03 & 151.520081 & 86.349998  & 54.124001 & 43.057499  & 60.209999 & NA         & NA        & NA     & NA      & ⋯ & 184.67 & 205.05 & 21.15000 & 47.71 & 113.31 & NA & NA & NA & NA & NA\\\\\n",
       "\t3 & 2018-01-04 & 154.588913 & 87.110001  & 54.32     & 43.2575    & 60.4795   & NA         & NA        & NA     & NA      & ⋯ & 184.33 & 205.63 & 20.97467 & 48.18 & 115.05 & NA & NA & NA & NA & NA\\\\\n",
       "\t4 & 2018-01-05 & 155.344162 & 88.190002  & 55.1115   & 43.75      & 61.457001 & NA         & NA        & NA     & NA      & ⋯ & 186.85 & 209.99 & 21.10533 & 48.47 & 116.33 & NA & NA & NA & NA & NA\\\\\n",
       "\t5 & 2018-01-08 & 156.281067 & 88.279999  & 55.347    & 43.587502  & 62.343498 & NA         & NA        & NA     & NA      & ⋯ & 188.28 & 212.05 & 22.42733 & 48.98 & 114.80 & NA & NA & NA & NA & NA\\\\\n",
       "\t6 & 2018-01-09 & 43.5825    & 114.160004 & 88.220001 & 187.869995 & 55.313    & 156.625244 & 88.220001 & 55.313 & 43.5825 & ⋯ & 187.87 & 209.31 & 22.24600 & 49.06 & 114.16 & NA & NA & NA & NA & NA\\\\\n",
       "\\end{tabular}\n"
      ],
      "text/markdown": [
       "\n",
       "A data.frame: 6 × 26\n",
       "\n",
       "| <!--/--> | Date &lt;date&gt; | Buy1 &lt;chr&gt; | Buy2 &lt;chr&gt; | Buy3 &lt;chr&gt; | Buy4 &lt;chr&gt; | Buy5 &lt;chr&gt; | Sell1 &lt;chr&gt; | Sell2 &lt;chr&gt; | Sell3 &lt;chr&gt; | Sell4 &lt;chr&gt; | ⋯ ⋯ | FB &lt;dbl&gt; | NFLX &lt;dbl&gt; | TSLA &lt;dbl&gt; | ORCL &lt;dbl&gt; | SAP &lt;dbl&gt; | IBM_div &lt;dbl&gt; | MSFT_div &lt;dbl&gt; | AAPL_div &lt;dbl&gt; | ORCL_div &lt;dbl&gt; | SAP_div &lt;dbl&gt; |\n",
       "|---|---|---|---|---|---|---|---|---|---|---|---|---|---|---|---|---|---|---|---|---|---|\n",
       "| 1 | 2018-01-02 | 147.466537 | 85.949997  | 53.25     | 43.064999  | 59.4505   | NA         | NA        | NA     | NA      | ⋯ | 181.42 | 201.07 | 21.36867 | 46.63 | 112.39 | NA | NA | NA | NA | NA |\n",
       "| 2 | 2018-01-03 | 151.520081 | 86.349998  | 54.124001 | 43.057499  | 60.209999 | NA         | NA        | NA     | NA      | ⋯ | 184.67 | 205.05 | 21.15000 | 47.71 | 113.31 | NA | NA | NA | NA | NA |\n",
       "| 3 | 2018-01-04 | 154.588913 | 87.110001  | 54.32     | 43.2575    | 60.4795   | NA         | NA        | NA     | NA      | ⋯ | 184.33 | 205.63 | 20.97467 | 48.18 | 115.05 | NA | NA | NA | NA | NA |\n",
       "| 4 | 2018-01-05 | 155.344162 | 88.190002  | 55.1115   | 43.75      | 61.457001 | NA         | NA        | NA     | NA      | ⋯ | 186.85 | 209.99 | 21.10533 | 48.47 | 116.33 | NA | NA | NA | NA | NA |\n",
       "| 5 | 2018-01-08 | 156.281067 | 88.279999  | 55.347    | 43.587502  | 62.343498 | NA         | NA        | NA     | NA      | ⋯ | 188.28 | 212.05 | 22.42733 | 48.98 | 114.80 | NA | NA | NA | NA | NA |\n",
       "| 6 | 2018-01-09 | 43.5825    | 114.160004 | 88.220001 | 187.869995 | 55.313    | 156.625244 | 88.220001 | 55.313 | 43.5825 | ⋯ | 187.87 | 209.31 | 22.24600 | 49.06 | 114.16 | NA | NA | NA | NA | NA |\n",
       "\n"
      ],
      "text/plain": [
       "  Date       Buy1       Buy2       Buy3      Buy4       Buy5      Sell1     \n",
       "1 2018-01-02 147.466537 85.949997  53.25     43.064999  59.4505   NA        \n",
       "2 2018-01-03 151.520081 86.349998  54.124001 43.057499  60.209999 NA        \n",
       "3 2018-01-04 154.588913 87.110001  54.32     43.2575    60.4795   NA        \n",
       "4 2018-01-05 155.344162 88.190002  55.1115   43.75      61.457001 NA        \n",
       "5 2018-01-08 156.281067 88.279999  55.347    43.587502  62.343498 NA        \n",
       "6 2018-01-09 43.5825    114.160004 88.220001 187.869995 55.313    156.625244\n",
       "  Sell2     Sell3  Sell4   ⋯ FB     NFLX   TSLA     ORCL  SAP    IBM_div\n",
       "1 NA        NA     NA      ⋯ 181.42 201.07 21.36867 46.63 112.39 NA     \n",
       "2 NA        NA     NA      ⋯ 184.67 205.05 21.15000 47.71 113.31 NA     \n",
       "3 NA        NA     NA      ⋯ 184.33 205.63 20.97467 48.18 115.05 NA     \n",
       "4 NA        NA     NA      ⋯ 186.85 209.99 21.10533 48.47 116.33 NA     \n",
       "5 NA        NA     NA      ⋯ 188.28 212.05 22.42733 48.98 114.80 NA     \n",
       "6 88.220001 55.313 43.5825 ⋯ 187.87 209.31 22.24600 49.06 114.16 NA     \n",
       "  MSFT_div AAPL_div ORCL_div SAP_div\n",
       "1 NA       NA       NA       NA     \n",
       "2 NA       NA       NA       NA     \n",
       "3 NA       NA       NA       NA     \n",
       "4 NA       NA       NA       NA     \n",
       "5 NA       NA       NA       NA     \n",
       "6 NA       NA       NA       NA     "
      ]
     },
     "metadata": {},
     "output_type": "display_data"
    }
   ],
   "source": [
    "#substitute names in sell columns for sell prices \n",
    "for (i in 1:nrow(df3)){\n",
    "    for (j in 7:11){\n",
    "        name = df3[i,j]\n",
    "        if (name %in% names(df3)){\n",
    "            price = df3[i,name]\n",
    "            df3[i,j] = price\n",
    "        }\n",
    "    }\n",
    "}\n",
    "\n",
    "head(df3)"
   ]
  },
  {
   "cell_type": "code",
   "execution_count": 167,
   "id": "08df0929",
   "metadata": {},
   "outputs": [
    {
     "data": {
      "text/html": [
       "<table class=\"dataframe\">\n",
       "<caption>A data.frame: 6 × 31</caption>\n",
       "<thead>\n",
       "\t<tr><th></th><th scope=col>Date</th><th scope=col>Buy1</th><th scope=col>Buy2</th><th scope=col>Buy3</th><th scope=col>Buy4</th><th scope=col>Buy5</th><th scope=col>Sell1.x</th><th scope=col>Sell2.x</th><th scope=col>Sell3.x</th><th scope=col>Sell4.x</th><th scope=col>⋯</th><th scope=col>IBM_div</th><th scope=col>MSFT_div</th><th scope=col>AAPL_div</th><th scope=col>ORCL_div</th><th scope=col>SAP_div</th><th scope=col>Sell1.y</th><th scope=col>Sell2.y</th><th scope=col>Sell3.y</th><th scope=col>Sell4.y</th><th scope=col>Sell5.y</th></tr>\n",
       "\t<tr><th></th><th scope=col>&lt;date&gt;</th><th scope=col>&lt;chr&gt;</th><th scope=col>&lt;chr&gt;</th><th scope=col>&lt;chr&gt;</th><th scope=col>&lt;chr&gt;</th><th scope=col>&lt;chr&gt;</th><th scope=col>&lt;chr&gt;</th><th scope=col>&lt;chr&gt;</th><th scope=col>&lt;chr&gt;</th><th scope=col>&lt;chr&gt;</th><th scope=col>⋯</th><th scope=col>&lt;dbl&gt;</th><th scope=col>&lt;dbl&gt;</th><th scope=col>&lt;dbl&gt;</th><th scope=col>&lt;dbl&gt;</th><th scope=col>&lt;dbl&gt;</th><th scope=col>&lt;chr&gt;</th><th scope=col>&lt;chr&gt;</th><th scope=col>&lt;chr&gt;</th><th scope=col>&lt;chr&gt;</th><th scope=col>&lt;chr&gt;</th></tr>\n",
       "</thead>\n",
       "<tbody>\n",
       "\t<tr><th scope=row>1</th><td>2018-01-02</td><td>147.466537</td><td>85.949997 </td><td>53.25    </td><td>43.064999 </td><td>59.4505  </td><td>NA        </td><td>NA       </td><td>NA    </td><td>NA     </td><td>⋯</td><td>NA</td><td>NA</td><td>NA</td><td>NA</td><td>NA</td><td>NA        </td><td>NA       </td><td>NA    </td><td>NA     </td><td>NA       </td></tr>\n",
       "\t<tr><th scope=row>2</th><td>2018-01-03</td><td>151.520081</td><td>86.349998 </td><td>54.124001</td><td>43.057499 </td><td>60.209999</td><td>NA        </td><td>NA       </td><td>NA    </td><td>NA     </td><td>⋯</td><td>NA</td><td>NA</td><td>NA</td><td>NA</td><td>NA</td><td>NA        </td><td>NA       </td><td>NA    </td><td>NA     </td><td>NA       </td></tr>\n",
       "\t<tr><th scope=row>3</th><td>2018-01-04</td><td>154.588913</td><td>87.110001 </td><td>54.32    </td><td>43.2575   </td><td>60.4795  </td><td>NA        </td><td>NA       </td><td>NA    </td><td>NA     </td><td>⋯</td><td>NA</td><td>NA</td><td>NA</td><td>NA</td><td>NA</td><td>NA        </td><td>NA       </td><td>NA    </td><td>NA     </td><td>NA       </td></tr>\n",
       "\t<tr><th scope=row>4</th><td>2018-01-05</td><td>155.344162</td><td>88.190002 </td><td>55.1115  </td><td>43.75     </td><td>61.457001</td><td>NA        </td><td>NA       </td><td>NA    </td><td>NA     </td><td>⋯</td><td>NA</td><td>NA</td><td>NA</td><td>NA</td><td>NA</td><td>NA        </td><td>NA       </td><td>NA    </td><td>NA     </td><td>NA       </td></tr>\n",
       "\t<tr><th scope=row>5</th><td>2018-01-08</td><td>156.281067</td><td>88.279999 </td><td>55.347   </td><td>43.587502 </td><td>62.343498</td><td>NA        </td><td>NA       </td><td>NA    </td><td>NA     </td><td>⋯</td><td>NA</td><td>NA</td><td>NA</td><td>NA</td><td>NA</td><td>NA        </td><td>NA       </td><td>NA    </td><td>NA     </td><td>NA       </td></tr>\n",
       "\t<tr><th scope=row>6</th><td>2018-01-09</td><td>43.5825   </td><td>114.160004</td><td>88.220001</td><td>187.869995</td><td>55.313   </td><td>156.625244</td><td>88.220001</td><td>55.313</td><td>43.5825</td><td>⋯</td><td>NA</td><td>NA</td><td>NA</td><td>NA</td><td>NA</td><td>156.625244</td><td>88.220001</td><td>55.313</td><td>43.5825</td><td>62.634998</td></tr>\n",
       "</tbody>\n",
       "</table>\n"
      ],
      "text/latex": [
       "A data.frame: 6 × 31\n",
       "\\begin{tabular}{r|lllllllllllllllllllll}\n",
       "  & Date & Buy1 & Buy2 & Buy3 & Buy4 & Buy5 & Sell1.x & Sell2.x & Sell3.x & Sell4.x & ⋯ & IBM\\_div & MSFT\\_div & AAPL\\_div & ORCL\\_div & SAP\\_div & Sell1.y & Sell2.y & Sell3.y & Sell4.y & Sell5.y\\\\\n",
       "  & <date> & <chr> & <chr> & <chr> & <chr> & <chr> & <chr> & <chr> & <chr> & <chr> & ⋯ & <dbl> & <dbl> & <dbl> & <dbl> & <dbl> & <chr> & <chr> & <chr> & <chr> & <chr>\\\\\n",
       "\\hline\n",
       "\t1 & 2018-01-02 & 147.466537 & 85.949997  & 53.25     & 43.064999  & 59.4505   & NA         & NA        & NA     & NA      & ⋯ & NA & NA & NA & NA & NA & NA         & NA        & NA     & NA      & NA       \\\\\n",
       "\t2 & 2018-01-03 & 151.520081 & 86.349998  & 54.124001 & 43.057499  & 60.209999 & NA         & NA        & NA     & NA      & ⋯ & NA & NA & NA & NA & NA & NA         & NA        & NA     & NA      & NA       \\\\\n",
       "\t3 & 2018-01-04 & 154.588913 & 87.110001  & 54.32     & 43.2575    & 60.4795   & NA         & NA        & NA     & NA      & ⋯ & NA & NA & NA & NA & NA & NA         & NA        & NA     & NA      & NA       \\\\\n",
       "\t4 & 2018-01-05 & 155.344162 & 88.190002  & 55.1115   & 43.75      & 61.457001 & NA         & NA        & NA     & NA      & ⋯ & NA & NA & NA & NA & NA & NA         & NA        & NA     & NA      & NA       \\\\\n",
       "\t5 & 2018-01-08 & 156.281067 & 88.279999  & 55.347    & 43.587502  & 62.343498 & NA         & NA        & NA     & NA      & ⋯ & NA & NA & NA & NA & NA & NA         & NA        & NA     & NA      & NA       \\\\\n",
       "\t6 & 2018-01-09 & 43.5825    & 114.160004 & 88.220001 & 187.869995 & 55.313    & 156.625244 & 88.220001 & 55.313 & 43.5825 & ⋯ & NA & NA & NA & NA & NA & 156.625244 & 88.220001 & 55.313 & 43.5825 & 62.634998\\\\\n",
       "\\end{tabular}\n"
      ],
      "text/markdown": [
       "\n",
       "A data.frame: 6 × 31\n",
       "\n",
       "| <!--/--> | Date &lt;date&gt; | Buy1 &lt;chr&gt; | Buy2 &lt;chr&gt; | Buy3 &lt;chr&gt; | Buy4 &lt;chr&gt; | Buy5 &lt;chr&gt; | Sell1.x &lt;chr&gt; | Sell2.x &lt;chr&gt; | Sell3.x &lt;chr&gt; | Sell4.x &lt;chr&gt; | ⋯ ⋯ | IBM_div &lt;dbl&gt; | MSFT_div &lt;dbl&gt; | AAPL_div &lt;dbl&gt; | ORCL_div &lt;dbl&gt; | SAP_div &lt;dbl&gt; | Sell1.y &lt;chr&gt; | Sell2.y &lt;chr&gt; | Sell3.y &lt;chr&gt; | Sell4.y &lt;chr&gt; | Sell5.y &lt;chr&gt; |\n",
       "|---|---|---|---|---|---|---|---|---|---|---|---|---|---|---|---|---|---|---|---|---|---|\n",
       "| 1 | 2018-01-02 | 147.466537 | 85.949997  | 53.25     | 43.064999  | 59.4505   | NA         | NA        | NA     | NA      | ⋯ | NA | NA | NA | NA | NA | NA         | NA        | NA     | NA      | NA        |\n",
       "| 2 | 2018-01-03 | 151.520081 | 86.349998  | 54.124001 | 43.057499  | 60.209999 | NA         | NA        | NA     | NA      | ⋯ | NA | NA | NA | NA | NA | NA         | NA        | NA     | NA      | NA        |\n",
       "| 3 | 2018-01-04 | 154.588913 | 87.110001  | 54.32     | 43.2575    | 60.4795   | NA         | NA        | NA     | NA      | ⋯ | NA | NA | NA | NA | NA | NA         | NA        | NA     | NA      | NA        |\n",
       "| 4 | 2018-01-05 | 155.344162 | 88.190002  | 55.1115   | 43.75      | 61.457001 | NA         | NA        | NA     | NA      | ⋯ | NA | NA | NA | NA | NA | NA         | NA        | NA     | NA      | NA        |\n",
       "| 5 | 2018-01-08 | 156.281067 | 88.279999  | 55.347    | 43.587502  | 62.343498 | NA         | NA        | NA     | NA      | ⋯ | NA | NA | NA | NA | NA | NA         | NA        | NA     | NA      | NA        |\n",
       "| 6 | 2018-01-09 | 43.5825    | 114.160004 | 88.220001 | 187.869995 | 55.313    | 156.625244 | 88.220001 | 55.313 | 43.5825 | ⋯ | NA | NA | NA | NA | NA | 156.625244 | 88.220001 | 55.313 | 43.5825 | 62.634998 |\n",
       "\n"
      ],
      "text/plain": [
       "  Date       Buy1       Buy2       Buy3      Buy4       Buy5      Sell1.x   \n",
       "1 2018-01-02 147.466537 85.949997  53.25     43.064999  59.4505   NA        \n",
       "2 2018-01-03 151.520081 86.349998  54.124001 43.057499  60.209999 NA        \n",
       "3 2018-01-04 154.588913 87.110001  54.32     43.2575    60.4795   NA        \n",
       "4 2018-01-05 155.344162 88.190002  55.1115   43.75      61.457001 NA        \n",
       "5 2018-01-08 156.281067 88.279999  55.347    43.587502  62.343498 NA        \n",
       "6 2018-01-09 43.5825    114.160004 88.220001 187.869995 55.313    156.625244\n",
       "  Sell2.x   Sell3.x Sell4.x ⋯ IBM_div MSFT_div AAPL_div ORCL_div SAP_div\n",
       "1 NA        NA      NA      ⋯ NA      NA       NA       NA       NA     \n",
       "2 NA        NA      NA      ⋯ NA      NA       NA       NA       NA     \n",
       "3 NA        NA      NA      ⋯ NA      NA       NA       NA       NA     \n",
       "4 NA        NA      NA      ⋯ NA      NA       NA       NA       NA     \n",
       "5 NA        NA      NA      ⋯ NA      NA       NA       NA       NA     \n",
       "6 88.220001 55.313  43.5825 ⋯ NA      NA       NA       NA       NA     \n",
       "  Sell1.y    Sell2.y   Sell3.y Sell4.y Sell5.y  \n",
       "1 NA         NA        NA      NA      NA       \n",
       "2 NA         NA        NA      NA      NA       \n",
       "3 NA         NA        NA      NA      NA       \n",
       "4 NA         NA        NA      NA      NA       \n",
       "5 NA         NA        NA      NA      NA       \n",
       "6 156.625244 88.220001 55.313  43.5825 62.634998"
      ]
     },
     "metadata": {},
     "output_type": "display_data"
    }
   ],
   "source": [
    "#handle dividend columns \n",
    "df3 = merge(df3, df4[,c(1,7:11)], by = \"Date\")\n",
    "for (i in 2:nrow(df3)){\n",
    "    for (j in 27:31){\n",
    "        name = df3[i,j]\n",
    "        if (name %in% names(df3)){\n",
    "            div = df3[i,name]\n",
    "            df3[i,j] = div\n",
    "        }\n",
    "    }\n",
    "}\n",
    "head(df3)"
   ]
  },
  {
   "cell_type": "code",
   "execution_count": 168,
   "id": "8ac6c7c4",
   "metadata": {},
   "outputs": [
    {
     "data": {
      "text/html": [
       "<table class=\"dataframe\">\n",
       "<caption>A data.frame: 6 × 16</caption>\n",
       "<thead>\n",
       "\t<tr><th></th><th scope=col>Date</th><th scope=col>Buy1</th><th scope=col>Buy2</th><th scope=col>Buy3</th><th scope=col>Buy4</th><th scope=col>Buy5</th><th scope=col>Sell1.x</th><th scope=col>Sell2.x</th><th scope=col>Sell3.x</th><th scope=col>Sell4.x</th><th scope=col>Sell5.x</th><th scope=col>IBM_div</th><th scope=col>MSFT_div</th><th scope=col>AAPL_div</th><th scope=col>ORCL_div</th><th scope=col>SAP_div</th></tr>\n",
       "\t<tr><th></th><th scope=col>&lt;date&gt;</th><th scope=col>&lt;dbl&gt;</th><th scope=col>&lt;dbl&gt;</th><th scope=col>&lt;dbl&gt;</th><th scope=col>&lt;dbl&gt;</th><th scope=col>&lt;dbl&gt;</th><th scope=col>&lt;dbl&gt;</th><th scope=col>&lt;dbl&gt;</th><th scope=col>&lt;dbl&gt;</th><th scope=col>&lt;dbl&gt;</th><th scope=col>&lt;dbl&gt;</th><th scope=col>&lt;dbl&gt;</th><th scope=col>&lt;dbl&gt;</th><th scope=col>&lt;dbl&gt;</th><th scope=col>&lt;dbl&gt;</th><th scope=col>&lt;dbl&gt;</th></tr>\n",
       "</thead>\n",
       "<tbody>\n",
       "\t<tr><th scope=row>1</th><td>2018-01-02</td><td>147.4665</td><td> 85.95</td><td>53.2500</td><td> 43.0650</td><td>59.4505</td><td>      NA</td><td>   NA</td><td>    NA</td><td>     NA</td><td>    NA</td><td>NA</td><td>NA</td><td>NA</td><td>NA</td><td>NA</td></tr>\n",
       "\t<tr><th scope=row>2</th><td>2018-01-03</td><td>151.5201</td><td> 86.35</td><td>54.1240</td><td> 43.0575</td><td>60.2100</td><td>      NA</td><td>   NA</td><td>    NA</td><td>     NA</td><td>    NA</td><td>NA</td><td>NA</td><td>NA</td><td>NA</td><td>NA</td></tr>\n",
       "\t<tr><th scope=row>3</th><td>2018-01-04</td><td>154.5889</td><td> 87.11</td><td>54.3200</td><td> 43.2575</td><td>60.4795</td><td>      NA</td><td>   NA</td><td>    NA</td><td>     NA</td><td>    NA</td><td>NA</td><td>NA</td><td>NA</td><td>NA</td><td>NA</td></tr>\n",
       "\t<tr><th scope=row>4</th><td>2018-01-05</td><td>155.3442</td><td> 88.19</td><td>55.1115</td><td> 43.7500</td><td>61.4570</td><td>      NA</td><td>   NA</td><td>    NA</td><td>     NA</td><td>    NA</td><td>NA</td><td>NA</td><td>NA</td><td>NA</td><td>NA</td></tr>\n",
       "\t<tr><th scope=row>5</th><td>2018-01-08</td><td>156.2811</td><td> 88.28</td><td>55.3470</td><td> 43.5875</td><td>62.3435</td><td>      NA</td><td>   NA</td><td>    NA</td><td>     NA</td><td>    NA</td><td>NA</td><td>NA</td><td>NA</td><td>NA</td><td>NA</td></tr>\n",
       "\t<tr><th scope=row>6</th><td>2018-01-09</td><td> 43.5825</td><td>114.16</td><td>88.2200</td><td>187.8700</td><td>55.3130</td><td>156.6252</td><td>88.22</td><td>55.313</td><td>43.5825</td><td>62.635</td><td>NA</td><td>NA</td><td>NA</td><td>NA</td><td>NA</td></tr>\n",
       "</tbody>\n",
       "</table>\n"
      ],
      "text/latex": [
       "A data.frame: 6 × 16\n",
       "\\begin{tabular}{r|llllllllllllllll}\n",
       "  & Date & Buy1 & Buy2 & Buy3 & Buy4 & Buy5 & Sell1.x & Sell2.x & Sell3.x & Sell4.x & Sell5.x & IBM\\_div & MSFT\\_div & AAPL\\_div & ORCL\\_div & SAP\\_div\\\\\n",
       "  & <date> & <dbl> & <dbl> & <dbl> & <dbl> & <dbl> & <dbl> & <dbl> & <dbl> & <dbl> & <dbl> & <dbl> & <dbl> & <dbl> & <dbl> & <dbl>\\\\\n",
       "\\hline\n",
       "\t1 & 2018-01-02 & 147.4665 &  85.95 & 53.2500 &  43.0650 & 59.4505 &       NA &    NA &     NA &      NA &     NA & NA & NA & NA & NA & NA\\\\\n",
       "\t2 & 2018-01-03 & 151.5201 &  86.35 & 54.1240 &  43.0575 & 60.2100 &       NA &    NA &     NA &      NA &     NA & NA & NA & NA & NA & NA\\\\\n",
       "\t3 & 2018-01-04 & 154.5889 &  87.11 & 54.3200 &  43.2575 & 60.4795 &       NA &    NA &     NA &      NA &     NA & NA & NA & NA & NA & NA\\\\\n",
       "\t4 & 2018-01-05 & 155.3442 &  88.19 & 55.1115 &  43.7500 & 61.4570 &       NA &    NA &     NA &      NA &     NA & NA & NA & NA & NA & NA\\\\\n",
       "\t5 & 2018-01-08 & 156.2811 &  88.28 & 55.3470 &  43.5875 & 62.3435 &       NA &    NA &     NA &      NA &     NA & NA & NA & NA & NA & NA\\\\\n",
       "\t6 & 2018-01-09 &  43.5825 & 114.16 & 88.2200 & 187.8700 & 55.3130 & 156.6252 & 88.22 & 55.313 & 43.5825 & 62.635 & NA & NA & NA & NA & NA\\\\\n",
       "\\end{tabular}\n"
      ],
      "text/markdown": [
       "\n",
       "A data.frame: 6 × 16\n",
       "\n",
       "| <!--/--> | Date &lt;date&gt; | Buy1 &lt;dbl&gt; | Buy2 &lt;dbl&gt; | Buy3 &lt;dbl&gt; | Buy4 &lt;dbl&gt; | Buy5 &lt;dbl&gt; | Sell1.x &lt;dbl&gt; | Sell2.x &lt;dbl&gt; | Sell3.x &lt;dbl&gt; | Sell4.x &lt;dbl&gt; | Sell5.x &lt;dbl&gt; | IBM_div &lt;dbl&gt; | MSFT_div &lt;dbl&gt; | AAPL_div &lt;dbl&gt; | ORCL_div &lt;dbl&gt; | SAP_div &lt;dbl&gt; |\n",
       "|---|---|---|---|---|---|---|---|---|---|---|---|---|---|---|---|---|\n",
       "| 1 | 2018-01-02 | 147.4665 |  85.95 | 53.2500 |  43.0650 | 59.4505 |       NA |    NA |     NA |      NA |     NA | NA | NA | NA | NA | NA |\n",
       "| 2 | 2018-01-03 | 151.5201 |  86.35 | 54.1240 |  43.0575 | 60.2100 |       NA |    NA |     NA |      NA |     NA | NA | NA | NA | NA | NA |\n",
       "| 3 | 2018-01-04 | 154.5889 |  87.11 | 54.3200 |  43.2575 | 60.4795 |       NA |    NA |     NA |      NA |     NA | NA | NA | NA | NA | NA |\n",
       "| 4 | 2018-01-05 | 155.3442 |  88.19 | 55.1115 |  43.7500 | 61.4570 |       NA |    NA |     NA |      NA |     NA | NA | NA | NA | NA | NA |\n",
       "| 5 | 2018-01-08 | 156.2811 |  88.28 | 55.3470 |  43.5875 | 62.3435 |       NA |    NA |     NA |      NA |     NA | NA | NA | NA | NA | NA |\n",
       "| 6 | 2018-01-09 |  43.5825 | 114.16 | 88.2200 | 187.8700 | 55.3130 | 156.6252 | 88.22 | 55.313 | 43.5825 | 62.635 | NA | NA | NA | NA | NA |\n",
       "\n"
      ],
      "text/plain": [
       "  Date       Buy1     Buy2   Buy3    Buy4     Buy5    Sell1.x  Sell2.x Sell3.x\n",
       "1 2018-01-02 147.4665  85.95 53.2500  43.0650 59.4505       NA    NA       NA \n",
       "2 2018-01-03 151.5201  86.35 54.1240  43.0575 60.2100       NA    NA       NA \n",
       "3 2018-01-04 154.5889  87.11 54.3200  43.2575 60.4795       NA    NA       NA \n",
       "4 2018-01-05 155.3442  88.19 55.1115  43.7500 61.4570       NA    NA       NA \n",
       "5 2018-01-08 156.2811  88.28 55.3470  43.5875 62.3435       NA    NA       NA \n",
       "6 2018-01-09  43.5825 114.16 88.2200 187.8700 55.3130 156.6252 88.22   55.313 \n",
       "  Sell4.x Sell5.x IBM_div MSFT_div AAPL_div ORCL_div SAP_div\n",
       "1      NA     NA  NA      NA       NA       NA       NA     \n",
       "2      NA     NA  NA      NA       NA       NA       NA     \n",
       "3      NA     NA  NA      NA       NA       NA       NA     \n",
       "4      NA     NA  NA      NA       NA       NA       NA     \n",
       "5      NA     NA  NA      NA       NA       NA       NA     \n",
       "6 43.5825 62.635  NA      NA       NA       NA       NA     "
      ]
     },
     "metadata": {},
     "output_type": "display_data"
    }
   ],
   "source": [
    "#clean and put into final_df\n",
    "final_df = df3[,c(1:11,22:26)]\n",
    "final_df[,seq(2,11,1)] = lapply(final_df[,seq(2,11,1)], as.double)\n",
    "head(final_df)"
   ]
  },
  {
   "cell_type": "code",
   "execution_count": 169,
   "id": "af059c3a",
   "metadata": {},
   "outputs": [
    {
     "data": {
      "text/html": [
       "<table class=\"dataframe\">\n",
       "<caption>A data.frame: 6 × 16</caption>\n",
       "<thead>\n",
       "\t<tr><th></th><th scope=col>Date</th><th scope=col>Buy1</th><th scope=col>Buy2</th><th scope=col>Buy3</th><th scope=col>Buy4</th><th scope=col>Buy5</th><th scope=col>Sell1</th><th scope=col>Sell2</th><th scope=col>Sell3</th><th scope=col>Sell4</th><th scope=col>Sell5</th><th scope=col>IBM_div</th><th scope=col>MSFT_div</th><th scope=col>AAPL_div</th><th scope=col>ORCL_div</th><th scope=col>SAP_div</th></tr>\n",
       "\t<tr><th></th><th scope=col>&lt;date&gt;</th><th scope=col>&lt;dbl&gt;</th><th scope=col>&lt;dbl&gt;</th><th scope=col>&lt;dbl&gt;</th><th scope=col>&lt;dbl&gt;</th><th scope=col>&lt;dbl&gt;</th><th scope=col>&lt;dbl&gt;</th><th scope=col>&lt;dbl&gt;</th><th scope=col>&lt;dbl&gt;</th><th scope=col>&lt;dbl&gt;</th><th scope=col>&lt;dbl&gt;</th><th scope=col>&lt;dbl&gt;</th><th scope=col>&lt;dbl&gt;</th><th scope=col>&lt;dbl&gt;</th><th scope=col>&lt;dbl&gt;</th><th scope=col>&lt;dbl&gt;</th></tr>\n",
       "</thead>\n",
       "<tbody>\n",
       "\t<tr><th scope=row>1</th><td>2018-01-02</td><td>147.4665</td><td> 85.95</td><td>53.2500</td><td> 43.0650</td><td>59.4505</td><td>      NA</td><td>   NA</td><td>    NA</td><td>     NA</td><td>    NA</td><td>NA</td><td>NA</td><td>NA</td><td>NA</td><td>NA</td></tr>\n",
       "\t<tr><th scope=row>2</th><td>2018-01-03</td><td>151.5201</td><td> 86.35</td><td>54.1240</td><td> 43.0575</td><td>60.2100</td><td>      NA</td><td>   NA</td><td>    NA</td><td>     NA</td><td>    NA</td><td>NA</td><td>NA</td><td>NA</td><td>NA</td><td>NA</td></tr>\n",
       "\t<tr><th scope=row>3</th><td>2018-01-04</td><td>154.5889</td><td> 87.11</td><td>54.3200</td><td> 43.2575</td><td>60.4795</td><td>      NA</td><td>   NA</td><td>    NA</td><td>     NA</td><td>    NA</td><td>NA</td><td>NA</td><td>NA</td><td>NA</td><td>NA</td></tr>\n",
       "\t<tr><th scope=row>4</th><td>2018-01-05</td><td>155.3442</td><td> 88.19</td><td>55.1115</td><td> 43.7500</td><td>61.4570</td><td>      NA</td><td>   NA</td><td>    NA</td><td>     NA</td><td>    NA</td><td>NA</td><td>NA</td><td>NA</td><td>NA</td><td>NA</td></tr>\n",
       "\t<tr><th scope=row>5</th><td>2018-01-08</td><td>156.2811</td><td> 88.28</td><td>55.3470</td><td> 43.5875</td><td>62.3435</td><td>      NA</td><td>   NA</td><td>    NA</td><td>     NA</td><td>    NA</td><td>NA</td><td>NA</td><td>NA</td><td>NA</td><td>NA</td></tr>\n",
       "\t<tr><th scope=row>6</th><td>2018-01-09</td><td> 43.5825</td><td>114.16</td><td>88.2200</td><td>187.8700</td><td>55.3130</td><td>156.6252</td><td>88.22</td><td>55.313</td><td>43.5825</td><td>62.635</td><td>NA</td><td>NA</td><td>NA</td><td>NA</td><td>NA</td></tr>\n",
       "</tbody>\n",
       "</table>\n"
      ],
      "text/latex": [
       "A data.frame: 6 × 16\n",
       "\\begin{tabular}{r|llllllllllllllll}\n",
       "  & Date & Buy1 & Buy2 & Buy3 & Buy4 & Buy5 & Sell1 & Sell2 & Sell3 & Sell4 & Sell5 & IBM\\_div & MSFT\\_div & AAPL\\_div & ORCL\\_div & SAP\\_div\\\\\n",
       "  & <date> & <dbl> & <dbl> & <dbl> & <dbl> & <dbl> & <dbl> & <dbl> & <dbl> & <dbl> & <dbl> & <dbl> & <dbl> & <dbl> & <dbl> & <dbl>\\\\\n",
       "\\hline\n",
       "\t1 & 2018-01-02 & 147.4665 &  85.95 & 53.2500 &  43.0650 & 59.4505 &       NA &    NA &     NA &      NA &     NA & NA & NA & NA & NA & NA\\\\\n",
       "\t2 & 2018-01-03 & 151.5201 &  86.35 & 54.1240 &  43.0575 & 60.2100 &       NA &    NA &     NA &      NA &     NA & NA & NA & NA & NA & NA\\\\\n",
       "\t3 & 2018-01-04 & 154.5889 &  87.11 & 54.3200 &  43.2575 & 60.4795 &       NA &    NA &     NA &      NA &     NA & NA & NA & NA & NA & NA\\\\\n",
       "\t4 & 2018-01-05 & 155.3442 &  88.19 & 55.1115 &  43.7500 & 61.4570 &       NA &    NA &     NA &      NA &     NA & NA & NA & NA & NA & NA\\\\\n",
       "\t5 & 2018-01-08 & 156.2811 &  88.28 & 55.3470 &  43.5875 & 62.3435 &       NA &    NA &     NA &      NA &     NA & NA & NA & NA & NA & NA\\\\\n",
       "\t6 & 2018-01-09 &  43.5825 & 114.16 & 88.2200 & 187.8700 & 55.3130 & 156.6252 & 88.22 & 55.313 & 43.5825 & 62.635 & NA & NA & NA & NA & NA\\\\\n",
       "\\end{tabular}\n"
      ],
      "text/markdown": [
       "\n",
       "A data.frame: 6 × 16\n",
       "\n",
       "| <!--/--> | Date &lt;date&gt; | Buy1 &lt;dbl&gt; | Buy2 &lt;dbl&gt; | Buy3 &lt;dbl&gt; | Buy4 &lt;dbl&gt; | Buy5 &lt;dbl&gt; | Sell1 &lt;dbl&gt; | Sell2 &lt;dbl&gt; | Sell3 &lt;dbl&gt; | Sell4 &lt;dbl&gt; | Sell5 &lt;dbl&gt; | IBM_div &lt;dbl&gt; | MSFT_div &lt;dbl&gt; | AAPL_div &lt;dbl&gt; | ORCL_div &lt;dbl&gt; | SAP_div &lt;dbl&gt; |\n",
       "|---|---|---|---|---|---|---|---|---|---|---|---|---|---|---|---|---|\n",
       "| 1 | 2018-01-02 | 147.4665 |  85.95 | 53.2500 |  43.0650 | 59.4505 |       NA |    NA |     NA |      NA |     NA | NA | NA | NA | NA | NA |\n",
       "| 2 | 2018-01-03 | 151.5201 |  86.35 | 54.1240 |  43.0575 | 60.2100 |       NA |    NA |     NA |      NA |     NA | NA | NA | NA | NA | NA |\n",
       "| 3 | 2018-01-04 | 154.5889 |  87.11 | 54.3200 |  43.2575 | 60.4795 |       NA |    NA |     NA |      NA |     NA | NA | NA | NA | NA | NA |\n",
       "| 4 | 2018-01-05 | 155.3442 |  88.19 | 55.1115 |  43.7500 | 61.4570 |       NA |    NA |     NA |      NA |     NA | NA | NA | NA | NA | NA |\n",
       "| 5 | 2018-01-08 | 156.2811 |  88.28 | 55.3470 |  43.5875 | 62.3435 |       NA |    NA |     NA |      NA |     NA | NA | NA | NA | NA | NA |\n",
       "| 6 | 2018-01-09 |  43.5825 | 114.16 | 88.2200 | 187.8700 | 55.3130 | 156.6252 | 88.22 | 55.313 | 43.5825 | 62.635 | NA | NA | NA | NA | NA |\n",
       "\n"
      ],
      "text/plain": [
       "  Date       Buy1     Buy2   Buy3    Buy4     Buy5    Sell1    Sell2 Sell3 \n",
       "1 2018-01-02 147.4665  85.95 53.2500  43.0650 59.4505       NA    NA     NA\n",
       "2 2018-01-03 151.5201  86.35 54.1240  43.0575 60.2100       NA    NA     NA\n",
       "3 2018-01-04 154.5889  87.11 54.3200  43.2575 60.4795       NA    NA     NA\n",
       "4 2018-01-05 155.3442  88.19 55.1115  43.7500 61.4570       NA    NA     NA\n",
       "5 2018-01-08 156.2811  88.28 55.3470  43.5875 62.3435       NA    NA     NA\n",
       "6 2018-01-09  43.5825 114.16 88.2200 187.8700 55.3130 156.6252 88.22 55.313\n",
       "  Sell4   Sell5  IBM_div MSFT_div AAPL_div ORCL_div SAP_div\n",
       "1      NA     NA NA      NA       NA       NA       NA     \n",
       "2      NA     NA NA      NA       NA       NA       NA     \n",
       "3      NA     NA NA      NA       NA       NA       NA     \n",
       "4      NA     NA NA      NA       NA       NA       NA     \n",
       "5      NA     NA NA      NA       NA       NA       NA     \n",
       "6 43.5825 62.635 NA      NA       NA       NA       NA     "
      ]
     },
     "metadata": {},
     "output_type": "display_data"
    }
   ],
   "source": [
    "#merge w percent_change_df \n",
    "df2low = merge(x=final_df,y=percent_change_df, by =\"Date\", all.y=TRUE)\n",
    "df2low = df2low[,1:16]\n",
    "names(df2low)[7:11]=c('Sell1','Sell2','Sell3','Sell4','Sell5')\n",
    "head(df2low)"
   ]
  },
  {
   "cell_type": "code",
   "execution_count": 170,
   "id": "170f09a7",
   "metadata": {},
   "outputs": [],
   "source": [
    "#logic to simulate the trading throughout the year \n",
    "cash = 5000000\n",
    "shares_bin = c()\n",
    "mtm = c()\n",
    "\n",
    "#loop through each row \n",
    "for (i in 1:nrow(df2low)){\n",
    "    #on first day, just buy, since initializing portfolio \n",
    "    if (i == 1){\n",
    "        #buy\n",
    "        cashperstock = cash/5\n",
    "        for (j in 2:6){\n",
    "            shares = floor(cashperstock/df2low[i,j])\n",
    "            cash = cash - (shares*df2low[i,j])  \n",
    "            shares_bin = c(shares_bin,shares)                                                                                                   \n",
    "            }\n",
    "            }\n",
    "        \n",
    "    else if((i-1)%%5 ==0){\n",
    "        #these are rebalancing days \n",
    "            for (j in 2:6){\n",
    "            #sell\n",
    "                received = shares_bin[j-1]*df2low[i,j+5]\n",
    "                cash = cash + received \n",
    "            }\n",
    "        #store mtm, reset shares bin, recalcualte cashperstock based on new cash from sales \n",
    "            mtm = c(mtm,cash)\n",
    "            shares_bin = c()\n",
    "            cashperstock = cash/5\n",
    "            for (j in 2:6){\n",
    "                #buy \n",
    "                shares = floor(cashperstock/df2low[i,j])\n",
    "                cash = cash - (shares*df2low[i,j])  \n",
    "                shares_bin = c(shares_bin,shares)\n",
    "            } \n",
    "        }\n",
    "        \n",
    "    else {\n",
    "        #non selling days (just have to calculate mtm)\n",
    "            s=c()\n",
    "            for (j in 2:6){\n",
    "                z = shares_bin[j-1]*df2low[i,j]\n",
    "                s = c(s,z)\n",
    "                }\n",
    "                            #dividend payment\n",
    "            for (d in 12:16){\n",
    "                if(!is.na(df2low[i,d])){\n",
    "                    cash = cash+(shares_bin[d-11]*df2low[i,d])\n",
    "        }\n",
    "            }\n",
    "        #mtm calculation\n",
    "        summed= sum(s)\n",
    "        mtm_intermed = cash+summed\n",
    "        mtm = c(mtm,mtm_intermed)\n",
    "         }\n",
    "    }       "
   ]
  },
  {
   "cell_type": "code",
   "execution_count": 171,
   "id": "18aac683",
   "metadata": {},
   "outputs": [
    {
     "data": {
      "text/html": [
       "<table class=\"dataframe\">\n",
       "<caption>A data.frame: 6 × 17</caption>\n",
       "<thead>\n",
       "\t<tr><th></th><th scope=col>Date</th><th scope=col>Buy1</th><th scope=col>Buy2</th><th scope=col>Buy3</th><th scope=col>Buy4</th><th scope=col>Buy5</th><th scope=col>Sell1</th><th scope=col>Sell2</th><th scope=col>Sell3</th><th scope=col>Sell4</th><th scope=col>Sell5</th><th scope=col>IBM_div</th><th scope=col>MSFT_div</th><th scope=col>AAPL_div</th><th scope=col>ORCL_div</th><th scope=col>SAP_div</th><th scope=col>mtm</th></tr>\n",
       "\t<tr><th></th><th scope=col>&lt;date&gt;</th><th scope=col>&lt;dbl&gt;</th><th scope=col>&lt;dbl&gt;</th><th scope=col>&lt;dbl&gt;</th><th scope=col>&lt;dbl&gt;</th><th scope=col>&lt;dbl&gt;</th><th scope=col>&lt;dbl&gt;</th><th scope=col>&lt;dbl&gt;</th><th scope=col>&lt;dbl&gt;</th><th scope=col>&lt;dbl&gt;</th><th scope=col>&lt;dbl&gt;</th><th scope=col>&lt;dbl&gt;</th><th scope=col>&lt;dbl&gt;</th><th scope=col>&lt;dbl&gt;</th><th scope=col>&lt;dbl&gt;</th><th scope=col>&lt;dbl&gt;</th><th scope=col>&lt;dbl&gt;</th></tr>\n",
       "</thead>\n",
       "<tbody>\n",
       "\t<tr><th scope=row>1</th><td>2018-01-02</td><td>147.4665</td><td> 85.95</td><td>53.2500</td><td> 43.0650</td><td>59.4505</td><td>      NA</td><td>   NA</td><td>    NA</td><td>     NA</td><td>    NA</td><td>NA</td><td>NA</td><td>NA</td><td>NA</td><td>NA</td><td>5000000</td></tr>\n",
       "\t<tr><th scope=row>2</th><td>2018-01-03</td><td>151.5201</td><td> 86.35</td><td>54.1240</td><td> 43.0575</td><td>60.2100</td><td>      NA</td><td>   NA</td><td>    NA</td><td>     NA</td><td>    NA</td><td>NA</td><td>NA</td><td>NA</td><td>NA</td><td>NA</td><td>5061154</td></tr>\n",
       "\t<tr><th scope=row>3</th><td>2018-01-04</td><td>154.5889</td><td> 87.11</td><td>54.3200</td><td> 43.2575</td><td>60.4795</td><td>      NA</td><td>   NA</td><td>    NA</td><td>     NA</td><td>    NA</td><td>NA</td><td>NA</td><td>NA</td><td>NA</td><td>NA</td><td>5103664</td></tr>\n",
       "\t<tr><th scope=row>4</th><td>2018-01-05</td><td>155.3442</td><td> 88.19</td><td>55.1115</td><td> 43.7500</td><td>61.4570</td><td>      NA</td><td>   NA</td><td>    NA</td><td>     NA</td><td>    NA</td><td>NA</td><td>NA</td><td>NA</td><td>NA</td><td>NA</td><td>5164091</td></tr>\n",
       "\t<tr><th scope=row>5</th><td>2018-01-08</td><td>156.2811</td><td> 88.28</td><td>55.3470</td><td> 43.5875</td><td>62.3435</td><td>      NA</td><td>   NA</td><td>    NA</td><td>     NA</td><td>    NA</td><td>NA</td><td>NA</td><td>NA</td><td>NA</td><td>NA</td><td>5187051</td></tr>\n",
       "\t<tr><th scope=row>6</th><td>2018-01-09</td><td> 43.5825</td><td>114.16</td><td>88.2200</td><td>187.8700</td><td>55.3130</td><td>156.6252</td><td>88.22</td><td>55.313</td><td>43.5825</td><td>62.635</td><td>NA</td><td>NA</td><td>NA</td><td>NA</td><td>NA</td><td>5192835</td></tr>\n",
       "</tbody>\n",
       "</table>\n"
      ],
      "text/latex": [
       "A data.frame: 6 × 17\n",
       "\\begin{tabular}{r|lllllllllllllllll}\n",
       "  & Date & Buy1 & Buy2 & Buy3 & Buy4 & Buy5 & Sell1 & Sell2 & Sell3 & Sell4 & Sell5 & IBM\\_div & MSFT\\_div & AAPL\\_div & ORCL\\_div & SAP\\_div & mtm\\\\\n",
       "  & <date> & <dbl> & <dbl> & <dbl> & <dbl> & <dbl> & <dbl> & <dbl> & <dbl> & <dbl> & <dbl> & <dbl> & <dbl> & <dbl> & <dbl> & <dbl> & <dbl>\\\\\n",
       "\\hline\n",
       "\t1 & 2018-01-02 & 147.4665 &  85.95 & 53.2500 &  43.0650 & 59.4505 &       NA &    NA &     NA &      NA &     NA & NA & NA & NA & NA & NA & 5000000\\\\\n",
       "\t2 & 2018-01-03 & 151.5201 &  86.35 & 54.1240 &  43.0575 & 60.2100 &       NA &    NA &     NA &      NA &     NA & NA & NA & NA & NA & NA & 5061154\\\\\n",
       "\t3 & 2018-01-04 & 154.5889 &  87.11 & 54.3200 &  43.2575 & 60.4795 &       NA &    NA &     NA &      NA &     NA & NA & NA & NA & NA & NA & 5103664\\\\\n",
       "\t4 & 2018-01-05 & 155.3442 &  88.19 & 55.1115 &  43.7500 & 61.4570 &       NA &    NA &     NA &      NA &     NA & NA & NA & NA & NA & NA & 5164091\\\\\n",
       "\t5 & 2018-01-08 & 156.2811 &  88.28 & 55.3470 &  43.5875 & 62.3435 &       NA &    NA &     NA &      NA &     NA & NA & NA & NA & NA & NA & 5187051\\\\\n",
       "\t6 & 2018-01-09 &  43.5825 & 114.16 & 88.2200 & 187.8700 & 55.3130 & 156.6252 & 88.22 & 55.313 & 43.5825 & 62.635 & NA & NA & NA & NA & NA & 5192835\\\\\n",
       "\\end{tabular}\n"
      ],
      "text/markdown": [
       "\n",
       "A data.frame: 6 × 17\n",
       "\n",
       "| <!--/--> | Date &lt;date&gt; | Buy1 &lt;dbl&gt; | Buy2 &lt;dbl&gt; | Buy3 &lt;dbl&gt; | Buy4 &lt;dbl&gt; | Buy5 &lt;dbl&gt; | Sell1 &lt;dbl&gt; | Sell2 &lt;dbl&gt; | Sell3 &lt;dbl&gt; | Sell4 &lt;dbl&gt; | Sell5 &lt;dbl&gt; | IBM_div &lt;dbl&gt; | MSFT_div &lt;dbl&gt; | AAPL_div &lt;dbl&gt; | ORCL_div &lt;dbl&gt; | SAP_div &lt;dbl&gt; | mtm &lt;dbl&gt; |\n",
       "|---|---|---|---|---|---|---|---|---|---|---|---|---|---|---|---|---|---|\n",
       "| 1 | 2018-01-02 | 147.4665 |  85.95 | 53.2500 |  43.0650 | 59.4505 |       NA |    NA |     NA |      NA |     NA | NA | NA | NA | NA | NA | 5000000 |\n",
       "| 2 | 2018-01-03 | 151.5201 |  86.35 | 54.1240 |  43.0575 | 60.2100 |       NA |    NA |     NA |      NA |     NA | NA | NA | NA | NA | NA | 5061154 |\n",
       "| 3 | 2018-01-04 | 154.5889 |  87.11 | 54.3200 |  43.2575 | 60.4795 |       NA |    NA |     NA |      NA |     NA | NA | NA | NA | NA | NA | 5103664 |\n",
       "| 4 | 2018-01-05 | 155.3442 |  88.19 | 55.1115 |  43.7500 | 61.4570 |       NA |    NA |     NA |      NA |     NA | NA | NA | NA | NA | NA | 5164091 |\n",
       "| 5 | 2018-01-08 | 156.2811 |  88.28 | 55.3470 |  43.5875 | 62.3435 |       NA |    NA |     NA |      NA |     NA | NA | NA | NA | NA | NA | 5187051 |\n",
       "| 6 | 2018-01-09 |  43.5825 | 114.16 | 88.2200 | 187.8700 | 55.3130 | 156.6252 | 88.22 | 55.313 | 43.5825 | 62.635 | NA | NA | NA | NA | NA | 5192835 |\n",
       "\n"
      ],
      "text/plain": [
       "  Date       Buy1     Buy2   Buy3    Buy4     Buy5    Sell1    Sell2 Sell3 \n",
       "1 2018-01-02 147.4665  85.95 53.2500  43.0650 59.4505       NA    NA     NA\n",
       "2 2018-01-03 151.5201  86.35 54.1240  43.0575 60.2100       NA    NA     NA\n",
       "3 2018-01-04 154.5889  87.11 54.3200  43.2575 60.4795       NA    NA     NA\n",
       "4 2018-01-05 155.3442  88.19 55.1115  43.7500 61.4570       NA    NA     NA\n",
       "5 2018-01-08 156.2811  88.28 55.3470  43.5875 62.3435       NA    NA     NA\n",
       "6 2018-01-09  43.5825 114.16 88.2200 187.8700 55.3130 156.6252 88.22 55.313\n",
       "  Sell4   Sell5  IBM_div MSFT_div AAPL_div ORCL_div SAP_div mtm    \n",
       "1      NA     NA NA      NA       NA       NA       NA      5000000\n",
       "2      NA     NA NA      NA       NA       NA       NA      5061154\n",
       "3      NA     NA NA      NA       NA       NA       NA      5103664\n",
       "4      NA     NA NA      NA       NA       NA       NA      5164091\n",
       "5      NA     NA NA      NA       NA       NA       NA      5187051\n",
       "6 43.5825 62.635 NA      NA       NA       NA       NA      5192835"
      ]
     },
     "metadata": {},
     "output_type": "display_data"
    }
   ],
   "source": [
    "#append mtm as new column in df2\n",
    "df2low$mtm = c(5000000,mtm)\n",
    "head(df2low)\n",
    "df_compare_hti = df2low #for later"
   ]
  },
  {
   "cell_type": "code",
   "execution_count": 172,
   "id": "6794a1a8",
   "metadata": {},
   "outputs": [
    {
     "data": {
      "text/html": [
       "5416403.615153"
      ],
      "text/latex": [
       "5416403.615153"
      ],
      "text/markdown": [
       "5416403.615153"
      ],
      "text/plain": [
       "[1] 5416404"
      ]
     },
     "metadata": {},
     "output_type": "display_data"
    }
   ],
   "source": [
    "df2low[251,17]"
   ]
  },
  {
   "cell_type": "code",
   "execution_count": 173,
   "id": "3cffd1ed",
   "metadata": {},
   "outputs": [],
   "source": [
    "#The MTM increased from $5 million to ~ $5,416,404 EOY, using this \"5 days rebalancing of buying low\" strategy"
   ]
  },
  {
   "cell_type": "markdown",
   "id": "2a00f15a",
   "metadata": {},
   "source": [
    "# 5 Days Rebalancing of Buying High"
   ]
  },
  {
   "cell_type": "code",
   "execution_count": 174,
   "id": "309d6642",
   "metadata": {},
   "outputs": [],
   "source": [
    "#same as before, except for minor tweak to percent change formula"
   ]
  },
  {
   "cell_type": "code",
   "execution_count": 175,
   "id": "f2a511ef",
   "metadata": {},
   "outputs": [
    {
     "name": "stderr",
     "output_type": "stream",
     "text": [
      "Warning message in merge.data.frame(percent_change_df, change, by = \"Date\"):\n",
      "\"column names 'change.x', 'change.y' are duplicated in the result\"\n",
      "Warning message in merge.data.frame(percent_change_df, change, by = \"Date\"):\n",
      "\"column names 'change.x', 'change.y' are duplicated in the result\"\n",
      "Warning message in merge.data.frame(percent_change_df, change, by = \"Date\"):\n",
      "\"column names 'change.x', 'change.y', 'change.x', 'change.y' are duplicated in the result\"\n",
      "Warning message in merge.data.frame(percent_change_df, change, by = \"Date\"):\n",
      "\"column names 'change.x', 'change.y', 'change.x', 'change.y' are duplicated in the result\"\n",
      "Warning message in merge.data.frame(percent_change_df, change, by = \"Date\"):\n",
      "\"column names 'change.x', 'change.y', 'change.x', 'change.y', 'change.x', 'change.y' are duplicated in the result\"\n",
      "Warning message in merge.data.frame(percent_change_df, change, by = \"Date\"):\n",
      "\"column names 'change.x', 'change.y', 'change.x', 'change.y', 'change.x', 'change.y' are duplicated in the result\"\n",
      "Warning message in merge.data.frame(percent_change_df, change, by = \"Date\"):\n",
      "\"column names 'change.x', 'change.y', 'change.x', 'change.y', 'change.x', 'change.y', 'change.x', 'change.y' are duplicated in the result\"\n"
     ]
    }
   ],
   "source": [
    "percent_change_df = data.frame(Date = merged$Date)\n",
    "for (i in universe){\n",
    "    change = arrange(merged,Date) %>% transmute(Date, change = get(paste0(\"Adj.Close_\", i))/lag(get(paste0(\"Adj.Close_\", i)), n=5)) \n",
    "    percent_change_df <- merge(percent_change_df, change, by = \"Date\")\n",
    "}"
   ]
  },
  {
   "cell_type": "code",
   "execution_count": 176,
   "id": "0f6c8439",
   "metadata": {},
   "outputs": [],
   "source": [
    "names(percent_change_df)= c(\"Date\", \"5Day%Change_IBM\",\"5Day%Change_MSFT\",\"5Day%Change_GOOG\", \"5Day%Change_AAPL\", \"5Day%Change_AMZN\",\"5Day%Change_FB\", \"5Day%Change_NFLX\",\"5Day%Change_TSLA\",\"5Day%Change_ORCL\",\"5Day%Change_SAP\")"
   ]
  },
  {
   "cell_type": "code",
   "execution_count": 177,
   "id": "8f2efef5",
   "metadata": {},
   "outputs": [
    {
     "data": {
      "text/html": [
       "<table class=\"dataframe\">\n",
       "<caption>A data.frame: 6 × 11</caption>\n",
       "<thead>\n",
       "\t<tr><th></th><th scope=col>Date</th><th scope=col>5Day%Change_IBM</th><th scope=col>5Day%Change_MSFT</th><th scope=col>5Day%Change_GOOG</th><th scope=col>5Day%Change_AAPL</th><th scope=col>5Day%Change_AMZN</th><th scope=col>5Day%Change_FB</th><th scope=col>5Day%Change_NFLX</th><th scope=col>5Day%Change_TSLA</th><th scope=col>5Day%Change_ORCL</th><th scope=col>5Day%Change_SAP</th></tr>\n",
       "\t<tr><th></th><th scope=col>&lt;date&gt;</th><th scope=col>&lt;dbl&gt;</th><th scope=col>&lt;dbl&gt;</th><th scope=col>&lt;dbl&gt;</th><th scope=col>&lt;dbl&gt;</th><th scope=col>&lt;dbl&gt;</th><th scope=col>&lt;dbl&gt;</th><th scope=col>&lt;dbl&gt;</th><th scope=col>&lt;dbl&gt;</th><th scope=col>&lt;dbl&gt;</th><th scope=col>&lt;dbl&gt;</th></tr>\n",
       "</thead>\n",
       "<tbody>\n",
       "\t<tr><th scope=row>1</th><td>2018-01-02</td><td>       NA</td><td>       NA</td><td>       NA</td><td>       NA</td><td>       NA</td><td>       NA</td><td>       NA</td><td>       NA</td><td>       NA</td><td>       NA</td></tr>\n",
       "\t<tr><th scope=row>6</th><td>2018-01-09</td><td>1.0621071</td><td>1.0264109</td><td>1.0387418</td><td>1.0120167</td><td>1.0535655</td><td>1.0355528</td><td>1.0409807</td><td>1.0410569</td><td>1.0562096</td><td>1.0157488</td></tr>\n",
       "\t<tr><th scope=row>11</th><td>2018-01-17</td><td>1.0294209</td><td>1.0217636</td><td>1.0232495</td><td>1.0273620</td><td>1.0337671</td><td>0.9453346</td><td>1.0391286</td><td>1.0403668</td><td>1.0246636</td><td>0.9739838</td></tr>\n",
       "\t<tr><th scope=row>16</th><td>2018-01-24</td><td>0.9805513</td><td>1.0186376</td><td>1.0284988</td><td>0.9727527</td><td>1.0482703</td><td>1.0503941</td><td>1.2013793</td><td>0.9963418</td><td>1.0234733</td><td>1.0285998</td></tr>\n",
       "\t<tr><th scope=row>21</th><td>2018-01-31</td><td>0.9899017</td><td>1.0347420</td><td>1.0048959</td><td>0.9610261</td><td>1.0687877</td><td>1.0018225</td><td>1.0344432</td><td>1.0243430</td><td>1.0027212</td><td>0.9902072</td></tr>\n",
       "\t<tr><th scope=row>26</th><td>2018-02-07</td><td>0.9398289</td><td>0.9431641</td><td>0.8962682</td><td>0.9528759</td><td>0.9764902</td><td>0.9640965</td><td>0.9787644</td><td>0.9737236</td><td>0.9472765</td><td>0.9279470</td></tr>\n",
       "</tbody>\n",
       "</table>\n"
      ],
      "text/latex": [
       "A data.frame: 6 × 11\n",
       "\\begin{tabular}{r|lllllllllll}\n",
       "  & Date & 5Day\\%Change\\_IBM & 5Day\\%Change\\_MSFT & 5Day\\%Change\\_GOOG & 5Day\\%Change\\_AAPL & 5Day\\%Change\\_AMZN & 5Day\\%Change\\_FB & 5Day\\%Change\\_NFLX & 5Day\\%Change\\_TSLA & 5Day\\%Change\\_ORCL & 5Day\\%Change\\_SAP\\\\\n",
       "  & <date> & <dbl> & <dbl> & <dbl> & <dbl> & <dbl> & <dbl> & <dbl> & <dbl> & <dbl> & <dbl>\\\\\n",
       "\\hline\n",
       "\t1 & 2018-01-02 &        NA &        NA &        NA &        NA &        NA &        NA &        NA &        NA &        NA &        NA\\\\\n",
       "\t6 & 2018-01-09 & 1.0621071 & 1.0264109 & 1.0387418 & 1.0120167 & 1.0535655 & 1.0355528 & 1.0409807 & 1.0410569 & 1.0562096 & 1.0157488\\\\\n",
       "\t11 & 2018-01-17 & 1.0294209 & 1.0217636 & 1.0232495 & 1.0273620 & 1.0337671 & 0.9453346 & 1.0391286 & 1.0403668 & 1.0246636 & 0.9739838\\\\\n",
       "\t16 & 2018-01-24 & 0.9805513 & 1.0186376 & 1.0284988 & 0.9727527 & 1.0482703 & 1.0503941 & 1.2013793 & 0.9963418 & 1.0234733 & 1.0285998\\\\\n",
       "\t21 & 2018-01-31 & 0.9899017 & 1.0347420 & 1.0048959 & 0.9610261 & 1.0687877 & 1.0018225 & 1.0344432 & 1.0243430 & 1.0027212 & 0.9902072\\\\\n",
       "\t26 & 2018-02-07 & 0.9398289 & 0.9431641 & 0.8962682 & 0.9528759 & 0.9764902 & 0.9640965 & 0.9787644 & 0.9737236 & 0.9472765 & 0.9279470\\\\\n",
       "\\end{tabular}\n"
      ],
      "text/markdown": [
       "\n",
       "A data.frame: 6 × 11\n",
       "\n",
       "| <!--/--> | Date &lt;date&gt; | 5Day%Change_IBM &lt;dbl&gt; | 5Day%Change_MSFT &lt;dbl&gt; | 5Day%Change_GOOG &lt;dbl&gt; | 5Day%Change_AAPL &lt;dbl&gt; | 5Day%Change_AMZN &lt;dbl&gt; | 5Day%Change_FB &lt;dbl&gt; | 5Day%Change_NFLX &lt;dbl&gt; | 5Day%Change_TSLA &lt;dbl&gt; | 5Day%Change_ORCL &lt;dbl&gt; | 5Day%Change_SAP &lt;dbl&gt; |\n",
       "|---|---|---|---|---|---|---|---|---|---|---|---|\n",
       "| 1 | 2018-01-02 |        NA |        NA |        NA |        NA |        NA |        NA |        NA |        NA |        NA |        NA |\n",
       "| 6 | 2018-01-09 | 1.0621071 | 1.0264109 | 1.0387418 | 1.0120167 | 1.0535655 | 1.0355528 | 1.0409807 | 1.0410569 | 1.0562096 | 1.0157488 |\n",
       "| 11 | 2018-01-17 | 1.0294209 | 1.0217636 | 1.0232495 | 1.0273620 | 1.0337671 | 0.9453346 | 1.0391286 | 1.0403668 | 1.0246636 | 0.9739838 |\n",
       "| 16 | 2018-01-24 | 0.9805513 | 1.0186376 | 1.0284988 | 0.9727527 | 1.0482703 | 1.0503941 | 1.2013793 | 0.9963418 | 1.0234733 | 1.0285998 |\n",
       "| 21 | 2018-01-31 | 0.9899017 | 1.0347420 | 1.0048959 | 0.9610261 | 1.0687877 | 1.0018225 | 1.0344432 | 1.0243430 | 1.0027212 | 0.9902072 |\n",
       "| 26 | 2018-02-07 | 0.9398289 | 0.9431641 | 0.8962682 | 0.9528759 | 0.9764902 | 0.9640965 | 0.9787644 | 0.9737236 | 0.9472765 | 0.9279470 |\n",
       "\n"
      ],
      "text/plain": [
       "   Date       5Day%Change_IBM 5Day%Change_MSFT 5Day%Change_GOOG\n",
       "1  2018-01-02        NA              NA               NA       \n",
       "6  2018-01-09 1.0621071       1.0264109        1.0387418       \n",
       "11 2018-01-17 1.0294209       1.0217636        1.0232495       \n",
       "16 2018-01-24 0.9805513       1.0186376        1.0284988       \n",
       "21 2018-01-31 0.9899017       1.0347420        1.0048959       \n",
       "26 2018-02-07 0.9398289       0.9431641        0.8962682       \n",
       "   5Day%Change_AAPL 5Day%Change_AMZN 5Day%Change_FB 5Day%Change_NFLX\n",
       "1         NA               NA               NA             NA       \n",
       "6  1.0120167        1.0535655        1.0355528      1.0409807       \n",
       "11 1.0273620        1.0337671        0.9453346      1.0391286       \n",
       "16 0.9727527        1.0482703        1.0503941      1.2013793       \n",
       "21 0.9610261        1.0687877        1.0018225      1.0344432       \n",
       "26 0.9528759        0.9764902        0.9640965      0.9787644       \n",
       "   5Day%Change_TSLA 5Day%Change_ORCL 5Day%Change_SAP\n",
       "1         NA               NA               NA      \n",
       "6  1.0410569        1.0562096        1.0157488      \n",
       "11 1.0403668        1.0246636        0.9739838      \n",
       "16 0.9963418        1.0234733        1.0285998      \n",
       "21 1.0243430        1.0027212        0.9902072      \n",
       "26 0.9737236        0.9472765        0.9279470      "
      ]
     },
     "metadata": {},
     "output_type": "display_data"
    }
   ],
   "source": [
    "every_fifth_day= percent_change_df[seq(1, nrow(df), 5), ]\n",
    "head(every_fifth_day)"
   ]
  },
  {
   "cell_type": "code",
   "execution_count": 178,
   "id": "b5c65847",
   "metadata": {},
   "outputs": [],
   "source": [
    "purchases = apply(every_fifth_day[2:length(every_fifth_day)], 1, function(row)tail(sort(row),5))"
   ]
  },
  {
   "cell_type": "code",
   "execution_count": 179,
   "id": "c9303829",
   "metadata": {},
   "outputs": [],
   "source": [
    "x = lapply(purchases, function(inner_list) {\n",
    "  lapply(names(inner_list), function(subname) {\n",
    "      return(subname)\n",
    "  })\n",
    "})"
   ]
  },
  {
   "cell_type": "code",
   "execution_count": 180,
   "id": "0bad6df0",
   "metadata": {},
   "outputs": [],
   "source": [
    "company_names = c()\n",
    "for (element in x){\n",
    "    for (company in element){\n",
    "        name = str_remove(company, \"5Day%Change_\")\n",
    "        company_names = c(company_names, name)\n",
    "    }\n",
    "}"
   ]
  },
  {
   "cell_type": "code",
   "execution_count": 181,
   "id": "10fd5922",
   "metadata": {},
   "outputs": [],
   "source": [
    "buy = data.frame(Date = every_fifth_day$Date[-1],matrix(company_names, ncol=5, byrow=TRUE))\n",
    "names(buy) = c(\"Date\",\"Buy1\",\"Buy2\",\"Buy3\",\"Buy4\",\"Buy5\")\n",
    "buy = mutate(buy, Sell1 = c(NA,head(buy$Buy1, -1)))\n",
    "buy =mutate(buy, Sell2 = c(NA,head(buy$Buy2, -1)))\n",
    "buy = mutate(buy, Sell3 = c(NA,head(buy$Buy3, -1)))\n",
    "buy= mutate(buy, Sell4 = c(NA,head(buy$Buy4, -1)))\n",
    "buy = mutate(buy, Sell5 = c(NA,head(buy$Buy5, -1)))"
   ]
  },
  {
   "cell_type": "code",
   "execution_count": 182,
   "id": "5c96e5fb",
   "metadata": {
    "scrolled": true
   },
   "outputs": [
    {
     "data": {
      "text/html": [
       "<table class=\"dataframe\">\n",
       "<caption>A data.frame: 6 × 11</caption>\n",
       "<thead>\n",
       "\t<tr><th></th><th scope=col>Date</th><th scope=col>Buy1</th><th scope=col>Buy2</th><th scope=col>Buy3</th><th scope=col>Buy4</th><th scope=col>Buy5</th><th scope=col>Sell1</th><th scope=col>Sell2</th><th scope=col>Sell3</th><th scope=col>Sell4</th><th scope=col>Sell5</th></tr>\n",
       "\t<tr><th></th><th scope=col>&lt;date&gt;</th><th scope=col>&lt;chr&gt;</th><th scope=col>&lt;chr&gt;</th><th scope=col>&lt;chr&gt;</th><th scope=col>&lt;chr&gt;</th><th scope=col>&lt;chr&gt;</th><th scope=col>&lt;chr&gt;</th><th scope=col>&lt;chr&gt;</th><th scope=col>&lt;chr&gt;</th><th scope=col>&lt;chr&gt;</th><th scope=col>&lt;chr&gt;</th></tr>\n",
       "</thead>\n",
       "<tbody>\n",
       "\t<tr><th scope=row>1</th><td>2018-01-09</td><td>NFLX</td><td>TSLA</td><td>AMZN</td><td>ORCL</td><td>IBM </td><td>NA  </td><td>NA  </td><td>NA  </td><td>NA  </td><td>NA  </td></tr>\n",
       "\t<tr><th scope=row>2</th><td>2018-01-17</td><td>AAPL</td><td>IBM </td><td>AMZN</td><td>NFLX</td><td>TSLA</td><td>NFLX</td><td>TSLA</td><td>AMZN</td><td>ORCL</td><td>IBM </td></tr>\n",
       "\t<tr><th scope=row>3</th><td>2018-01-24</td><td>GOOG</td><td>SAP </td><td>AMZN</td><td>FB  </td><td>NFLX</td><td>AAPL</td><td>IBM </td><td>AMZN</td><td>NFLX</td><td>TSLA</td></tr>\n",
       "\t<tr><th scope=row>4</th><td>2018-01-31</td><td>GOOG</td><td>TSLA</td><td>NFLX</td><td>MSFT</td><td>AMZN</td><td>GOOG</td><td>SAP </td><td>AMZN</td><td>FB  </td><td>NFLX</td></tr>\n",
       "\t<tr><th scope=row>5</th><td>2018-02-07</td><td>AAPL</td><td>FB  </td><td>TSLA</td><td>AMZN</td><td>NFLX</td><td>GOOG</td><td>TSLA</td><td>NFLX</td><td>MSFT</td><td>AMZN</td></tr>\n",
       "\t<tr><th scope=row>6</th><td>2018-02-14</td><td>IBM </td><td>MSFT</td><td>GOOG</td><td>AMZN</td><td>AAPL</td><td>AAPL</td><td>FB  </td><td>TSLA</td><td>AMZN</td><td>NFLX</td></tr>\n",
       "</tbody>\n",
       "</table>\n"
      ],
      "text/latex": [
       "A data.frame: 6 × 11\n",
       "\\begin{tabular}{r|lllllllllll}\n",
       "  & Date & Buy1 & Buy2 & Buy3 & Buy4 & Buy5 & Sell1 & Sell2 & Sell3 & Sell4 & Sell5\\\\\n",
       "  & <date> & <chr> & <chr> & <chr> & <chr> & <chr> & <chr> & <chr> & <chr> & <chr> & <chr>\\\\\n",
       "\\hline\n",
       "\t1 & 2018-01-09 & NFLX & TSLA & AMZN & ORCL & IBM  & NA   & NA   & NA   & NA   & NA  \\\\\n",
       "\t2 & 2018-01-17 & AAPL & IBM  & AMZN & NFLX & TSLA & NFLX & TSLA & AMZN & ORCL & IBM \\\\\n",
       "\t3 & 2018-01-24 & GOOG & SAP  & AMZN & FB   & NFLX & AAPL & IBM  & AMZN & NFLX & TSLA\\\\\n",
       "\t4 & 2018-01-31 & GOOG & TSLA & NFLX & MSFT & AMZN & GOOG & SAP  & AMZN & FB   & NFLX\\\\\n",
       "\t5 & 2018-02-07 & AAPL & FB   & TSLA & AMZN & NFLX & GOOG & TSLA & NFLX & MSFT & AMZN\\\\\n",
       "\t6 & 2018-02-14 & IBM  & MSFT & GOOG & AMZN & AAPL & AAPL & FB   & TSLA & AMZN & NFLX\\\\\n",
       "\\end{tabular}\n"
      ],
      "text/markdown": [
       "\n",
       "A data.frame: 6 × 11\n",
       "\n",
       "| <!--/--> | Date &lt;date&gt; | Buy1 &lt;chr&gt; | Buy2 &lt;chr&gt; | Buy3 &lt;chr&gt; | Buy4 &lt;chr&gt; | Buy5 &lt;chr&gt; | Sell1 &lt;chr&gt; | Sell2 &lt;chr&gt; | Sell3 &lt;chr&gt; | Sell4 &lt;chr&gt; | Sell5 &lt;chr&gt; |\n",
       "|---|---|---|---|---|---|---|---|---|---|---|---|\n",
       "| 1 | 2018-01-09 | NFLX | TSLA | AMZN | ORCL | IBM  | NA   | NA   | NA   | NA   | NA   |\n",
       "| 2 | 2018-01-17 | AAPL | IBM  | AMZN | NFLX | TSLA | NFLX | TSLA | AMZN | ORCL | IBM  |\n",
       "| 3 | 2018-01-24 | GOOG | SAP  | AMZN | FB   | NFLX | AAPL | IBM  | AMZN | NFLX | TSLA |\n",
       "| 4 | 2018-01-31 | GOOG | TSLA | NFLX | MSFT | AMZN | GOOG | SAP  | AMZN | FB   | NFLX |\n",
       "| 5 | 2018-02-07 | AAPL | FB   | TSLA | AMZN | NFLX | GOOG | TSLA | NFLX | MSFT | AMZN |\n",
       "| 6 | 2018-02-14 | IBM  | MSFT | GOOG | AMZN | AAPL | AAPL | FB   | TSLA | AMZN | NFLX |\n",
       "\n"
      ],
      "text/plain": [
       "  Date       Buy1 Buy2 Buy3 Buy4 Buy5 Sell1 Sell2 Sell3 Sell4 Sell5\n",
       "1 2018-01-09 NFLX TSLA AMZN ORCL IBM  NA    NA    NA    NA    NA   \n",
       "2 2018-01-17 AAPL IBM  AMZN NFLX TSLA NFLX  TSLA  AMZN  ORCL  IBM  \n",
       "3 2018-01-24 GOOG SAP  AMZN FB   NFLX AAPL  IBM   AMZN  NFLX  TSLA \n",
       "4 2018-01-31 GOOG TSLA NFLX MSFT AMZN GOOG  SAP   AMZN  FB    NFLX \n",
       "5 2018-02-07 AAPL FB   TSLA AMZN NFLX GOOG  TSLA  NFLX  MSFT  AMZN \n",
       "6 2018-02-14 IBM  MSFT GOOG AMZN AAPL AAPL  FB    TSLA  AMZN  NFLX "
      ]
     },
     "metadata": {},
     "output_type": "display_data"
    }
   ],
   "source": [
    "close_prices = prices[,c(1,seq(2,21,2))]\n",
    "names(close_prices) = c('Date', universe)\n",
    "head(buy)"
   ]
  },
  {
   "cell_type": "code",
   "execution_count": 183,
   "id": "52a80be5",
   "metadata": {},
   "outputs": [
    {
     "data": {
      "text/html": [
       "<table class=\"dataframe\">\n",
       "<caption>A data.frame: 6 × 21</caption>\n",
       "<thead>\n",
       "\t<tr><th></th><th scope=col>Date</th><th scope=col>Buy1</th><th scope=col>Buy2</th><th scope=col>Buy3</th><th scope=col>Buy4</th><th scope=col>Buy5</th><th scope=col>Sell1</th><th scope=col>Sell2</th><th scope=col>Sell3</th><th scope=col>Sell4</th><th scope=col>⋯</th><th scope=col>IBM</th><th scope=col>MSFT</th><th scope=col>GOOG</th><th scope=col>AAPL</th><th scope=col>AMZN</th><th scope=col>FB</th><th scope=col>NFLX</th><th scope=col>TSLA</th><th scope=col>ORCL</th><th scope=col>SAP</th></tr>\n",
       "\t<tr><th></th><th scope=col>&lt;date&gt;</th><th scope=col>&lt;chr&gt;</th><th scope=col>&lt;chr&gt;</th><th scope=col>&lt;chr&gt;</th><th scope=col>&lt;chr&gt;</th><th scope=col>&lt;chr&gt;</th><th scope=col>&lt;chr&gt;</th><th scope=col>&lt;chr&gt;</th><th scope=col>&lt;chr&gt;</th><th scope=col>&lt;chr&gt;</th><th scope=col>⋯</th><th scope=col>&lt;dbl&gt;</th><th scope=col>&lt;dbl&gt;</th><th scope=col>&lt;dbl&gt;</th><th scope=col>&lt;dbl&gt;</th><th scope=col>&lt;dbl&gt;</th><th scope=col>&lt;dbl&gt;</th><th scope=col>&lt;dbl&gt;</th><th scope=col>&lt;dbl&gt;</th><th scope=col>&lt;dbl&gt;</th><th scope=col>&lt;dbl&gt;</th></tr>\n",
       "</thead>\n",
       "<tbody>\n",
       "\t<tr><th scope=row>1</th><td>2018-01-09</td><td>NFLX</td><td>TSLA</td><td>AMZN</td><td>ORCL</td><td>IBM </td><td>NA  </td><td>NA  </td><td>NA  </td><td>NA  </td><td>⋯</td><td>156.6252</td><td>88.22</td><td>55.313</td><td>43.5825</td><td>62.6350</td><td>187.87</td><td>209.31</td><td>22.24600</td><td>49.06</td><td>114.16</td></tr>\n",
       "\t<tr><th scope=row>2</th><td>2018-01-17</td><td>AAPL</td><td>IBM </td><td>AMZN</td><td>NFLX</td><td>TSLA</td><td>NFLX</td><td>TSLA</td><td>AMZN</td><td>ORCL</td><td>⋯</td><td>161.2333</td><td>90.14</td><td>56.599</td><td>44.7750</td><td>64.7500</td><td>177.60</td><td>217.50</td><td>23.14400</td><td>50.27</td><td>111.19</td></tr>\n",
       "\t<tr><th scope=row>3</th><td>2018-01-24</td><td>GOOG</td><td>SAP </td><td>AMZN</td><td>FB  </td><td>NFLX</td><td>AAPL</td><td>IBM </td><td>AMZN</td><td>NFLX</td><td>⋯</td><td>158.0975</td><td>91.82</td><td>58.212</td><td>43.5550</td><td>67.8755</td><td>186.55</td><td>261.30</td><td>23.05933</td><td>51.45</td><td>114.37</td></tr>\n",
       "\t<tr><th scope=row>4</th><td>2018-01-31</td><td>GOOG</td><td>TSLA</td><td>NFLX</td><td>MSFT</td><td>AMZN</td><td>GOOG</td><td>SAP </td><td>AMZN</td><td>FB  </td><td>⋯</td><td>156.5010</td><td>95.01</td><td>58.497</td><td>41.8575</td><td>72.5445</td><td>186.89</td><td>270.30</td><td>23.62067</td><td>51.59</td><td>113.25</td></tr>\n",
       "\t<tr><th scope=row>5</th><td>2018-02-07</td><td>AAPL</td><td>FB  </td><td>TSLA</td><td>AMZN</td><td>NFLX</td><td>GOOG</td><td>TSLA</td><td>NFLX</td><td>MSFT</td><td>⋯</td><td>147.0841</td><td>89.61</td><td>52.429</td><td>39.8850</td><td>70.8390</td><td>180.18</td><td>264.56</td><td>23.00000</td><td>48.87</td><td>105.09</td></tr>\n",
       "\t<tr><th scope=row>6</th><td>2018-02-14</td><td>IBM </td><td>MSFT</td><td>GOOG</td><td>AMZN</td><td>AAPL</td><td>AAPL</td><td>FB  </td><td>TSLA</td><td>AMZN</td><td>⋯</td><td>147.9541</td><td>90.81</td><td>53.485</td><td>41.8425</td><td>72.5525</td><td>179.52</td><td>266.00</td><td>21.48733</td><td>49.45</td><td>105.13</td></tr>\n",
       "</tbody>\n",
       "</table>\n"
      ],
      "text/latex": [
       "A data.frame: 6 × 21\n",
       "\\begin{tabular}{r|lllllllllllllllllllll}\n",
       "  & Date & Buy1 & Buy2 & Buy3 & Buy4 & Buy5 & Sell1 & Sell2 & Sell3 & Sell4 & ⋯ & IBM & MSFT & GOOG & AAPL & AMZN & FB & NFLX & TSLA & ORCL & SAP\\\\\n",
       "  & <date> & <chr> & <chr> & <chr> & <chr> & <chr> & <chr> & <chr> & <chr> & <chr> & ⋯ & <dbl> & <dbl> & <dbl> & <dbl> & <dbl> & <dbl> & <dbl> & <dbl> & <dbl> & <dbl>\\\\\n",
       "\\hline\n",
       "\t1 & 2018-01-09 & NFLX & TSLA & AMZN & ORCL & IBM  & NA   & NA   & NA   & NA   & ⋯ & 156.6252 & 88.22 & 55.313 & 43.5825 & 62.6350 & 187.87 & 209.31 & 22.24600 & 49.06 & 114.16\\\\\n",
       "\t2 & 2018-01-17 & AAPL & IBM  & AMZN & NFLX & TSLA & NFLX & TSLA & AMZN & ORCL & ⋯ & 161.2333 & 90.14 & 56.599 & 44.7750 & 64.7500 & 177.60 & 217.50 & 23.14400 & 50.27 & 111.19\\\\\n",
       "\t3 & 2018-01-24 & GOOG & SAP  & AMZN & FB   & NFLX & AAPL & IBM  & AMZN & NFLX & ⋯ & 158.0975 & 91.82 & 58.212 & 43.5550 & 67.8755 & 186.55 & 261.30 & 23.05933 & 51.45 & 114.37\\\\\n",
       "\t4 & 2018-01-31 & GOOG & TSLA & NFLX & MSFT & AMZN & GOOG & SAP  & AMZN & FB   & ⋯ & 156.5010 & 95.01 & 58.497 & 41.8575 & 72.5445 & 186.89 & 270.30 & 23.62067 & 51.59 & 113.25\\\\\n",
       "\t5 & 2018-02-07 & AAPL & FB   & TSLA & AMZN & NFLX & GOOG & TSLA & NFLX & MSFT & ⋯ & 147.0841 & 89.61 & 52.429 & 39.8850 & 70.8390 & 180.18 & 264.56 & 23.00000 & 48.87 & 105.09\\\\\n",
       "\t6 & 2018-02-14 & IBM  & MSFT & GOOG & AMZN & AAPL & AAPL & FB   & TSLA & AMZN & ⋯ & 147.9541 & 90.81 & 53.485 & 41.8425 & 72.5525 & 179.52 & 266.00 & 21.48733 & 49.45 & 105.13\\\\\n",
       "\\end{tabular}\n"
      ],
      "text/markdown": [
       "\n",
       "A data.frame: 6 × 21\n",
       "\n",
       "| <!--/--> | Date &lt;date&gt; | Buy1 &lt;chr&gt; | Buy2 &lt;chr&gt; | Buy3 &lt;chr&gt; | Buy4 &lt;chr&gt; | Buy5 &lt;chr&gt; | Sell1 &lt;chr&gt; | Sell2 &lt;chr&gt; | Sell3 &lt;chr&gt; | Sell4 &lt;chr&gt; | ⋯ ⋯ | IBM &lt;dbl&gt; | MSFT &lt;dbl&gt; | GOOG &lt;dbl&gt; | AAPL &lt;dbl&gt; | AMZN &lt;dbl&gt; | FB &lt;dbl&gt; | NFLX &lt;dbl&gt; | TSLA &lt;dbl&gt; | ORCL &lt;dbl&gt; | SAP &lt;dbl&gt; |\n",
       "|---|---|---|---|---|---|---|---|---|---|---|---|---|---|---|---|---|---|---|---|---|---|\n",
       "| 1 | 2018-01-09 | NFLX | TSLA | AMZN | ORCL | IBM  | NA   | NA   | NA   | NA   | ⋯ | 156.6252 | 88.22 | 55.313 | 43.5825 | 62.6350 | 187.87 | 209.31 | 22.24600 | 49.06 | 114.16 |\n",
       "| 2 | 2018-01-17 | AAPL | IBM  | AMZN | NFLX | TSLA | NFLX | TSLA | AMZN | ORCL | ⋯ | 161.2333 | 90.14 | 56.599 | 44.7750 | 64.7500 | 177.60 | 217.50 | 23.14400 | 50.27 | 111.19 |\n",
       "| 3 | 2018-01-24 | GOOG | SAP  | AMZN | FB   | NFLX | AAPL | IBM  | AMZN | NFLX | ⋯ | 158.0975 | 91.82 | 58.212 | 43.5550 | 67.8755 | 186.55 | 261.30 | 23.05933 | 51.45 | 114.37 |\n",
       "| 4 | 2018-01-31 | GOOG | TSLA | NFLX | MSFT | AMZN | GOOG | SAP  | AMZN | FB   | ⋯ | 156.5010 | 95.01 | 58.497 | 41.8575 | 72.5445 | 186.89 | 270.30 | 23.62067 | 51.59 | 113.25 |\n",
       "| 5 | 2018-02-07 | AAPL | FB   | TSLA | AMZN | NFLX | GOOG | TSLA | NFLX | MSFT | ⋯ | 147.0841 | 89.61 | 52.429 | 39.8850 | 70.8390 | 180.18 | 264.56 | 23.00000 | 48.87 | 105.09 |\n",
       "| 6 | 2018-02-14 | IBM  | MSFT | GOOG | AMZN | AAPL | AAPL | FB   | TSLA | AMZN | ⋯ | 147.9541 | 90.81 | 53.485 | 41.8425 | 72.5525 | 179.52 | 266.00 | 21.48733 | 49.45 | 105.13 |\n",
       "\n"
      ],
      "text/plain": [
       "  Date       Buy1 Buy2 Buy3 Buy4 Buy5 Sell1 Sell2 Sell3 Sell4 ⋯ IBM      MSFT \n",
       "1 2018-01-09 NFLX TSLA AMZN ORCL IBM  NA    NA    NA    NA    ⋯ 156.6252 88.22\n",
       "2 2018-01-17 AAPL IBM  AMZN NFLX TSLA NFLX  TSLA  AMZN  ORCL  ⋯ 161.2333 90.14\n",
       "3 2018-01-24 GOOG SAP  AMZN FB   NFLX AAPL  IBM   AMZN  NFLX  ⋯ 158.0975 91.82\n",
       "4 2018-01-31 GOOG TSLA NFLX MSFT AMZN GOOG  SAP   AMZN  FB    ⋯ 156.5010 95.01\n",
       "5 2018-02-07 AAPL FB   TSLA AMZN NFLX GOOG  TSLA  NFLX  MSFT  ⋯ 147.0841 89.61\n",
       "6 2018-02-14 IBM  MSFT GOOG AMZN AAPL AAPL  FB    TSLA  AMZN  ⋯ 147.9541 90.81\n",
       "  GOOG   AAPL    AMZN    FB     NFLX   TSLA     ORCL  SAP   \n",
       "1 55.313 43.5825 62.6350 187.87 209.31 22.24600 49.06 114.16\n",
       "2 56.599 44.7750 64.7500 177.60 217.50 23.14400 50.27 111.19\n",
       "3 58.212 43.5550 67.8755 186.55 261.30 23.05933 51.45 114.37\n",
       "4 58.497 41.8575 72.5445 186.89 270.30 23.62067 51.59 113.25\n",
       "5 52.429 39.8850 70.8390 180.18 264.56 23.00000 48.87 105.09\n",
       "6 53.485 41.8425 72.5525 179.52 266.00 21.48733 49.45 105.13"
      ]
     },
     "metadata": {},
     "output_type": "display_data"
    }
   ],
   "source": [
    "combined= merge(buy, close_prices, by=\"Date\")\n",
    "head(combined)"
   ]
  },
  {
   "cell_type": "code",
   "execution_count": 184,
   "id": "343b6de8",
   "metadata": {},
   "outputs": [
    {
     "name": "stderr",
     "output_type": "stream",
     "text": [
      "Warning message in merge.data.frame(df3, ORCL_div, by = \"Date\", all.x = TRUE):\n",
      "\"column names 'Dividends.x', 'Dividends.y' are duplicated in the result\"\n",
      "Warning message in merge.data.frame(df3, SAP_div, by = \"Date\", all.x = TRUE):\n",
      "\"column names 'Dividends.x', 'Dividends.y' are duplicated in the result\"\n"
     ]
    },
    {
     "data": {
      "text/html": [
       "<table class=\"dataframe\">\n",
       "<caption>A data.frame: 6 × 26</caption>\n",
       "<thead>\n",
       "\t<tr><th></th><th scope=col>Date</th><th scope=col>Buy1</th><th scope=col>Buy2</th><th scope=col>Buy3</th><th scope=col>Buy4</th><th scope=col>Buy5</th><th scope=col>Sell1</th><th scope=col>Sell2</th><th scope=col>Sell3</th><th scope=col>Sell4</th><th scope=col>⋯</th><th scope=col>FB</th><th scope=col>NFLX</th><th scope=col>TSLA</th><th scope=col>ORCL</th><th scope=col>SAP</th><th scope=col>IBM_div</th><th scope=col>MSFT_div</th><th scope=col>AAPL_div</th><th scope=col>ORCL_div</th><th scope=col>SAP_div</th></tr>\n",
       "\t<tr><th></th><th scope=col>&lt;date&gt;</th><th scope=col>&lt;chr&gt;</th><th scope=col>&lt;chr&gt;</th><th scope=col>&lt;chr&gt;</th><th scope=col>&lt;chr&gt;</th><th scope=col>&lt;chr&gt;</th><th scope=col>&lt;chr&gt;</th><th scope=col>&lt;chr&gt;</th><th scope=col>&lt;chr&gt;</th><th scope=col>&lt;chr&gt;</th><th scope=col>⋯</th><th scope=col>&lt;dbl&gt;</th><th scope=col>&lt;dbl&gt;</th><th scope=col>&lt;dbl&gt;</th><th scope=col>&lt;dbl&gt;</th><th scope=col>&lt;dbl&gt;</th><th scope=col>&lt;dbl&gt;</th><th scope=col>&lt;dbl&gt;</th><th scope=col>&lt;dbl&gt;</th><th scope=col>&lt;dbl&gt;</th><th scope=col>&lt;dbl&gt;</th></tr>\n",
       "</thead>\n",
       "<tbody>\n",
       "\t<tr><th scope=row>1</th><td>2018-01-02</td><td>IBM </td><td>MSFT</td><td>GOOG</td><td>AAPL</td><td>AMZN</td><td>NA </td><td>NA  </td><td>NA  </td><td>NA  </td><td>⋯</td><td>181.42</td><td>201.07</td><td>21.36867</td><td>46.63</td><td>112.39</td><td>NA</td><td>NA</td><td>NA</td><td>NA</td><td>NA</td></tr>\n",
       "\t<tr><th scope=row>2</th><td>2018-01-03</td><td>IBM </td><td>MSFT</td><td>GOOG</td><td>AAPL</td><td>AMZN</td><td>NA </td><td>NA  </td><td>NA  </td><td>NA  </td><td>⋯</td><td>184.67</td><td>205.05</td><td>21.15000</td><td>47.71</td><td>113.31</td><td>NA</td><td>NA</td><td>NA</td><td>NA</td><td>NA</td></tr>\n",
       "\t<tr><th scope=row>3</th><td>2018-01-04</td><td>IBM </td><td>MSFT</td><td>GOOG</td><td>AAPL</td><td>AMZN</td><td>NA </td><td>NA  </td><td>NA  </td><td>NA  </td><td>⋯</td><td>184.33</td><td>205.63</td><td>20.97467</td><td>48.18</td><td>115.05</td><td>NA</td><td>NA</td><td>NA</td><td>NA</td><td>NA</td></tr>\n",
       "\t<tr><th scope=row>4</th><td>2018-01-05</td><td>IBM </td><td>MSFT</td><td>GOOG</td><td>AAPL</td><td>AMZN</td><td>NA </td><td>NA  </td><td>NA  </td><td>NA  </td><td>⋯</td><td>186.85</td><td>209.99</td><td>21.10533</td><td>48.47</td><td>116.33</td><td>NA</td><td>NA</td><td>NA</td><td>NA</td><td>NA</td></tr>\n",
       "\t<tr><th scope=row>5</th><td>2018-01-08</td><td>IBM </td><td>MSFT</td><td>GOOG</td><td>AAPL</td><td>AMZN</td><td>NA </td><td>NA  </td><td>NA  </td><td>NA  </td><td>⋯</td><td>188.28</td><td>212.05</td><td>22.42733</td><td>48.98</td><td>114.80</td><td>NA</td><td>NA</td><td>NA</td><td>NA</td><td>NA</td></tr>\n",
       "\t<tr><th scope=row>6</th><td>2018-01-09</td><td>NFLX</td><td>TSLA</td><td>AMZN</td><td>ORCL</td><td>IBM </td><td>IBM</td><td>MSFT</td><td>GOOG</td><td>AAPL</td><td>⋯</td><td>187.87</td><td>209.31</td><td>22.24600</td><td>49.06</td><td>114.16</td><td>NA</td><td>NA</td><td>NA</td><td>NA</td><td>NA</td></tr>\n",
       "</tbody>\n",
       "</table>\n"
      ],
      "text/latex": [
       "A data.frame: 6 × 26\n",
       "\\begin{tabular}{r|lllllllllllllllllllll}\n",
       "  & Date & Buy1 & Buy2 & Buy3 & Buy4 & Buy5 & Sell1 & Sell2 & Sell3 & Sell4 & ⋯ & FB & NFLX & TSLA & ORCL & SAP & IBM\\_div & MSFT\\_div & AAPL\\_div & ORCL\\_div & SAP\\_div\\\\\n",
       "  & <date> & <chr> & <chr> & <chr> & <chr> & <chr> & <chr> & <chr> & <chr> & <chr> & ⋯ & <dbl> & <dbl> & <dbl> & <dbl> & <dbl> & <dbl> & <dbl> & <dbl> & <dbl> & <dbl>\\\\\n",
       "\\hline\n",
       "\t1 & 2018-01-02 & IBM  & MSFT & GOOG & AAPL & AMZN & NA  & NA   & NA   & NA   & ⋯ & 181.42 & 201.07 & 21.36867 & 46.63 & 112.39 & NA & NA & NA & NA & NA\\\\\n",
       "\t2 & 2018-01-03 & IBM  & MSFT & GOOG & AAPL & AMZN & NA  & NA   & NA   & NA   & ⋯ & 184.67 & 205.05 & 21.15000 & 47.71 & 113.31 & NA & NA & NA & NA & NA\\\\\n",
       "\t3 & 2018-01-04 & IBM  & MSFT & GOOG & AAPL & AMZN & NA  & NA   & NA   & NA   & ⋯ & 184.33 & 205.63 & 20.97467 & 48.18 & 115.05 & NA & NA & NA & NA & NA\\\\\n",
       "\t4 & 2018-01-05 & IBM  & MSFT & GOOG & AAPL & AMZN & NA  & NA   & NA   & NA   & ⋯ & 186.85 & 209.99 & 21.10533 & 48.47 & 116.33 & NA & NA & NA & NA & NA\\\\\n",
       "\t5 & 2018-01-08 & IBM  & MSFT & GOOG & AAPL & AMZN & NA  & NA   & NA   & NA   & ⋯ & 188.28 & 212.05 & 22.42733 & 48.98 & 114.80 & NA & NA & NA & NA & NA\\\\\n",
       "\t6 & 2018-01-09 & NFLX & TSLA & AMZN & ORCL & IBM  & IBM & MSFT & GOOG & AAPL & ⋯ & 187.87 & 209.31 & 22.24600 & 49.06 & 114.16 & NA & NA & NA & NA & NA\\\\\n",
       "\\end{tabular}\n"
      ],
      "text/markdown": [
       "\n",
       "A data.frame: 6 × 26\n",
       "\n",
       "| <!--/--> | Date &lt;date&gt; | Buy1 &lt;chr&gt; | Buy2 &lt;chr&gt; | Buy3 &lt;chr&gt; | Buy4 &lt;chr&gt; | Buy5 &lt;chr&gt; | Sell1 &lt;chr&gt; | Sell2 &lt;chr&gt; | Sell3 &lt;chr&gt; | Sell4 &lt;chr&gt; | ⋯ ⋯ | FB &lt;dbl&gt; | NFLX &lt;dbl&gt; | TSLA &lt;dbl&gt; | ORCL &lt;dbl&gt; | SAP &lt;dbl&gt; | IBM_div &lt;dbl&gt; | MSFT_div &lt;dbl&gt; | AAPL_div &lt;dbl&gt; | ORCL_div &lt;dbl&gt; | SAP_div &lt;dbl&gt; |\n",
       "|---|---|---|---|---|---|---|---|---|---|---|---|---|---|---|---|---|---|---|---|---|---|\n",
       "| 1 | 2018-01-02 | IBM  | MSFT | GOOG | AAPL | AMZN | NA  | NA   | NA   | NA   | ⋯ | 181.42 | 201.07 | 21.36867 | 46.63 | 112.39 | NA | NA | NA | NA | NA |\n",
       "| 2 | 2018-01-03 | IBM  | MSFT | GOOG | AAPL | AMZN | NA  | NA   | NA   | NA   | ⋯ | 184.67 | 205.05 | 21.15000 | 47.71 | 113.31 | NA | NA | NA | NA | NA |\n",
       "| 3 | 2018-01-04 | IBM  | MSFT | GOOG | AAPL | AMZN | NA  | NA   | NA   | NA   | ⋯ | 184.33 | 205.63 | 20.97467 | 48.18 | 115.05 | NA | NA | NA | NA | NA |\n",
       "| 4 | 2018-01-05 | IBM  | MSFT | GOOG | AAPL | AMZN | NA  | NA   | NA   | NA   | ⋯ | 186.85 | 209.99 | 21.10533 | 48.47 | 116.33 | NA | NA | NA | NA | NA |\n",
       "| 5 | 2018-01-08 | IBM  | MSFT | GOOG | AAPL | AMZN | NA  | NA   | NA   | NA   | ⋯ | 188.28 | 212.05 | 22.42733 | 48.98 | 114.80 | NA | NA | NA | NA | NA |\n",
       "| 6 | 2018-01-09 | NFLX | TSLA | AMZN | ORCL | IBM  | IBM | MSFT | GOOG | AAPL | ⋯ | 187.87 | 209.31 | 22.24600 | 49.06 | 114.16 | NA | NA | NA | NA | NA |\n",
       "\n"
      ],
      "text/plain": [
       "  Date       Buy1 Buy2 Buy3 Buy4 Buy5 Sell1 Sell2 Sell3 Sell4 ⋯ FB     NFLX  \n",
       "1 2018-01-02 IBM  MSFT GOOG AAPL AMZN NA    NA    NA    NA    ⋯ 181.42 201.07\n",
       "2 2018-01-03 IBM  MSFT GOOG AAPL AMZN NA    NA    NA    NA    ⋯ 184.67 205.05\n",
       "3 2018-01-04 IBM  MSFT GOOG AAPL AMZN NA    NA    NA    NA    ⋯ 184.33 205.63\n",
       "4 2018-01-05 IBM  MSFT GOOG AAPL AMZN NA    NA    NA    NA    ⋯ 186.85 209.99\n",
       "5 2018-01-08 IBM  MSFT GOOG AAPL AMZN NA    NA    NA    NA    ⋯ 188.28 212.05\n",
       "6 2018-01-09 NFLX TSLA AMZN ORCL IBM  IBM   MSFT  GOOG  AAPL  ⋯ 187.87 209.31\n",
       "  TSLA     ORCL  SAP    IBM_div MSFT_div AAPL_div ORCL_div SAP_div\n",
       "1 21.36867 46.63 112.39 NA      NA       NA       NA       NA     \n",
       "2 21.15000 47.71 113.31 NA      NA       NA       NA       NA     \n",
       "3 20.97467 48.18 115.05 NA      NA       NA       NA       NA     \n",
       "4 21.10533 48.47 116.33 NA      NA       NA       NA       NA     \n",
       "5 22.42733 48.98 114.80 NA      NA       NA       NA       NA     \n",
       "6 22.24600 49.06 114.16 NA      NA       NA       NA       NA     "
      ]
     },
     "metadata": {},
     "output_type": "display_data"
    }
   ],
   "source": [
    "combined_copy = combined\n",
    "close_prices2 = prices2[,c(1,seq(2,21,2))]\n",
    "names(close_prices2) = c('Date', universe)\n",
    "df3 = merge(x=combined_copy[,1:11],y=close_prices2, by =\"Date\", all=TRUE)\n",
    "df3[1:5,2:6] = matrix(c(\"IBM\",\"MSFT\",\"GOOG\",\"AAPL\",\"AMZN\"),nrow=5,ncol=5,byrow=TRUE)\n",
    "df3[6:10,7:11] = matrix(c(\"IBM\",\"MSFT\",\"GOOG\",\"AAPL\",\"AMZN\"),nrow=5,ncol=5,byrow=TRUE)\n",
    "df3 = merge(df3,IBM_div, by=\"Date\", all.x = TRUE)\n",
    "df3 = merge(df3,MSFT_div, by=\"Date\", all.x = TRUE)\n",
    "df3 = merge(df3,AAPL_div, by=\"Date\", all.x = TRUE)\n",
    "df3 = merge(df3,ORCL_div, by=\"Date\", all.x = TRUE)\n",
    "df3 = merge(df3,SAP_div, by=\"Date\", all.x = TRUE)\n",
    "names(df3)[22:26] = paste0(universe_div, \"_div\")\n",
    "head(df3)\n",
    "df4=df3"
   ]
  },
  {
   "cell_type": "code",
   "execution_count": 185,
   "id": "0469f660",
   "metadata": {},
   "outputs": [],
   "source": [
    "for (i in seq(6,nrow(df3),5)){\n",
    "        z=i+4\n",
    "        df3[i:z,2:11] = df3[i,2:11]\n",
    "}"
   ]
  },
  {
   "cell_type": "code",
   "execution_count": 186,
   "id": "000f5d5b",
   "metadata": {},
   "outputs": [],
   "source": [
    "for (i in 1:nrow(df3)){\n",
    "    for (j in 2:6){\n",
    "        name = df3[i,j]\n",
    "        if (name %in% names(df3)){\n",
    "            price = df3[i,name]\n",
    "            df3[i,j] = price\n",
    "        }\n",
    "    }\n",
    "}"
   ]
  },
  {
   "cell_type": "code",
   "execution_count": 187,
   "id": "a45bac7c",
   "metadata": {},
   "outputs": [],
   "source": [
    "for (i in 1:nrow(df3)){\n",
    "    for (j in 7:11){\n",
    "        name = df3[i,j]\n",
    "        if (name %in% names(df3)){\n",
    "            price = df3[i,name]\n",
    "            df3[i,j] = price\n",
    "        }\n",
    "    }\n",
    "}"
   ]
  },
  {
   "cell_type": "code",
   "execution_count": 188,
   "id": "5f9b4152",
   "metadata": {},
   "outputs": [
    {
     "data": {
      "text/html": [
       "<table class=\"dataframe\">\n",
       "<caption>A data.frame: 6 × 31</caption>\n",
       "<thead>\n",
       "\t<tr><th></th><th scope=col>Date</th><th scope=col>Buy1</th><th scope=col>Buy2</th><th scope=col>Buy3</th><th scope=col>Buy4</th><th scope=col>Buy5</th><th scope=col>Sell1.x</th><th scope=col>Sell2.x</th><th scope=col>Sell3.x</th><th scope=col>Sell4.x</th><th scope=col>⋯</th><th scope=col>IBM_div</th><th scope=col>MSFT_div</th><th scope=col>AAPL_div</th><th scope=col>ORCL_div</th><th scope=col>SAP_div</th><th scope=col>Sell1.y</th><th scope=col>Sell2.y</th><th scope=col>Sell3.y</th><th scope=col>Sell4.y</th><th scope=col>Sell5.y</th></tr>\n",
       "\t<tr><th></th><th scope=col>&lt;date&gt;</th><th scope=col>&lt;chr&gt;</th><th scope=col>&lt;chr&gt;</th><th scope=col>&lt;chr&gt;</th><th scope=col>&lt;chr&gt;</th><th scope=col>&lt;chr&gt;</th><th scope=col>&lt;chr&gt;</th><th scope=col>&lt;chr&gt;</th><th scope=col>&lt;chr&gt;</th><th scope=col>&lt;chr&gt;</th><th scope=col>⋯</th><th scope=col>&lt;dbl&gt;</th><th scope=col>&lt;dbl&gt;</th><th scope=col>&lt;dbl&gt;</th><th scope=col>&lt;dbl&gt;</th><th scope=col>&lt;dbl&gt;</th><th scope=col>&lt;chr&gt;</th><th scope=col>&lt;chr&gt;</th><th scope=col>&lt;chr&gt;</th><th scope=col>&lt;chr&gt;</th><th scope=col>&lt;chr&gt;</th></tr>\n",
       "</thead>\n",
       "<tbody>\n",
       "\t<tr><th scope=row>1</th><td>2018-01-02</td><td>147.466537</td><td>85.949997</td><td>53.25    </td><td>43.064999</td><td>59.4505   </td><td>NA        </td><td>NA       </td><td>NA    </td><td>NA     </td><td>⋯</td><td>NA</td><td>NA</td><td>NA</td><td>NA</td><td>NA</td><td>NA        </td><td>NA       </td><td>NA    </td><td>NA     </td><td>NA       </td></tr>\n",
       "\t<tr><th scope=row>2</th><td>2018-01-03</td><td>151.520081</td><td>86.349998</td><td>54.124001</td><td>43.057499</td><td>60.209999 </td><td>NA        </td><td>NA       </td><td>NA    </td><td>NA     </td><td>⋯</td><td>NA</td><td>NA</td><td>NA</td><td>NA</td><td>NA</td><td>NA        </td><td>NA       </td><td>NA    </td><td>NA     </td><td>NA       </td></tr>\n",
       "\t<tr><th scope=row>3</th><td>2018-01-04</td><td>154.588913</td><td>87.110001</td><td>54.32    </td><td>43.2575  </td><td>60.4795   </td><td>NA        </td><td>NA       </td><td>NA    </td><td>NA     </td><td>⋯</td><td>NA</td><td>NA</td><td>NA</td><td>NA</td><td>NA</td><td>NA        </td><td>NA       </td><td>NA    </td><td>NA     </td><td>NA       </td></tr>\n",
       "\t<tr><th scope=row>4</th><td>2018-01-05</td><td>155.344162</td><td>88.190002</td><td>55.1115  </td><td>43.75    </td><td>61.457001 </td><td>NA        </td><td>NA       </td><td>NA    </td><td>NA     </td><td>⋯</td><td>NA</td><td>NA</td><td>NA</td><td>NA</td><td>NA</td><td>NA        </td><td>NA       </td><td>NA    </td><td>NA     </td><td>NA       </td></tr>\n",
       "\t<tr><th scope=row>5</th><td>2018-01-08</td><td>156.281067</td><td>88.279999</td><td>55.347   </td><td>43.587502</td><td>62.343498 </td><td>NA        </td><td>NA       </td><td>NA    </td><td>NA     </td><td>⋯</td><td>NA</td><td>NA</td><td>NA</td><td>NA</td><td>NA</td><td>NA        </td><td>NA       </td><td>NA    </td><td>NA     </td><td>NA       </td></tr>\n",
       "\t<tr><th scope=row>6</th><td>2018-01-09</td><td>209.309998</td><td>22.246   </td><td>62.634998</td><td>49.060001</td><td>156.625244</td><td>156.625244</td><td>88.220001</td><td>55.313</td><td>43.5825</td><td>⋯</td><td>NA</td><td>NA</td><td>NA</td><td>NA</td><td>NA</td><td>156.625244</td><td>88.220001</td><td>55.313</td><td>43.5825</td><td>62.634998</td></tr>\n",
       "</tbody>\n",
       "</table>\n"
      ],
      "text/latex": [
       "A data.frame: 6 × 31\n",
       "\\begin{tabular}{r|lllllllllllllllllllll}\n",
       "  & Date & Buy1 & Buy2 & Buy3 & Buy4 & Buy5 & Sell1.x & Sell2.x & Sell3.x & Sell4.x & ⋯ & IBM\\_div & MSFT\\_div & AAPL\\_div & ORCL\\_div & SAP\\_div & Sell1.y & Sell2.y & Sell3.y & Sell4.y & Sell5.y\\\\\n",
       "  & <date> & <chr> & <chr> & <chr> & <chr> & <chr> & <chr> & <chr> & <chr> & <chr> & ⋯ & <dbl> & <dbl> & <dbl> & <dbl> & <dbl> & <chr> & <chr> & <chr> & <chr> & <chr>\\\\\n",
       "\\hline\n",
       "\t1 & 2018-01-02 & 147.466537 & 85.949997 & 53.25     & 43.064999 & 59.4505    & NA         & NA        & NA     & NA      & ⋯ & NA & NA & NA & NA & NA & NA         & NA        & NA     & NA      & NA       \\\\\n",
       "\t2 & 2018-01-03 & 151.520081 & 86.349998 & 54.124001 & 43.057499 & 60.209999  & NA         & NA        & NA     & NA      & ⋯ & NA & NA & NA & NA & NA & NA         & NA        & NA     & NA      & NA       \\\\\n",
       "\t3 & 2018-01-04 & 154.588913 & 87.110001 & 54.32     & 43.2575   & 60.4795    & NA         & NA        & NA     & NA      & ⋯ & NA & NA & NA & NA & NA & NA         & NA        & NA     & NA      & NA       \\\\\n",
       "\t4 & 2018-01-05 & 155.344162 & 88.190002 & 55.1115   & 43.75     & 61.457001  & NA         & NA        & NA     & NA      & ⋯ & NA & NA & NA & NA & NA & NA         & NA        & NA     & NA      & NA       \\\\\n",
       "\t5 & 2018-01-08 & 156.281067 & 88.279999 & 55.347    & 43.587502 & 62.343498  & NA         & NA        & NA     & NA      & ⋯ & NA & NA & NA & NA & NA & NA         & NA        & NA     & NA      & NA       \\\\\n",
       "\t6 & 2018-01-09 & 209.309998 & 22.246    & 62.634998 & 49.060001 & 156.625244 & 156.625244 & 88.220001 & 55.313 & 43.5825 & ⋯ & NA & NA & NA & NA & NA & 156.625244 & 88.220001 & 55.313 & 43.5825 & 62.634998\\\\\n",
       "\\end{tabular}\n"
      ],
      "text/markdown": [
       "\n",
       "A data.frame: 6 × 31\n",
       "\n",
       "| <!--/--> | Date &lt;date&gt; | Buy1 &lt;chr&gt; | Buy2 &lt;chr&gt; | Buy3 &lt;chr&gt; | Buy4 &lt;chr&gt; | Buy5 &lt;chr&gt; | Sell1.x &lt;chr&gt; | Sell2.x &lt;chr&gt; | Sell3.x &lt;chr&gt; | Sell4.x &lt;chr&gt; | ⋯ ⋯ | IBM_div &lt;dbl&gt; | MSFT_div &lt;dbl&gt; | AAPL_div &lt;dbl&gt; | ORCL_div &lt;dbl&gt; | SAP_div &lt;dbl&gt; | Sell1.y &lt;chr&gt; | Sell2.y &lt;chr&gt; | Sell3.y &lt;chr&gt; | Sell4.y &lt;chr&gt; | Sell5.y &lt;chr&gt; |\n",
       "|---|---|---|---|---|---|---|---|---|---|---|---|---|---|---|---|---|---|---|---|---|---|\n",
       "| 1 | 2018-01-02 | 147.466537 | 85.949997 | 53.25     | 43.064999 | 59.4505    | NA         | NA        | NA     | NA      | ⋯ | NA | NA | NA | NA | NA | NA         | NA        | NA     | NA      | NA        |\n",
       "| 2 | 2018-01-03 | 151.520081 | 86.349998 | 54.124001 | 43.057499 | 60.209999  | NA         | NA        | NA     | NA      | ⋯ | NA | NA | NA | NA | NA | NA         | NA        | NA     | NA      | NA        |\n",
       "| 3 | 2018-01-04 | 154.588913 | 87.110001 | 54.32     | 43.2575   | 60.4795    | NA         | NA        | NA     | NA      | ⋯ | NA | NA | NA | NA | NA | NA         | NA        | NA     | NA      | NA        |\n",
       "| 4 | 2018-01-05 | 155.344162 | 88.190002 | 55.1115   | 43.75     | 61.457001  | NA         | NA        | NA     | NA      | ⋯ | NA | NA | NA | NA | NA | NA         | NA        | NA     | NA      | NA        |\n",
       "| 5 | 2018-01-08 | 156.281067 | 88.279999 | 55.347    | 43.587502 | 62.343498  | NA         | NA        | NA     | NA      | ⋯ | NA | NA | NA | NA | NA | NA         | NA        | NA     | NA      | NA        |\n",
       "| 6 | 2018-01-09 | 209.309998 | 22.246    | 62.634998 | 49.060001 | 156.625244 | 156.625244 | 88.220001 | 55.313 | 43.5825 | ⋯ | NA | NA | NA | NA | NA | 156.625244 | 88.220001 | 55.313 | 43.5825 | 62.634998 |\n",
       "\n"
      ],
      "text/plain": [
       "  Date       Buy1       Buy2      Buy3      Buy4      Buy5       Sell1.x   \n",
       "1 2018-01-02 147.466537 85.949997 53.25     43.064999 59.4505    NA        \n",
       "2 2018-01-03 151.520081 86.349998 54.124001 43.057499 60.209999  NA        \n",
       "3 2018-01-04 154.588913 87.110001 54.32     43.2575   60.4795    NA        \n",
       "4 2018-01-05 155.344162 88.190002 55.1115   43.75     61.457001  NA        \n",
       "5 2018-01-08 156.281067 88.279999 55.347    43.587502 62.343498  NA        \n",
       "6 2018-01-09 209.309998 22.246    62.634998 49.060001 156.625244 156.625244\n",
       "  Sell2.x   Sell3.x Sell4.x ⋯ IBM_div MSFT_div AAPL_div ORCL_div SAP_div\n",
       "1 NA        NA      NA      ⋯ NA      NA       NA       NA       NA     \n",
       "2 NA        NA      NA      ⋯ NA      NA       NA       NA       NA     \n",
       "3 NA        NA      NA      ⋯ NA      NA       NA       NA       NA     \n",
       "4 NA        NA      NA      ⋯ NA      NA       NA       NA       NA     \n",
       "5 NA        NA      NA      ⋯ NA      NA       NA       NA       NA     \n",
       "6 88.220001 55.313  43.5825 ⋯ NA      NA       NA       NA       NA     \n",
       "  Sell1.y    Sell2.y   Sell3.y Sell4.y Sell5.y  \n",
       "1 NA         NA        NA      NA      NA       \n",
       "2 NA         NA        NA      NA      NA       \n",
       "3 NA         NA        NA      NA      NA       \n",
       "4 NA         NA        NA      NA      NA       \n",
       "5 NA         NA        NA      NA      NA       \n",
       "6 156.625244 88.220001 55.313  43.5825 62.634998"
      ]
     },
     "metadata": {},
     "output_type": "display_data"
    }
   ],
   "source": [
    "#handle dividend columns \n",
    "df3 = merge(df3, df4[,c(1,7:11)], by = \"Date\")\n",
    "for (i in 2:nrow(df3)){\n",
    "    for (j in 27:31){\n",
    "        name = df3[i,j]\n",
    "        if (name %in% names(df3)){\n",
    "            div = df3[i,name]\n",
    "            df3[i,j] = div\n",
    "        }\n",
    "    }\n",
    "}\n",
    "head(df3)"
   ]
  },
  {
   "cell_type": "code",
   "execution_count": 189,
   "id": "7715aa9c",
   "metadata": {},
   "outputs": [
    {
     "data": {
      "text/html": [
       "<table class=\"dataframe\">\n",
       "<caption>A data.frame: 6 × 16</caption>\n",
       "<thead>\n",
       "\t<tr><th></th><th scope=col>Date</th><th scope=col>Buy1</th><th scope=col>Buy2</th><th scope=col>Buy3</th><th scope=col>Buy4</th><th scope=col>Buy5</th><th scope=col>Sell1.x</th><th scope=col>Sell2.x</th><th scope=col>Sell3.x</th><th scope=col>Sell4.x</th><th scope=col>Sell5.x</th><th scope=col>IBM_div</th><th scope=col>MSFT_div</th><th scope=col>AAPL_div</th><th scope=col>ORCL_div</th><th scope=col>SAP_div</th></tr>\n",
       "\t<tr><th></th><th scope=col>&lt;date&gt;</th><th scope=col>&lt;dbl&gt;</th><th scope=col>&lt;dbl&gt;</th><th scope=col>&lt;dbl&gt;</th><th scope=col>&lt;dbl&gt;</th><th scope=col>&lt;dbl&gt;</th><th scope=col>&lt;dbl&gt;</th><th scope=col>&lt;dbl&gt;</th><th scope=col>&lt;dbl&gt;</th><th scope=col>&lt;dbl&gt;</th><th scope=col>&lt;dbl&gt;</th><th scope=col>&lt;dbl&gt;</th><th scope=col>&lt;dbl&gt;</th><th scope=col>&lt;dbl&gt;</th><th scope=col>&lt;dbl&gt;</th><th scope=col>&lt;dbl&gt;</th></tr>\n",
       "</thead>\n",
       "<tbody>\n",
       "\t<tr><th scope=row>1</th><td>2018-01-02</td><td>147.4665</td><td>85.950</td><td>53.2500</td><td>43.0650</td><td> 59.4505</td><td>      NA</td><td>   NA</td><td>    NA</td><td>     NA</td><td>    NA</td><td>NA</td><td>NA</td><td>NA</td><td>NA</td><td>NA</td></tr>\n",
       "\t<tr><th scope=row>2</th><td>2018-01-03</td><td>151.5201</td><td>86.350</td><td>54.1240</td><td>43.0575</td><td> 60.2100</td><td>      NA</td><td>   NA</td><td>    NA</td><td>     NA</td><td>    NA</td><td>NA</td><td>NA</td><td>NA</td><td>NA</td><td>NA</td></tr>\n",
       "\t<tr><th scope=row>3</th><td>2018-01-04</td><td>154.5889</td><td>87.110</td><td>54.3200</td><td>43.2575</td><td> 60.4795</td><td>      NA</td><td>   NA</td><td>    NA</td><td>     NA</td><td>    NA</td><td>NA</td><td>NA</td><td>NA</td><td>NA</td><td>NA</td></tr>\n",
       "\t<tr><th scope=row>4</th><td>2018-01-05</td><td>155.3442</td><td>88.190</td><td>55.1115</td><td>43.7500</td><td> 61.4570</td><td>      NA</td><td>   NA</td><td>    NA</td><td>     NA</td><td>    NA</td><td>NA</td><td>NA</td><td>NA</td><td>NA</td><td>NA</td></tr>\n",
       "\t<tr><th scope=row>5</th><td>2018-01-08</td><td>156.2811</td><td>88.280</td><td>55.3470</td><td>43.5875</td><td> 62.3435</td><td>      NA</td><td>   NA</td><td>    NA</td><td>     NA</td><td>    NA</td><td>NA</td><td>NA</td><td>NA</td><td>NA</td><td>NA</td></tr>\n",
       "\t<tr><th scope=row>6</th><td>2018-01-09</td><td>209.3100</td><td>22.246</td><td>62.6350</td><td>49.0600</td><td>156.6252</td><td>156.6252</td><td>88.22</td><td>55.313</td><td>43.5825</td><td>62.635</td><td>NA</td><td>NA</td><td>NA</td><td>NA</td><td>NA</td></tr>\n",
       "</tbody>\n",
       "</table>\n"
      ],
      "text/latex": [
       "A data.frame: 6 × 16\n",
       "\\begin{tabular}{r|llllllllllllllll}\n",
       "  & Date & Buy1 & Buy2 & Buy3 & Buy4 & Buy5 & Sell1.x & Sell2.x & Sell3.x & Sell4.x & Sell5.x & IBM\\_div & MSFT\\_div & AAPL\\_div & ORCL\\_div & SAP\\_div\\\\\n",
       "  & <date> & <dbl> & <dbl> & <dbl> & <dbl> & <dbl> & <dbl> & <dbl> & <dbl> & <dbl> & <dbl> & <dbl> & <dbl> & <dbl> & <dbl> & <dbl>\\\\\n",
       "\\hline\n",
       "\t1 & 2018-01-02 & 147.4665 & 85.950 & 53.2500 & 43.0650 &  59.4505 &       NA &    NA &     NA &      NA &     NA & NA & NA & NA & NA & NA\\\\\n",
       "\t2 & 2018-01-03 & 151.5201 & 86.350 & 54.1240 & 43.0575 &  60.2100 &       NA &    NA &     NA &      NA &     NA & NA & NA & NA & NA & NA\\\\\n",
       "\t3 & 2018-01-04 & 154.5889 & 87.110 & 54.3200 & 43.2575 &  60.4795 &       NA &    NA &     NA &      NA &     NA & NA & NA & NA & NA & NA\\\\\n",
       "\t4 & 2018-01-05 & 155.3442 & 88.190 & 55.1115 & 43.7500 &  61.4570 &       NA &    NA &     NA &      NA &     NA & NA & NA & NA & NA & NA\\\\\n",
       "\t5 & 2018-01-08 & 156.2811 & 88.280 & 55.3470 & 43.5875 &  62.3435 &       NA &    NA &     NA &      NA &     NA & NA & NA & NA & NA & NA\\\\\n",
       "\t6 & 2018-01-09 & 209.3100 & 22.246 & 62.6350 & 49.0600 & 156.6252 & 156.6252 & 88.22 & 55.313 & 43.5825 & 62.635 & NA & NA & NA & NA & NA\\\\\n",
       "\\end{tabular}\n"
      ],
      "text/markdown": [
       "\n",
       "A data.frame: 6 × 16\n",
       "\n",
       "| <!--/--> | Date &lt;date&gt; | Buy1 &lt;dbl&gt; | Buy2 &lt;dbl&gt; | Buy3 &lt;dbl&gt; | Buy4 &lt;dbl&gt; | Buy5 &lt;dbl&gt; | Sell1.x &lt;dbl&gt; | Sell2.x &lt;dbl&gt; | Sell3.x &lt;dbl&gt; | Sell4.x &lt;dbl&gt; | Sell5.x &lt;dbl&gt; | IBM_div &lt;dbl&gt; | MSFT_div &lt;dbl&gt; | AAPL_div &lt;dbl&gt; | ORCL_div &lt;dbl&gt; | SAP_div &lt;dbl&gt; |\n",
       "|---|---|---|---|---|---|---|---|---|---|---|---|---|---|---|---|---|\n",
       "| 1 | 2018-01-02 | 147.4665 | 85.950 | 53.2500 | 43.0650 |  59.4505 |       NA |    NA |     NA |      NA |     NA | NA | NA | NA | NA | NA |\n",
       "| 2 | 2018-01-03 | 151.5201 | 86.350 | 54.1240 | 43.0575 |  60.2100 |       NA |    NA |     NA |      NA |     NA | NA | NA | NA | NA | NA |\n",
       "| 3 | 2018-01-04 | 154.5889 | 87.110 | 54.3200 | 43.2575 |  60.4795 |       NA |    NA |     NA |      NA |     NA | NA | NA | NA | NA | NA |\n",
       "| 4 | 2018-01-05 | 155.3442 | 88.190 | 55.1115 | 43.7500 |  61.4570 |       NA |    NA |     NA |      NA |     NA | NA | NA | NA | NA | NA |\n",
       "| 5 | 2018-01-08 | 156.2811 | 88.280 | 55.3470 | 43.5875 |  62.3435 |       NA |    NA |     NA |      NA |     NA | NA | NA | NA | NA | NA |\n",
       "| 6 | 2018-01-09 | 209.3100 | 22.246 | 62.6350 | 49.0600 | 156.6252 | 156.6252 | 88.22 | 55.313 | 43.5825 | 62.635 | NA | NA | NA | NA | NA |\n",
       "\n"
      ],
      "text/plain": [
       "  Date       Buy1     Buy2   Buy3    Buy4    Buy5     Sell1.x  Sell2.x Sell3.x\n",
       "1 2018-01-02 147.4665 85.950 53.2500 43.0650  59.4505       NA    NA       NA \n",
       "2 2018-01-03 151.5201 86.350 54.1240 43.0575  60.2100       NA    NA       NA \n",
       "3 2018-01-04 154.5889 87.110 54.3200 43.2575  60.4795       NA    NA       NA \n",
       "4 2018-01-05 155.3442 88.190 55.1115 43.7500  61.4570       NA    NA       NA \n",
       "5 2018-01-08 156.2811 88.280 55.3470 43.5875  62.3435       NA    NA       NA \n",
       "6 2018-01-09 209.3100 22.246 62.6350 49.0600 156.6252 156.6252 88.22   55.313 \n",
       "  Sell4.x Sell5.x IBM_div MSFT_div AAPL_div ORCL_div SAP_div\n",
       "1      NA     NA  NA      NA       NA       NA       NA     \n",
       "2      NA     NA  NA      NA       NA       NA       NA     \n",
       "3      NA     NA  NA      NA       NA       NA       NA     \n",
       "4      NA     NA  NA      NA       NA       NA       NA     \n",
       "5      NA     NA  NA      NA       NA       NA       NA     \n",
       "6 43.5825 62.635  NA      NA       NA       NA       NA     "
      ]
     },
     "metadata": {},
     "output_type": "display_data"
    }
   ],
   "source": [
    "final_df = df3[,c(1:11,22:26)]\n",
    "final_df[,seq(2,11,1)] = lapply(final_df[,seq(2,11,1)], as.double)\n",
    "head(final_df)"
   ]
  },
  {
   "cell_type": "code",
   "execution_count": 190,
   "id": "d4bdf292",
   "metadata": {},
   "outputs": [
    {
     "data": {
      "text/html": [
       "<table class=\"dataframe\">\n",
       "<caption>A data.frame: 6 × 16</caption>\n",
       "<thead>\n",
       "\t<tr><th></th><th scope=col>Date</th><th scope=col>Buy1</th><th scope=col>Buy2</th><th scope=col>Buy3</th><th scope=col>Buy4</th><th scope=col>Buy5</th><th scope=col>Sell1</th><th scope=col>Sell2</th><th scope=col>Sell3</th><th scope=col>Sell4</th><th scope=col>Sell5</th><th scope=col>IBM_div</th><th scope=col>MSFT_div</th><th scope=col>AAPL_div</th><th scope=col>ORCL_div</th><th scope=col>SAP_div</th></tr>\n",
       "\t<tr><th></th><th scope=col>&lt;date&gt;</th><th scope=col>&lt;dbl&gt;</th><th scope=col>&lt;dbl&gt;</th><th scope=col>&lt;dbl&gt;</th><th scope=col>&lt;dbl&gt;</th><th scope=col>&lt;dbl&gt;</th><th scope=col>&lt;dbl&gt;</th><th scope=col>&lt;dbl&gt;</th><th scope=col>&lt;dbl&gt;</th><th scope=col>&lt;dbl&gt;</th><th scope=col>&lt;dbl&gt;</th><th scope=col>&lt;dbl&gt;</th><th scope=col>&lt;dbl&gt;</th><th scope=col>&lt;dbl&gt;</th><th scope=col>&lt;dbl&gt;</th><th scope=col>&lt;dbl&gt;</th></tr>\n",
       "</thead>\n",
       "<tbody>\n",
       "\t<tr><th scope=row>1</th><td>2018-01-02</td><td>147.4665</td><td>85.950</td><td>53.2500</td><td>43.0650</td><td> 59.4505</td><td>      NA</td><td>   NA</td><td>    NA</td><td>     NA</td><td>    NA</td><td>NA</td><td>NA</td><td>NA</td><td>NA</td><td>NA</td></tr>\n",
       "\t<tr><th scope=row>2</th><td>2018-01-03</td><td>151.5201</td><td>86.350</td><td>54.1240</td><td>43.0575</td><td> 60.2100</td><td>      NA</td><td>   NA</td><td>    NA</td><td>     NA</td><td>    NA</td><td>NA</td><td>NA</td><td>NA</td><td>NA</td><td>NA</td></tr>\n",
       "\t<tr><th scope=row>3</th><td>2018-01-04</td><td>154.5889</td><td>87.110</td><td>54.3200</td><td>43.2575</td><td> 60.4795</td><td>      NA</td><td>   NA</td><td>    NA</td><td>     NA</td><td>    NA</td><td>NA</td><td>NA</td><td>NA</td><td>NA</td><td>NA</td></tr>\n",
       "\t<tr><th scope=row>4</th><td>2018-01-05</td><td>155.3442</td><td>88.190</td><td>55.1115</td><td>43.7500</td><td> 61.4570</td><td>      NA</td><td>   NA</td><td>    NA</td><td>     NA</td><td>    NA</td><td>NA</td><td>NA</td><td>NA</td><td>NA</td><td>NA</td></tr>\n",
       "\t<tr><th scope=row>5</th><td>2018-01-08</td><td>156.2811</td><td>88.280</td><td>55.3470</td><td>43.5875</td><td> 62.3435</td><td>      NA</td><td>   NA</td><td>    NA</td><td>     NA</td><td>    NA</td><td>NA</td><td>NA</td><td>NA</td><td>NA</td><td>NA</td></tr>\n",
       "\t<tr><th scope=row>6</th><td>2018-01-09</td><td>209.3100</td><td>22.246</td><td>62.6350</td><td>49.0600</td><td>156.6252</td><td>156.6252</td><td>88.22</td><td>55.313</td><td>43.5825</td><td>62.635</td><td>NA</td><td>NA</td><td>NA</td><td>NA</td><td>NA</td></tr>\n",
       "</tbody>\n",
       "</table>\n"
      ],
      "text/latex": [
       "A data.frame: 6 × 16\n",
       "\\begin{tabular}{r|llllllllllllllll}\n",
       "  & Date & Buy1 & Buy2 & Buy3 & Buy4 & Buy5 & Sell1 & Sell2 & Sell3 & Sell4 & Sell5 & IBM\\_div & MSFT\\_div & AAPL\\_div & ORCL\\_div & SAP\\_div\\\\\n",
       "  & <date> & <dbl> & <dbl> & <dbl> & <dbl> & <dbl> & <dbl> & <dbl> & <dbl> & <dbl> & <dbl> & <dbl> & <dbl> & <dbl> & <dbl> & <dbl>\\\\\n",
       "\\hline\n",
       "\t1 & 2018-01-02 & 147.4665 & 85.950 & 53.2500 & 43.0650 &  59.4505 &       NA &    NA &     NA &      NA &     NA & NA & NA & NA & NA & NA\\\\\n",
       "\t2 & 2018-01-03 & 151.5201 & 86.350 & 54.1240 & 43.0575 &  60.2100 &       NA &    NA &     NA &      NA &     NA & NA & NA & NA & NA & NA\\\\\n",
       "\t3 & 2018-01-04 & 154.5889 & 87.110 & 54.3200 & 43.2575 &  60.4795 &       NA &    NA &     NA &      NA &     NA & NA & NA & NA & NA & NA\\\\\n",
       "\t4 & 2018-01-05 & 155.3442 & 88.190 & 55.1115 & 43.7500 &  61.4570 &       NA &    NA &     NA &      NA &     NA & NA & NA & NA & NA & NA\\\\\n",
       "\t5 & 2018-01-08 & 156.2811 & 88.280 & 55.3470 & 43.5875 &  62.3435 &       NA &    NA &     NA &      NA &     NA & NA & NA & NA & NA & NA\\\\\n",
       "\t6 & 2018-01-09 & 209.3100 & 22.246 & 62.6350 & 49.0600 & 156.6252 & 156.6252 & 88.22 & 55.313 & 43.5825 & 62.635 & NA & NA & NA & NA & NA\\\\\n",
       "\\end{tabular}\n"
      ],
      "text/markdown": [
       "\n",
       "A data.frame: 6 × 16\n",
       "\n",
       "| <!--/--> | Date &lt;date&gt; | Buy1 &lt;dbl&gt; | Buy2 &lt;dbl&gt; | Buy3 &lt;dbl&gt; | Buy4 &lt;dbl&gt; | Buy5 &lt;dbl&gt; | Sell1 &lt;dbl&gt; | Sell2 &lt;dbl&gt; | Sell3 &lt;dbl&gt; | Sell4 &lt;dbl&gt; | Sell5 &lt;dbl&gt; | IBM_div &lt;dbl&gt; | MSFT_div &lt;dbl&gt; | AAPL_div &lt;dbl&gt; | ORCL_div &lt;dbl&gt; | SAP_div &lt;dbl&gt; |\n",
       "|---|---|---|---|---|---|---|---|---|---|---|---|---|---|---|---|---|\n",
       "| 1 | 2018-01-02 | 147.4665 | 85.950 | 53.2500 | 43.0650 |  59.4505 |       NA |    NA |     NA |      NA |     NA | NA | NA | NA | NA | NA |\n",
       "| 2 | 2018-01-03 | 151.5201 | 86.350 | 54.1240 | 43.0575 |  60.2100 |       NA |    NA |     NA |      NA |     NA | NA | NA | NA | NA | NA |\n",
       "| 3 | 2018-01-04 | 154.5889 | 87.110 | 54.3200 | 43.2575 |  60.4795 |       NA |    NA |     NA |      NA |     NA | NA | NA | NA | NA | NA |\n",
       "| 4 | 2018-01-05 | 155.3442 | 88.190 | 55.1115 | 43.7500 |  61.4570 |       NA |    NA |     NA |      NA |     NA | NA | NA | NA | NA | NA |\n",
       "| 5 | 2018-01-08 | 156.2811 | 88.280 | 55.3470 | 43.5875 |  62.3435 |       NA |    NA |     NA |      NA |     NA | NA | NA | NA | NA | NA |\n",
       "| 6 | 2018-01-09 | 209.3100 | 22.246 | 62.6350 | 49.0600 | 156.6252 | 156.6252 | 88.22 | 55.313 | 43.5825 | 62.635 | NA | NA | NA | NA | NA |\n",
       "\n"
      ],
      "text/plain": [
       "  Date       Buy1     Buy2   Buy3    Buy4    Buy5     Sell1    Sell2 Sell3 \n",
       "1 2018-01-02 147.4665 85.950 53.2500 43.0650  59.4505       NA    NA     NA\n",
       "2 2018-01-03 151.5201 86.350 54.1240 43.0575  60.2100       NA    NA     NA\n",
       "3 2018-01-04 154.5889 87.110 54.3200 43.2575  60.4795       NA    NA     NA\n",
       "4 2018-01-05 155.3442 88.190 55.1115 43.7500  61.4570       NA    NA     NA\n",
       "5 2018-01-08 156.2811 88.280 55.3470 43.5875  62.3435       NA    NA     NA\n",
       "6 2018-01-09 209.3100 22.246 62.6350 49.0600 156.6252 156.6252 88.22 55.313\n",
       "  Sell4   Sell5  IBM_div MSFT_div AAPL_div ORCL_div SAP_div\n",
       "1      NA     NA NA      NA       NA       NA       NA     \n",
       "2      NA     NA NA      NA       NA       NA       NA     \n",
       "3      NA     NA NA      NA       NA       NA       NA     \n",
       "4      NA     NA NA      NA       NA       NA       NA     \n",
       "5      NA     NA NA      NA       NA       NA       NA     \n",
       "6 43.5825 62.635 NA      NA       NA       NA       NA     "
      ]
     },
     "metadata": {},
     "output_type": "display_data"
    }
   ],
   "source": [
    "df2high = merge(x=final_df,y=percent_change_df, by =\"Date\", all.y=TRUE)\n",
    "df2high = df2high[,1:16]\n",
    "names(df2high)[7:11]=c('Sell1','Sell2','Sell3','Sell4','Sell5')\n",
    "head(df2high)"
   ]
  },
  {
   "cell_type": "code",
   "execution_count": 191,
   "id": "684a0a64",
   "metadata": {},
   "outputs": [],
   "source": [
    "cash = 5000000\n",
    "shares_bin = c()\n",
    "mtm = c()\n",
    "\n",
    "#loop through each row (sell/buy dates)\n",
    "for (i in 1:nrow(df2high)){\n",
    "    #on first day, just buy, since initializing portfolio \n",
    "    if (i == 1){\n",
    "        #buy\n",
    "        cashperstock = cash/5\n",
    "        for (j in 2:6){\n",
    "            shares = floor(cashperstock/df2high[i,j])\n",
    "            cash = cash - (shares*df2high[i,j])  \n",
    "            shares_bin = c(shares_bin,shares)\n",
    "            }\n",
    "        }\n",
    "    else if((i-1)%%5 ==0){\n",
    "        #these are sell/buy days \n",
    "            for (j in 2:6){\n",
    "            #sell\n",
    "                received = shares_bin[j-1]*df2high[i,j+5]\n",
    "                cash = cash + received \n",
    "            }\n",
    "            mtm = c(mtm,cash)\n",
    "            shares_bin = c()\n",
    "            cashperstock = cash/5\n",
    "            for (j in 2:6){\n",
    "                #buy \n",
    "                shares = floor(cashperstock/df2high[i,j])\n",
    "                cash = cash - (shares*df2high[i,j])  \n",
    "                shares_bin = c(shares_bin,shares)\n",
    "            } \n",
    "        }\n",
    "        \n",
    "    else if (i>6){\n",
    "        #non selling days (just have to calculate mtm)\n",
    "            s=c()\n",
    "            for (j in 2:6){\n",
    "                z = shares_bin[j-1]*df2high[i,j]\n",
    "                s = c(s,z)\n",
    "            }\n",
    "                                    #dividend payment \n",
    "            for (d in 12:16){\n",
    "                if(!is.na(df2high[i,d])){\n",
    "                    cash = cash+(shares_bin[d-11]*df2high[i,d])\n",
    "        }\n",
    "            }\n",
    "        summed= sum(s)\n",
    "        mtm_intermed = cash+summed\n",
    "        mtm = c(mtm,mtm_intermed)\n",
    "         }\n",
    "}       "
   ]
  },
  {
   "cell_type": "code",
   "execution_count": 192,
   "id": "f7008e8d",
   "metadata": {},
   "outputs": [
    {
     "data": {
      "text/html": [
       "<table class=\"dataframe\">\n",
       "<caption>A data.frame: 6 × 17</caption>\n",
       "<thead>\n",
       "\t<tr><th></th><th scope=col>Date</th><th scope=col>Buy1</th><th scope=col>Buy2</th><th scope=col>Buy3</th><th scope=col>Buy4</th><th scope=col>Buy5</th><th scope=col>Sell1</th><th scope=col>Sell2</th><th scope=col>Sell3</th><th scope=col>Sell4</th><th scope=col>Sell5</th><th scope=col>IBM_div</th><th scope=col>MSFT_div</th><th scope=col>AAPL_div</th><th scope=col>ORCL_div</th><th scope=col>SAP_div</th><th scope=col>mtm</th></tr>\n",
       "\t<tr><th></th><th scope=col>&lt;date&gt;</th><th scope=col>&lt;dbl&gt;</th><th scope=col>&lt;dbl&gt;</th><th scope=col>&lt;dbl&gt;</th><th scope=col>&lt;dbl&gt;</th><th scope=col>&lt;dbl&gt;</th><th scope=col>&lt;dbl&gt;</th><th scope=col>&lt;dbl&gt;</th><th scope=col>&lt;dbl&gt;</th><th scope=col>&lt;dbl&gt;</th><th scope=col>&lt;dbl&gt;</th><th scope=col>&lt;dbl&gt;</th><th scope=col>&lt;dbl&gt;</th><th scope=col>&lt;dbl&gt;</th><th scope=col>&lt;dbl&gt;</th><th scope=col>&lt;dbl&gt;</th><th scope=col>&lt;dbl&gt;</th></tr>\n",
       "</thead>\n",
       "<tbody>\n",
       "\t<tr><th scope=row>1</th><td>2018-01-02</td><td>147.4665</td><td>85.950</td><td>53.2500</td><td>43.0650</td><td> 59.4505</td><td>      NA</td><td>   NA</td><td>    NA</td><td>     NA</td><td>    NA</td><td>NA</td><td>NA</td><td>NA</td><td>NA</td><td>NA</td><td>     NA</td></tr>\n",
       "\t<tr><th scope=row>2</th><td>2018-01-03</td><td>151.5201</td><td>86.350</td><td>54.1240</td><td>43.0575</td><td> 60.2100</td><td>      NA</td><td>   NA</td><td>    NA</td><td>     NA</td><td>    NA</td><td>NA</td><td>NA</td><td>NA</td><td>NA</td><td>NA</td><td>     NA</td></tr>\n",
       "\t<tr><th scope=row>3</th><td>2018-01-04</td><td>154.5889</td><td>87.110</td><td>54.3200</td><td>43.2575</td><td> 60.4795</td><td>      NA</td><td>   NA</td><td>    NA</td><td>     NA</td><td>    NA</td><td>NA</td><td>NA</td><td>NA</td><td>NA</td><td>NA</td><td>     NA</td></tr>\n",
       "\t<tr><th scope=row>4</th><td>2018-01-05</td><td>155.3442</td><td>88.190</td><td>55.1115</td><td>43.7500</td><td> 61.4570</td><td>      NA</td><td>   NA</td><td>    NA</td><td>     NA</td><td>    NA</td><td>NA</td><td>NA</td><td>NA</td><td>NA</td><td>NA</td><td>     NA</td></tr>\n",
       "\t<tr><th scope=row>5</th><td>2018-01-08</td><td>156.2811</td><td>88.280</td><td>55.3470</td><td>43.5875</td><td> 62.3435</td><td>      NA</td><td>   NA</td><td>    NA</td><td>     NA</td><td>    NA</td><td>NA</td><td>NA</td><td>NA</td><td>NA</td><td>NA</td><td>     NA</td></tr>\n",
       "\t<tr><th scope=row>6</th><td>2018-01-09</td><td>209.3100</td><td>22.246</td><td>62.6350</td><td>49.0600</td><td>156.6252</td><td>156.6252</td><td>88.22</td><td>55.313</td><td>43.5825</td><td>62.635</td><td>NA</td><td>NA</td><td>NA</td><td>NA</td><td>NA</td><td>5192835</td></tr>\n",
       "</tbody>\n",
       "</table>\n"
      ],
      "text/latex": [
       "A data.frame: 6 × 17\n",
       "\\begin{tabular}{r|lllllllllllllllll}\n",
       "  & Date & Buy1 & Buy2 & Buy3 & Buy4 & Buy5 & Sell1 & Sell2 & Sell3 & Sell4 & Sell5 & IBM\\_div & MSFT\\_div & AAPL\\_div & ORCL\\_div & SAP\\_div & mtm\\\\\n",
       "  & <date> & <dbl> & <dbl> & <dbl> & <dbl> & <dbl> & <dbl> & <dbl> & <dbl> & <dbl> & <dbl> & <dbl> & <dbl> & <dbl> & <dbl> & <dbl> & <dbl>\\\\\n",
       "\\hline\n",
       "\t1 & 2018-01-02 & 147.4665 & 85.950 & 53.2500 & 43.0650 &  59.4505 &       NA &    NA &     NA &      NA &     NA & NA & NA & NA & NA & NA &      NA\\\\\n",
       "\t2 & 2018-01-03 & 151.5201 & 86.350 & 54.1240 & 43.0575 &  60.2100 &       NA &    NA &     NA &      NA &     NA & NA & NA & NA & NA & NA &      NA\\\\\n",
       "\t3 & 2018-01-04 & 154.5889 & 87.110 & 54.3200 & 43.2575 &  60.4795 &       NA &    NA &     NA &      NA &     NA & NA & NA & NA & NA & NA &      NA\\\\\n",
       "\t4 & 2018-01-05 & 155.3442 & 88.190 & 55.1115 & 43.7500 &  61.4570 &       NA &    NA &     NA &      NA &     NA & NA & NA & NA & NA & NA &      NA\\\\\n",
       "\t5 & 2018-01-08 & 156.2811 & 88.280 & 55.3470 & 43.5875 &  62.3435 &       NA &    NA &     NA &      NA &     NA & NA & NA & NA & NA & NA &      NA\\\\\n",
       "\t6 & 2018-01-09 & 209.3100 & 22.246 & 62.6350 & 49.0600 & 156.6252 & 156.6252 & 88.22 & 55.313 & 43.5825 & 62.635 & NA & NA & NA & NA & NA & 5192835\\\\\n",
       "\\end{tabular}\n"
      ],
      "text/markdown": [
       "\n",
       "A data.frame: 6 × 17\n",
       "\n",
       "| <!--/--> | Date &lt;date&gt; | Buy1 &lt;dbl&gt; | Buy2 &lt;dbl&gt; | Buy3 &lt;dbl&gt; | Buy4 &lt;dbl&gt; | Buy5 &lt;dbl&gt; | Sell1 &lt;dbl&gt; | Sell2 &lt;dbl&gt; | Sell3 &lt;dbl&gt; | Sell4 &lt;dbl&gt; | Sell5 &lt;dbl&gt; | IBM_div &lt;dbl&gt; | MSFT_div &lt;dbl&gt; | AAPL_div &lt;dbl&gt; | ORCL_div &lt;dbl&gt; | SAP_div &lt;dbl&gt; | mtm &lt;dbl&gt; |\n",
       "|---|---|---|---|---|---|---|---|---|---|---|---|---|---|---|---|---|---|\n",
       "| 1 | 2018-01-02 | 147.4665 | 85.950 | 53.2500 | 43.0650 |  59.4505 |       NA |    NA |     NA |      NA |     NA | NA | NA | NA | NA | NA |      NA |\n",
       "| 2 | 2018-01-03 | 151.5201 | 86.350 | 54.1240 | 43.0575 |  60.2100 |       NA |    NA |     NA |      NA |     NA | NA | NA | NA | NA | NA |      NA |\n",
       "| 3 | 2018-01-04 | 154.5889 | 87.110 | 54.3200 | 43.2575 |  60.4795 |       NA |    NA |     NA |      NA |     NA | NA | NA | NA | NA | NA |      NA |\n",
       "| 4 | 2018-01-05 | 155.3442 | 88.190 | 55.1115 | 43.7500 |  61.4570 |       NA |    NA |     NA |      NA |     NA | NA | NA | NA | NA | NA |      NA |\n",
       "| 5 | 2018-01-08 | 156.2811 | 88.280 | 55.3470 | 43.5875 |  62.3435 |       NA |    NA |     NA |      NA |     NA | NA | NA | NA | NA | NA |      NA |\n",
       "| 6 | 2018-01-09 | 209.3100 | 22.246 | 62.6350 | 49.0600 | 156.6252 | 156.6252 | 88.22 | 55.313 | 43.5825 | 62.635 | NA | NA | NA | NA | NA | 5192835 |\n",
       "\n"
      ],
      "text/plain": [
       "  Date       Buy1     Buy2   Buy3    Buy4    Buy5     Sell1    Sell2 Sell3 \n",
       "1 2018-01-02 147.4665 85.950 53.2500 43.0650  59.4505       NA    NA     NA\n",
       "2 2018-01-03 151.5201 86.350 54.1240 43.0575  60.2100       NA    NA     NA\n",
       "3 2018-01-04 154.5889 87.110 54.3200 43.2575  60.4795       NA    NA     NA\n",
       "4 2018-01-05 155.3442 88.190 55.1115 43.7500  61.4570       NA    NA     NA\n",
       "5 2018-01-08 156.2811 88.280 55.3470 43.5875  62.3435       NA    NA     NA\n",
       "6 2018-01-09 209.3100 22.246 62.6350 49.0600 156.6252 156.6252 88.22 55.313\n",
       "  Sell4   Sell5  IBM_div MSFT_div AAPL_div ORCL_div SAP_div mtm    \n",
       "1      NA     NA NA      NA       NA       NA       NA           NA\n",
       "2      NA     NA NA      NA       NA       NA       NA           NA\n",
       "3      NA     NA NA      NA       NA       NA       NA           NA\n",
       "4      NA     NA NA      NA       NA       NA       NA           NA\n",
       "5      NA     NA NA      NA       NA       NA       NA           NA\n",
       "6 43.5825 62.635 NA      NA       NA       NA       NA      5192835"
      ]
     },
     "metadata": {},
     "output_type": "display_data"
    }
   ],
   "source": [
    "df2high$mtm = c(NA,NA,NA,NA,NA,mtm)\n",
    "head(df2high)"
   ]
  },
  {
   "cell_type": "code",
   "execution_count": 193,
   "id": "3773fb86",
   "metadata": {},
   "outputs": [
    {
     "data": {
      "text/html": [
       "4947517.28189699"
      ],
      "text/latex": [
       "4947517.28189699"
      ],
      "text/markdown": [
       "4947517.28189699"
      ],
      "text/plain": [
       "[1] 4947517"
      ]
     },
     "metadata": {},
     "output_type": "display_data"
    }
   ],
   "source": [
    "df2high[251,17]"
   ]
  },
  {
   "cell_type": "code",
   "execution_count": 194,
   "id": "18c49dab",
   "metadata": {},
   "outputs": [],
   "source": [
    "##The EOY MTM actually decreased from $5 million to ~ $4,947,517 using this \"5 days rebalancing of buying high\" strategy"
   ]
  },
  {
   "cell_type": "markdown",
   "id": "56a0cb9e",
   "metadata": {},
   "source": [
    "# MTM Series vs High Tech Index"
   ]
  },
  {
   "cell_type": "code",
   "execution_count": 195,
   "id": "923e1593",
   "metadata": {},
   "outputs": [],
   "source": [
    "#compute HTI in new column\n",
    "a = close_prices2 %>% mutate(HTI = (IBM + MSFT+GOOG+AAPL+AMZN+FB+NFLX+TSLA+ORCL+SAP)/10)"
   ]
  },
  {
   "cell_type": "code",
   "execution_count": 196,
   "id": "05675f6c",
   "metadata": {},
   "outputs": [
    {
     "data": {
      "text/html": [
       "<table class=\"dataframe\">\n",
       "<caption>A data.frame: 6 × 3</caption>\n",
       "<thead>\n",
       "\t<tr><th></th><th scope=col>Date</th><th scope=col>HTI</th><th scope=col>MTM</th></tr>\n",
       "\t<tr><th></th><th scope=col>&lt;date&gt;</th><th scope=col>&lt;dbl&gt;</th><th scope=col>&lt;dbl&gt;</th></tr>\n",
       "</thead>\n",
       "<tbody>\n",
       "\t<tr><th scope=row>1</th><td>2018-01-02</td><td>95.20607</td><td>5000000</td></tr>\n",
       "\t<tr><th scope=row>2</th><td>2018-01-03</td><td>96.71516</td><td>5061154</td></tr>\n",
       "\t<tr><th scope=row>3</th><td>2018-01-04</td><td>97.39206</td><td>5103664</td></tr>\n",
       "\t<tr><th scope=row>4</th><td>2018-01-05</td><td>98.65980</td><td>5164091</td></tr>\n",
       "\t<tr><th scope=row>5</th><td>2018-01-08</td><td>99.23764</td><td>5187051</td></tr>\n",
       "\t<tr><th scope=row>6</th><td>2018-01-09</td><td>98.90217</td><td>5192835</td></tr>\n",
       "</tbody>\n",
       "</table>\n"
      ],
      "text/latex": [
       "A data.frame: 6 × 3\n",
       "\\begin{tabular}{r|lll}\n",
       "  & Date & HTI & MTM\\\\\n",
       "  & <date> & <dbl> & <dbl>\\\\\n",
       "\\hline\n",
       "\t1 & 2018-01-02 & 95.20607 & 5000000\\\\\n",
       "\t2 & 2018-01-03 & 96.71516 & 5061154\\\\\n",
       "\t3 & 2018-01-04 & 97.39206 & 5103664\\\\\n",
       "\t4 & 2018-01-05 & 98.65980 & 5164091\\\\\n",
       "\t5 & 2018-01-08 & 99.23764 & 5187051\\\\\n",
       "\t6 & 2018-01-09 & 98.90217 & 5192835\\\\\n",
       "\\end{tabular}\n"
      ],
      "text/markdown": [
       "\n",
       "A data.frame: 6 × 3\n",
       "\n",
       "| <!--/--> | Date &lt;date&gt; | HTI &lt;dbl&gt; | MTM &lt;dbl&gt; |\n",
       "|---|---|---|---|\n",
       "| 1 | 2018-01-02 | 95.20607 | 5000000 |\n",
       "| 2 | 2018-01-03 | 96.71516 | 5061154 |\n",
       "| 3 | 2018-01-04 | 97.39206 | 5103664 |\n",
       "| 4 | 2018-01-05 | 98.65980 | 5164091 |\n",
       "| 5 | 2018-01-08 | 99.23764 | 5187051 |\n",
       "| 6 | 2018-01-09 | 98.90217 | 5192835 |\n",
       "\n"
      ],
      "text/plain": [
       "  Date       HTI      MTM    \n",
       "1 2018-01-02 95.20607 5000000\n",
       "2 2018-01-03 96.71516 5061154\n",
       "3 2018-01-04 97.39206 5103664\n",
       "4 2018-01-05 98.65980 5164091\n",
       "5 2018-01-08 99.23764 5187051\n",
       "6 2018-01-09 98.90217 5192835"
      ]
     },
     "metadata": {},
     "output_type": "display_data"
    }
   ],
   "source": [
    "#assemble new df for graph\n",
    "comparison = data.frame(Date= close_prices2$Date, HTI = a$HTI, MTM = df_compare_hti$mtm)\n",
    "head(comparison)"
   ]
  },
  {
   "cell_type": "code",
   "execution_count": 197,
   "id": "2b7dd023",
   "metadata": {},
   "outputs": [],
   "source": [
    "#calculate % change with respect to 1/2/18\n",
    "comparison = comparison %>% mutate(HTI_change = (HTI - HTI[1]) / HTI[1] * 100) %>% mutate(MTM_change = (MTM - MTM[1]) / MTM[1] * 100) \n",
    "comparison[1,4:5] = 1"
   ]
  },
  {
   "cell_type": "code",
   "execution_count": 198,
   "id": "2e37edfd",
   "metadata": {},
   "outputs": [
    {
     "data": {
      "text/html": [
       "<table class=\"dataframe\">\n",
       "<caption>A data.frame: 6 × 5</caption>\n",
       "<thead>\n",
       "\t<tr><th></th><th scope=col>Date</th><th scope=col>HTI</th><th scope=col>MTM</th><th scope=col>HTI_change</th><th scope=col>MTM_change</th></tr>\n",
       "\t<tr><th></th><th scope=col>&lt;date&gt;</th><th scope=col>&lt;dbl&gt;</th><th scope=col>&lt;dbl&gt;</th><th scope=col>&lt;dbl&gt;</th><th scope=col>&lt;dbl&gt;</th></tr>\n",
       "</thead>\n",
       "<tbody>\n",
       "\t<tr><th scope=row>1</th><td>2018-01-02</td><td>95.20607</td><td>5000000</td><td>1.000000</td><td>1.000000</td></tr>\n",
       "\t<tr><th scope=row>2</th><td>2018-01-03</td><td>96.71516</td><td>5061154</td><td>1.585074</td><td>1.223084</td></tr>\n",
       "\t<tr><th scope=row>3</th><td>2018-01-04</td><td>97.39206</td><td>5103664</td><td>2.296060</td><td>2.073270</td></tr>\n",
       "\t<tr><th scope=row>4</th><td>2018-01-05</td><td>98.65980</td><td>5164091</td><td>3.627637</td><td>3.281811</td></tr>\n",
       "\t<tr><th scope=row>5</th><td>2018-01-08</td><td>99.23764</td><td>5187051</td><td>4.234572</td><td>3.741018</td></tr>\n",
       "\t<tr><th scope=row>6</th><td>2018-01-09</td><td>98.90217</td><td>5192835</td><td>3.882214</td><td>3.856703</td></tr>\n",
       "</tbody>\n",
       "</table>\n"
      ],
      "text/latex": [
       "A data.frame: 6 × 5\n",
       "\\begin{tabular}{r|lllll}\n",
       "  & Date & HTI & MTM & HTI\\_change & MTM\\_change\\\\\n",
       "  & <date> & <dbl> & <dbl> & <dbl> & <dbl>\\\\\n",
       "\\hline\n",
       "\t1 & 2018-01-02 & 95.20607 & 5000000 & 1.000000 & 1.000000\\\\\n",
       "\t2 & 2018-01-03 & 96.71516 & 5061154 & 1.585074 & 1.223084\\\\\n",
       "\t3 & 2018-01-04 & 97.39206 & 5103664 & 2.296060 & 2.073270\\\\\n",
       "\t4 & 2018-01-05 & 98.65980 & 5164091 & 3.627637 & 3.281811\\\\\n",
       "\t5 & 2018-01-08 & 99.23764 & 5187051 & 4.234572 & 3.741018\\\\\n",
       "\t6 & 2018-01-09 & 98.90217 & 5192835 & 3.882214 & 3.856703\\\\\n",
       "\\end{tabular}\n"
      ],
      "text/markdown": [
       "\n",
       "A data.frame: 6 × 5\n",
       "\n",
       "| <!--/--> | Date &lt;date&gt; | HTI &lt;dbl&gt; | MTM &lt;dbl&gt; | HTI_change &lt;dbl&gt; | MTM_change &lt;dbl&gt; |\n",
       "|---|---|---|---|---|---|\n",
       "| 1 | 2018-01-02 | 95.20607 | 5000000 | 1.000000 | 1.000000 |\n",
       "| 2 | 2018-01-03 | 96.71516 | 5061154 | 1.585074 | 1.223084 |\n",
       "| 3 | 2018-01-04 | 97.39206 | 5103664 | 2.296060 | 2.073270 |\n",
       "| 4 | 2018-01-05 | 98.65980 | 5164091 | 3.627637 | 3.281811 |\n",
       "| 5 | 2018-01-08 | 99.23764 | 5187051 | 4.234572 | 3.741018 |\n",
       "| 6 | 2018-01-09 | 98.90217 | 5192835 | 3.882214 | 3.856703 |\n",
       "\n"
      ],
      "text/plain": [
       "  Date       HTI      MTM     HTI_change MTM_change\n",
       "1 2018-01-02 95.20607 5000000 1.000000   1.000000  \n",
       "2 2018-01-03 96.71516 5061154 1.585074   1.223084  \n",
       "3 2018-01-04 97.39206 5103664 2.296060   2.073270  \n",
       "4 2018-01-05 98.65980 5164091 3.627637   3.281811  \n",
       "5 2018-01-08 99.23764 5187051 4.234572   3.741018  \n",
       "6 2018-01-09 98.90217 5192835 3.882214   3.856703  "
      ]
     },
     "metadata": {},
     "output_type": "display_data"
    }
   ],
   "source": [
    "head(comparison)"
   ]
  },
  {
   "cell_type": "code",
   "execution_count": 199,
   "id": "08968bf7",
   "metadata": {},
   "outputs": [],
   "source": [
    "#take subset of df\n",
    "comparison2 = comparison[,c(1,4,5)]"
   ]
  },
  {
   "cell_type": "code",
   "execution_count": 200,
   "id": "95607f9e",
   "metadata": {},
   "outputs": [],
   "source": [
    "#melt df for simplicity reasons in ggplot code \n",
    "comparison2 = melt(comparison2, id.vars=\"Date\")\n",
    "names(comparison2)[2]=\"Variable\""
   ]
  },
  {
   "cell_type": "code",
   "execution_count": 201,
   "id": "d44c390a",
   "metadata": {},
   "outputs": [
    {
     "data": {
      "image/png": "[encoded data removed]",
      "text/plain": [
       "plot without title"
      ]
     },
     "metadata": {
      "image/png": {
       "height": 420,
       "width": 420
      }
     },
     "output_type": "display_data"
    }
   ],
   "source": [
    "ggplot(data = comparison2, aes(x=Date, y=value))+geom_line(aes(color=Variable,linetype=Variable))+labs(x = \"Date\", y = \"Percentage Change\")+ggtitle(\"MTM Change vs HTI Change\")+theme_gray()+scale_color_manual(values = c(\"red\", \"blue\"))"
   ]
  },
  {
   "cell_type": "markdown",
   "id": "f40bfd51",
   "metadata": {},
   "source": [
    "# Second Figure - Change of MTM in JPY"
   ]
  },
  {
   "cell_type": "code",
   "execution_count": 202,
   "id": "ff8b5280",
   "metadata": {},
   "outputs": [],
   "source": [
    "jpy = read.csv(\"JPY.csv\")"
   ]
  },
  {
   "cell_type": "code",
   "execution_count": 203,
   "id": "f1295b4a",
   "metadata": {},
   "outputs": [
    {
     "data": {
      "text/html": [
       "<table class=\"dataframe\">\n",
       "<caption>A data.frame: 6 × 2</caption>\n",
       "<thead>\n",
       "\t<tr><th></th><th scope=col>Date</th><th scope=col>Close</th></tr>\n",
       "\t<tr><th></th><th scope=col>&lt;chr&gt;</th><th scope=col>&lt;dbl&gt;</th></tr>\n",
       "</thead>\n",
       "<tbody>\n",
       "\t<tr><th scope=row>2</th><td>1/2/2018</td><td>112.770</td></tr>\n",
       "\t<tr><th scope=row>3</th><td>1/3/2018</td><td>112.244</td></tr>\n",
       "\t<tr><th scope=row>4</th><td>1/4/2018</td><td>112.607</td></tr>\n",
       "\t<tr><th scope=row>5</th><td>1/5/2018</td><td>112.783</td></tr>\n",
       "\t<tr><th scope=row>6</th><td>1/8/2018</td><td>113.154</td></tr>\n",
       "\t<tr><th scope=row>7</th><td>1/9/2018</td><td>113.141</td></tr>\n",
       "</tbody>\n",
       "</table>\n"
      ],
      "text/latex": [
       "A data.frame: 6 × 2\n",
       "\\begin{tabular}{r|ll}\n",
       "  & Date & Close\\\\\n",
       "  & <chr> & <dbl>\\\\\n",
       "\\hline\n",
       "\t2 & 1/2/2018 & 112.770\\\\\n",
       "\t3 & 1/3/2018 & 112.244\\\\\n",
       "\t4 & 1/4/2018 & 112.607\\\\\n",
       "\t5 & 1/5/2018 & 112.783\\\\\n",
       "\t6 & 1/8/2018 & 113.154\\\\\n",
       "\t7 & 1/9/2018 & 113.141\\\\\n",
       "\\end{tabular}\n"
      ],
      "text/markdown": [
       "\n",
       "A data.frame: 6 × 2\n",
       "\n",
       "| <!--/--> | Date &lt;chr&gt; | Close &lt;dbl&gt; |\n",
       "|---|---|---|\n",
       "| 2 | 1/2/2018 | 112.770 |\n",
       "| 3 | 1/3/2018 | 112.244 |\n",
       "| 4 | 1/4/2018 | 112.607 |\n",
       "| 5 | 1/5/2018 | 112.783 |\n",
       "| 6 | 1/8/2018 | 113.154 |\n",
       "| 7 | 1/9/2018 | 113.141 |\n",
       "\n"
      ],
      "text/plain": [
       "  Date     Close  \n",
       "2 1/2/2018 112.770\n",
       "3 1/3/2018 112.244\n",
       "4 1/4/2018 112.607\n",
       "5 1/5/2018 112.783\n",
       "6 1/8/2018 113.154\n",
       "7 1/9/2018 113.141"
      ]
     },
     "metadata": {},
     "output_type": "display_data"
    }
   ],
   "source": [
    "jpy = jpy[,c(1,5)]\n",
    "jpy = jpy[-1,]\n",
    "head(jpy)"
   ]
  },
  {
   "cell_type": "code",
   "execution_count": 204,
   "id": "ffe46ca1",
   "metadata": {},
   "outputs": [
    {
     "data": {
      "text/html": [
       "<table class=\"dataframe\">\n",
       "<caption>A data.frame: 6 × 6</caption>\n",
       "<thead>\n",
       "\t<tr><th></th><th scope=col>Date</th><th scope=col>HTI</th><th scope=col>MTM</th><th scope=col>HTI_change</th><th scope=col>MTM_change</th><th scope=col>Close</th></tr>\n",
       "\t<tr><th></th><th scope=col>&lt;date&gt;</th><th scope=col>&lt;dbl&gt;</th><th scope=col>&lt;dbl&gt;</th><th scope=col>&lt;dbl&gt;</th><th scope=col>&lt;dbl&gt;</th><th scope=col>&lt;dbl&gt;</th></tr>\n",
       "</thead>\n",
       "<tbody>\n",
       "\t<tr><th scope=row>1</th><td>2018-01-02</td><td>95.20607</td><td>5000000</td><td>1.000000</td><td>1.000000</td><td>112.770</td></tr>\n",
       "\t<tr><th scope=row>2</th><td>2018-01-03</td><td>96.71516</td><td>5061154</td><td>1.585074</td><td>1.223084</td><td>112.244</td></tr>\n",
       "\t<tr><th scope=row>3</th><td>2018-01-04</td><td>97.39206</td><td>5103664</td><td>2.296060</td><td>2.073270</td><td>112.607</td></tr>\n",
       "\t<tr><th scope=row>4</th><td>2018-01-05</td><td>98.65980</td><td>5164091</td><td>3.627637</td><td>3.281811</td><td>112.783</td></tr>\n",
       "\t<tr><th scope=row>5</th><td>2018-01-08</td><td>99.23764</td><td>5187051</td><td>4.234572</td><td>3.741018</td><td>113.154</td></tr>\n",
       "\t<tr><th scope=row>6</th><td>2018-01-09</td><td>98.90217</td><td>5192835</td><td>3.882214</td><td>3.856703</td><td>113.141</td></tr>\n",
       "</tbody>\n",
       "</table>\n"
      ],
      "text/latex": [
       "A data.frame: 6 × 6\n",
       "\\begin{tabular}{r|llllll}\n",
       "  & Date & HTI & MTM & HTI\\_change & MTM\\_change & Close\\\\\n",
       "  & <date> & <dbl> & <dbl> & <dbl> & <dbl> & <dbl>\\\\\n",
       "\\hline\n",
       "\t1 & 2018-01-02 & 95.20607 & 5000000 & 1.000000 & 1.000000 & 112.770\\\\\n",
       "\t2 & 2018-01-03 & 96.71516 & 5061154 & 1.585074 & 1.223084 & 112.244\\\\\n",
       "\t3 & 2018-01-04 & 97.39206 & 5103664 & 2.296060 & 2.073270 & 112.607\\\\\n",
       "\t4 & 2018-01-05 & 98.65980 & 5164091 & 3.627637 & 3.281811 & 112.783\\\\\n",
       "\t5 & 2018-01-08 & 99.23764 & 5187051 & 4.234572 & 3.741018 & 113.154\\\\\n",
       "\t6 & 2018-01-09 & 98.90217 & 5192835 & 3.882214 & 3.856703 & 113.141\\\\\n",
       "\\end{tabular}\n"
      ],
      "text/markdown": [
       "\n",
       "A data.frame: 6 × 6\n",
       "\n",
       "| <!--/--> | Date &lt;date&gt; | HTI &lt;dbl&gt; | MTM &lt;dbl&gt; | HTI_change &lt;dbl&gt; | MTM_change &lt;dbl&gt; | Close &lt;dbl&gt; |\n",
       "|---|---|---|---|---|---|---|\n",
       "| 1 | 2018-01-02 | 95.20607 | 5000000 | 1.000000 | 1.000000 | 112.770 |\n",
       "| 2 | 2018-01-03 | 96.71516 | 5061154 | 1.585074 | 1.223084 | 112.244 |\n",
       "| 3 | 2018-01-04 | 97.39206 | 5103664 | 2.296060 | 2.073270 | 112.607 |\n",
       "| 4 | 2018-01-05 | 98.65980 | 5164091 | 3.627637 | 3.281811 | 112.783 |\n",
       "| 5 | 2018-01-08 | 99.23764 | 5187051 | 4.234572 | 3.741018 | 113.154 |\n",
       "| 6 | 2018-01-09 | 98.90217 | 5192835 | 3.882214 | 3.856703 | 113.141 |\n",
       "\n"
      ],
      "text/plain": [
       "  Date       HTI      MTM     HTI_change MTM_change Close  \n",
       "1 2018-01-02 95.20607 5000000 1.000000   1.000000   112.770\n",
       "2 2018-01-03 96.71516 5061154 1.585074   1.223084   112.244\n",
       "3 2018-01-04 97.39206 5103664 2.296060   2.073270   112.607\n",
       "4 2018-01-05 98.65980 5164091 3.627637   3.281811   112.783\n",
       "5 2018-01-08 99.23764 5187051 4.234572   3.741018   113.154\n",
       "6 2018-01-09 98.90217 5192835 3.882214   3.856703   113.141"
      ]
     },
     "metadata": {},
     "output_type": "display_data"
    }
   ],
   "source": [
    "#format column datatype, merge with existing mtm change calculations \n",
    "jpy$Date= as.Date(jpy$Date, format = \"%m/%d/%Y\")\n",
    "df_jpy=merge(x=comparison, y=jpy, all.x=TRUE)\n",
    "head(df_jpy)"
   ]
  },
  {
   "cell_type": "code",
   "execution_count": 205,
   "id": "69686a90",
   "metadata": {},
   "outputs": [
    {
     "data": {
      "text/html": [
       "<table class=\"dataframe\">\n",
       "<caption>A data.frame: 6 × 8</caption>\n",
       "<thead>\n",
       "\t<tr><th></th><th scope=col>Date</th><th scope=col>HTI</th><th scope=col>MTM</th><th scope=col>HTI_change</th><th scope=col>MTM_change</th><th scope=col>Close</th><th scope=col>MTM_jpy</th><th scope=col>MTM_change_jpy</th></tr>\n",
       "\t<tr><th></th><th scope=col>&lt;date&gt;</th><th scope=col>&lt;dbl&gt;</th><th scope=col>&lt;dbl&gt;</th><th scope=col>&lt;dbl&gt;</th><th scope=col>&lt;dbl&gt;</th><th scope=col>&lt;dbl&gt;</th><th scope=col>&lt;dbl&gt;</th><th scope=col>&lt;dbl&gt;</th></tr>\n",
       "</thead>\n",
       "<tbody>\n",
       "\t<tr><th scope=row>1</th><td>2018-01-02</td><td>95.20607</td><td>5000000</td><td>1.000000</td><td>1.000000</td><td>112.770</td><td>563849985</td><td>1.000000</td></tr>\n",
       "\t<tr><th scope=row>2</th><td>2018-01-03</td><td>96.71516</td><td>5061154</td><td>1.585074</td><td>1.223084</td><td>112.244</td><td>568084205</td><td>0.750948</td></tr>\n",
       "\t<tr><th scope=row>3</th><td>2018-01-04</td><td>97.39206</td><td>5103664</td><td>2.296060</td><td>2.073270</td><td>112.607</td><td>574708246</td><td>1.925736</td></tr>\n",
       "\t<tr><th scope=row>4</th><td>2018-01-05</td><td>98.65980</td><td>5164091</td><td>3.627637</td><td>3.281811</td><td>112.783</td><td>582421611</td><td>3.293718</td></tr>\n",
       "\t<tr><th scope=row>5</th><td>2018-01-08</td><td>99.23764</td><td>5187051</td><td>4.234572</td><td>3.741018</td><td>113.154</td><td>586935550</td><td>4.094274</td></tr>\n",
       "\t<tr><th scope=row>6</th><td>2018-01-09</td><td>98.90217</td><td>5192835</td><td>3.882214</td><td>3.856703</td><td>113.141</td><td>587522554</td><td>4.198381</td></tr>\n",
       "</tbody>\n",
       "</table>\n"
      ],
      "text/latex": [
       "A data.frame: 6 × 8\n",
       "\\begin{tabular}{r|llllllll}\n",
       "  & Date & HTI & MTM & HTI\\_change & MTM\\_change & Close & MTM\\_jpy & MTM\\_change\\_jpy\\\\\n",
       "  & <date> & <dbl> & <dbl> & <dbl> & <dbl> & <dbl> & <dbl> & <dbl>\\\\\n",
       "\\hline\n",
       "\t1 & 2018-01-02 & 95.20607 & 5000000 & 1.000000 & 1.000000 & 112.770 & 563849985 & 1.000000\\\\\n",
       "\t2 & 2018-01-03 & 96.71516 & 5061154 & 1.585074 & 1.223084 & 112.244 & 568084205 & 0.750948\\\\\n",
       "\t3 & 2018-01-04 & 97.39206 & 5103664 & 2.296060 & 2.073270 & 112.607 & 574708246 & 1.925736\\\\\n",
       "\t4 & 2018-01-05 & 98.65980 & 5164091 & 3.627637 & 3.281811 & 112.783 & 582421611 & 3.293718\\\\\n",
       "\t5 & 2018-01-08 & 99.23764 & 5187051 & 4.234572 & 3.741018 & 113.154 & 586935550 & 4.094274\\\\\n",
       "\t6 & 2018-01-09 & 98.90217 & 5192835 & 3.882214 & 3.856703 & 113.141 & 587522554 & 4.198381\\\\\n",
       "\\end{tabular}\n"
      ],
      "text/markdown": [
       "\n",
       "A data.frame: 6 × 8\n",
       "\n",
       "| <!--/--> | Date &lt;date&gt; | HTI &lt;dbl&gt; | MTM &lt;dbl&gt; | HTI_change &lt;dbl&gt; | MTM_change &lt;dbl&gt; | Close &lt;dbl&gt; | MTM_jpy &lt;dbl&gt; | MTM_change_jpy &lt;dbl&gt; |\n",
       "|---|---|---|---|---|---|---|---|---|\n",
       "| 1 | 2018-01-02 | 95.20607 | 5000000 | 1.000000 | 1.000000 | 112.770 | 563849985 | 1.000000 |\n",
       "| 2 | 2018-01-03 | 96.71516 | 5061154 | 1.585074 | 1.223084 | 112.244 | 568084205 | 0.750948 |\n",
       "| 3 | 2018-01-04 | 97.39206 | 5103664 | 2.296060 | 2.073270 | 112.607 | 574708246 | 1.925736 |\n",
       "| 4 | 2018-01-05 | 98.65980 | 5164091 | 3.627637 | 3.281811 | 112.783 | 582421611 | 3.293718 |\n",
       "| 5 | 2018-01-08 | 99.23764 | 5187051 | 4.234572 | 3.741018 | 113.154 | 586935550 | 4.094274 |\n",
       "| 6 | 2018-01-09 | 98.90217 | 5192835 | 3.882214 | 3.856703 | 113.141 | 587522554 | 4.198381 |\n",
       "\n"
      ],
      "text/plain": [
       "  Date       HTI      MTM     HTI_change MTM_change Close   MTM_jpy  \n",
       "1 2018-01-02 95.20607 5000000 1.000000   1.000000   112.770 563849985\n",
       "2 2018-01-03 96.71516 5061154 1.585074   1.223084   112.244 568084205\n",
       "3 2018-01-04 97.39206 5103664 2.296060   2.073270   112.607 574708246\n",
       "4 2018-01-05 98.65980 5164091 3.627637   3.281811   112.783 582421611\n",
       "5 2018-01-08 99.23764 5187051 4.234572   3.741018   113.154 586935550\n",
       "6 2018-01-09 98.90217 5192835 3.882214   3.856703   113.141 587522554\n",
       "  MTM_change_jpy\n",
       "1 1.000000      \n",
       "2 0.750948      \n",
       "3 1.925736      \n",
       "4 3.293718      \n",
       "5 4.094274      \n",
       "6 4.198381      "
      ]
     },
     "metadata": {},
     "output_type": "display_data"
    }
   ],
   "source": [
    "#calculate % mtm change in JPY\n",
    "df_jpy = df_jpy %>% mutate(MTM_jpy = MTM*Close) %>% mutate(MTM_change_jpy = (MTM_jpy - MTM_jpy[1]) / MTM_jpy[1] * 100)\n",
    "df_jpy[1,8]=1\n",
    "head(df_jpy)"
   ]
  },
  {
   "cell_type": "code",
   "execution_count": 206,
   "id": "fa84da33",
   "metadata": {},
   "outputs": [
    {
     "data": {
      "text/html": [
       "<table class=\"dataframe\">\n",
       "<caption>A data.frame: 6 × 3</caption>\n",
       "<thead>\n",
       "\t<tr><th></th><th scope=col>Date</th><th scope=col>Variable</th><th scope=col>value</th></tr>\n",
       "\t<tr><th></th><th scope=col>&lt;date&gt;</th><th scope=col>&lt;fct&gt;</th><th scope=col>&lt;dbl&gt;</th></tr>\n",
       "</thead>\n",
       "<tbody>\n",
       "\t<tr><th scope=row>1</th><td>2018-01-02</td><td>MTM_change</td><td>1.000000</td></tr>\n",
       "\t<tr><th scope=row>2</th><td>2018-01-03</td><td>MTM_change</td><td>1.223084</td></tr>\n",
       "\t<tr><th scope=row>3</th><td>2018-01-04</td><td>MTM_change</td><td>2.073270</td></tr>\n",
       "\t<tr><th scope=row>4</th><td>2018-01-05</td><td>MTM_change</td><td>3.281811</td></tr>\n",
       "\t<tr><th scope=row>5</th><td>2018-01-08</td><td>MTM_change</td><td>3.741018</td></tr>\n",
       "\t<tr><th scope=row>6</th><td>2018-01-09</td><td>MTM_change</td><td>3.856703</td></tr>\n",
       "</tbody>\n",
       "</table>\n"
      ],
      "text/latex": [
       "A data.frame: 6 × 3\n",
       "\\begin{tabular}{r|lll}\n",
       "  & Date & Variable & value\\\\\n",
       "  & <date> & <fct> & <dbl>\\\\\n",
       "\\hline\n",
       "\t1 & 2018-01-02 & MTM\\_change & 1.000000\\\\\n",
       "\t2 & 2018-01-03 & MTM\\_change & 1.223084\\\\\n",
       "\t3 & 2018-01-04 & MTM\\_change & 2.073270\\\\\n",
       "\t4 & 2018-01-05 & MTM\\_change & 3.281811\\\\\n",
       "\t5 & 2018-01-08 & MTM\\_change & 3.741018\\\\\n",
       "\t6 & 2018-01-09 & MTM\\_change & 3.856703\\\\\n",
       "\\end{tabular}\n"
      ],
      "text/markdown": [
       "\n",
       "A data.frame: 6 × 3\n",
       "\n",
       "| <!--/--> | Date &lt;date&gt; | Variable &lt;fct&gt; | value &lt;dbl&gt; |\n",
       "|---|---|---|---|\n",
       "| 1 | 2018-01-02 | MTM_change | 1.000000 |\n",
       "| 2 | 2018-01-03 | MTM_change | 1.223084 |\n",
       "| 3 | 2018-01-04 | MTM_change | 2.073270 |\n",
       "| 4 | 2018-01-05 | MTM_change | 3.281811 |\n",
       "| 5 | 2018-01-08 | MTM_change | 3.741018 |\n",
       "| 6 | 2018-01-09 | MTM_change | 3.856703 |\n",
       "\n"
      ],
      "text/plain": [
       "  Date       Variable   value   \n",
       "1 2018-01-02 MTM_change 1.000000\n",
       "2 2018-01-03 MTM_change 1.223084\n",
       "3 2018-01-04 MTM_change 2.073270\n",
       "4 2018-01-05 MTM_change 3.281811\n",
       "5 2018-01-08 MTM_change 3.741018\n",
       "6 2018-01-09 MTM_change 3.856703"
      ]
     },
     "metadata": {},
     "output_type": "display_data"
    }
   ],
   "source": [
    "#same as above, melting for simplicity reasons \n",
    "df_jpy2 = df_jpy[,c(1,5,8)]\n",
    "df_jpy2=melt(df_jpy2, id.vars = c(\"Date\"))\n",
    "names(df_jpy2)[2]=\"Variable\"\n",
    "head(df_jpy2)"
   ]
  },
  {
   "cell_type": "code",
   "execution_count": 207,
   "id": "625d5983",
   "metadata": {
    "scrolled": true
   },
   "outputs": [
    {
     "data": {
      "image/png": "[encoded data removed]",
      "text/plain": [
       "plot without title"
      ]
     },
     "metadata": {
      "image/png": {
       "height": 420,
       "width": 420
      }
     },
     "output_type": "display_data"
    }
   ],
   "source": [
    "ggplot(data = df_jpy2, aes(x=Date, y=value))+geom_line(aes(color=Variable,linetype=Variable))+labs(x = \"Date\", y = \"Percentage Change\")+ggtitle(\"MTM Change vs MTM Change JPY\")+theme_gray()+scale_color_manual(values = c(\"red\", \"blue\"))"
   ]
  },
  {
   "cell_type": "markdown",
   "id": "3ff12cb2",
   "metadata": {},
   "source": [
    "# Testing Rebalancing of Buying Low with Different Rebalancing Periods "
   ]
  },
  {
   "cell_type": "code",
   "execution_count": 208,
   "id": "4a1b6b94",
   "metadata": {},
   "outputs": [],
   "source": [
    "#same code as earlier, except minor tweak in the large for loop at end"
   ]
  },
  {
   "cell_type": "code",
   "execution_count": 209,
   "id": "ef77f0bb",
   "metadata": {
    "scrolled": false
   },
   "outputs": [
    {
     "name": "stderr",
     "output_type": "stream",
     "text": [
      "Warning message in merge.data.frame(percent_change_df, change, by = \"Date\"):\n",
      "\"column names 'change.x', 'change.y' are duplicated in the result\"\n",
      "Warning message in merge.data.frame(percent_change_df, change, by = \"Date\"):\n",
      "\"column names 'change.x', 'change.y' are duplicated in the result\"\n",
      "Warning message in merge.data.frame(percent_change_df, change, by = \"Date\"):\n",
      "\"column names 'change.x', 'change.y', 'change.x', 'change.y' are duplicated in the result\"\n",
      "Warning message in merge.data.frame(percent_change_df, change, by = \"Date\"):\n",
      "\"column names 'change.x', 'change.y', 'change.x', 'change.y' are duplicated in the result\"\n",
      "Warning message in merge.data.frame(percent_change_df, change, by = \"Date\"):\n",
      "\"column names 'change.x', 'change.y', 'change.x', 'change.y', 'change.x', 'change.y' are duplicated in the result\"\n",
      "Warning message in merge.data.frame(percent_change_df, change, by = \"Date\"):\n",
      "\"column names 'change.x', 'change.y', 'change.x', 'change.y', 'change.x', 'change.y' are duplicated in the result\"\n",
      "Warning message in merge.data.frame(percent_change_df, change, by = \"Date\"):\n",
      "\"column names 'change.x', 'change.y', 'change.x', 'change.y', 'change.x', 'change.y', 'change.x', 'change.y' are duplicated in the result\"\n",
      "Warning message in merge.data.frame(df3, ORCL_div, by = \"Date\", all.x = TRUE):\n",
      "\"column names 'Dividends.x', 'Dividends.y' are duplicated in the result\"\n",
      "Warning message in merge.data.frame(df3, SAP_div, by = \"Date\", all.x = TRUE):\n",
      "\"column names 'Dividends.x', 'Dividends.y' are duplicated in the result\"\n"
     ]
    },
    {
     "data": {
      "text/html": [
       "<table class=\"dataframe\">\n",
       "<caption>A data.frame: 10 × 17</caption>\n",
       "<thead>\n",
       "\t<tr><th></th><th scope=col>Date</th><th scope=col>Buy1</th><th scope=col>Buy2</th><th scope=col>Buy3</th><th scope=col>Buy4</th><th scope=col>Buy5</th><th scope=col>Sell1</th><th scope=col>Sell2</th><th scope=col>Sell3</th><th scope=col>Sell4</th><th scope=col>Sell5</th><th scope=col>IBM_div</th><th scope=col>MSFT_div</th><th scope=col>AAPL_div</th><th scope=col>ORCL_div</th><th scope=col>SAP_div</th><th scope=col>mtm</th></tr>\n",
       "\t<tr><th></th><th scope=col>&lt;date&gt;</th><th scope=col>&lt;dbl&gt;</th><th scope=col>&lt;dbl&gt;</th><th scope=col>&lt;dbl&gt;</th><th scope=col>&lt;dbl&gt;</th><th scope=col>&lt;dbl&gt;</th><th scope=col>&lt;dbl&gt;</th><th scope=col>&lt;dbl&gt;</th><th scope=col>&lt;dbl&gt;</th><th scope=col>&lt;dbl&gt;</th><th scope=col>&lt;dbl&gt;</th><th scope=col>&lt;dbl&gt;</th><th scope=col>&lt;dbl&gt;</th><th scope=col>&lt;dbl&gt;</th><th scope=col>&lt;dbl&gt;</th><th scope=col>&lt;dbl&gt;</th><th scope=col>&lt;dbl&gt;</th></tr>\n",
       "</thead>\n",
       "<tbody>\n",
       "\t<tr><th scope=row>1</th><td>2018-01-02</td><td>147.4665</td><td>85.95000</td><td>53.2500</td><td>43.0650</td><td> 59.4505</td><td>      NA</td><td>   NA</td><td>     NA</td><td>     NA</td><td>     NA</td><td>NA</td><td>NA</td><td>NA</td><td>NA</td><td>NA</td><td>     NA</td></tr>\n",
       "\t<tr><th scope=row>2</th><td>2018-01-03</td><td>151.5201</td><td>86.35000</td><td>54.1240</td><td>43.0575</td><td> 60.2100</td><td>      NA</td><td>   NA</td><td>     NA</td><td>     NA</td><td>     NA</td><td>NA</td><td>NA</td><td>NA</td><td>NA</td><td>NA</td><td>     NA</td></tr>\n",
       "\t<tr><th scope=row>3</th><td>2018-01-04</td><td>154.5889</td><td>87.11000</td><td>54.3200</td><td>43.2575</td><td> 60.4795</td><td>      NA</td><td>   NA</td><td>     NA</td><td>     NA</td><td>     NA</td><td>NA</td><td>NA</td><td>NA</td><td>NA</td><td>NA</td><td>     NA</td></tr>\n",
       "\t<tr><th scope=row>4</th><td>2018-01-05</td><td>155.3442</td><td>88.19000</td><td>55.1115</td><td>43.7500</td><td> 61.4570</td><td>      NA</td><td>   NA</td><td>     NA</td><td>     NA</td><td>     NA</td><td>NA</td><td>NA</td><td>NA</td><td>NA</td><td>NA</td><td>     NA</td></tr>\n",
       "\t<tr><th scope=row>5</th><td>2018-01-08</td><td>156.2811</td><td>88.28000</td><td>55.3470</td><td>43.5875</td><td> 62.3435</td><td>      NA</td><td>   NA</td><td>     NA</td><td>     NA</td><td>     NA</td><td>NA</td><td>NA</td><td>NA</td><td>NA</td><td>NA</td><td>     NA</td></tr>\n",
       "\t<tr><th scope=row>6</th><td>2018-01-09</td><td>209.3100</td><td>22.24600</td><td>62.6350</td><td>49.0600</td><td>156.6252</td><td>156.6252</td><td>88.22</td><td>55.3130</td><td>43.5825</td><td>62.6350</td><td>NA</td><td>NA</td><td>NA</td><td>NA</td><td>NA</td><td>     NA</td></tr>\n",
       "\t<tr><th scope=row>7</th><td>2018-01-10</td><td>212.5200</td><td>22.32000</td><td>62.7165</td><td>48.8000</td><td>156.9599</td><td>156.9599</td><td>87.82</td><td>55.1305</td><td>43.5725</td><td>62.7165</td><td>NA</td><td>NA</td><td>NA</td><td>NA</td><td>NA</td><td>5188162</td></tr>\n",
       "\t<tr><th scope=row>8</th><td>2018-01-11</td><td>217.2400</td><td>22.53000</td><td>63.8340</td><td>48.9500</td><td>156.9790</td><td>156.9790</td><td>88.08</td><td>55.2760</td><td>43.8200</td><td>63.8340</td><td>NA</td><td>NA</td><td>NA</td><td>NA</td><td>NA</td><td>5242771</td></tr>\n",
       "\t<tr><th scope=row>9</th><td>2018-01-12</td><td>221.2300</td><td>22.41467</td><td>65.2600</td><td>49.5100</td><td>155.9656</td><td>155.9656</td><td>89.60</td><td>56.1130</td><td>44.2725</td><td>65.2600</td><td>NA</td><td>NA</td><td>NA</td><td>NA</td><td>NA</td><td>5285689</td></tr>\n",
       "\t<tr><th scope=row>10</th><td>2018-01-16</td><td>221.5300</td><td>22.67067</td><td>65.2430</td><td>49.5900</td><td>156.6444</td><td>156.6444</td><td>88.35</td><td>56.0880</td><td>44.0475</td><td>65.2430</td><td>NA</td><td>NA</td><td>NA</td><td>NA</td><td>NA</td><td>5304961</td></tr>\n",
       "</tbody>\n",
       "</table>\n"
      ],
      "text/latex": [
       "A data.frame: 10 × 17\n",
       "\\begin{tabular}{r|lllllllllllllllll}\n",
       "  & Date & Buy1 & Buy2 & Buy3 & Buy4 & Buy5 & Sell1 & Sell2 & Sell3 & Sell4 & Sell5 & IBM\\_div & MSFT\\_div & AAPL\\_div & ORCL\\_div & SAP\\_div & mtm\\\\\n",
       "  & <date> & <dbl> & <dbl> & <dbl> & <dbl> & <dbl> & <dbl> & <dbl> & <dbl> & <dbl> & <dbl> & <dbl> & <dbl> & <dbl> & <dbl> & <dbl> & <dbl>\\\\\n",
       "\\hline\n",
       "\t1 & 2018-01-02 & 147.4665 & 85.95000 & 53.2500 & 43.0650 &  59.4505 &       NA &    NA &      NA &      NA &      NA & NA & NA & NA & NA & NA &      NA\\\\\n",
       "\t2 & 2018-01-03 & 151.5201 & 86.35000 & 54.1240 & 43.0575 &  60.2100 &       NA &    NA &      NA &      NA &      NA & NA & NA & NA & NA & NA &      NA\\\\\n",
       "\t3 & 2018-01-04 & 154.5889 & 87.11000 & 54.3200 & 43.2575 &  60.4795 &       NA &    NA &      NA &      NA &      NA & NA & NA & NA & NA & NA &      NA\\\\\n",
       "\t4 & 2018-01-05 & 155.3442 & 88.19000 & 55.1115 & 43.7500 &  61.4570 &       NA &    NA &      NA &      NA &      NA & NA & NA & NA & NA & NA &      NA\\\\\n",
       "\t5 & 2018-01-08 & 156.2811 & 88.28000 & 55.3470 & 43.5875 &  62.3435 &       NA &    NA &      NA &      NA &      NA & NA & NA & NA & NA & NA &      NA\\\\\n",
       "\t6 & 2018-01-09 & 209.3100 & 22.24600 & 62.6350 & 49.0600 & 156.6252 & 156.6252 & 88.22 & 55.3130 & 43.5825 & 62.6350 & NA & NA & NA & NA & NA &      NA\\\\\n",
       "\t7 & 2018-01-10 & 212.5200 & 22.32000 & 62.7165 & 48.8000 & 156.9599 & 156.9599 & 87.82 & 55.1305 & 43.5725 & 62.7165 & NA & NA & NA & NA & NA & 5188162\\\\\n",
       "\t8 & 2018-01-11 & 217.2400 & 22.53000 & 63.8340 & 48.9500 & 156.9790 & 156.9790 & 88.08 & 55.2760 & 43.8200 & 63.8340 & NA & NA & NA & NA & NA & 5242771\\\\\n",
       "\t9 & 2018-01-12 & 221.2300 & 22.41467 & 65.2600 & 49.5100 & 155.9656 & 155.9656 & 89.60 & 56.1130 & 44.2725 & 65.2600 & NA & NA & NA & NA & NA & 5285689\\\\\n",
       "\t10 & 2018-01-16 & 221.5300 & 22.67067 & 65.2430 & 49.5900 & 156.6444 & 156.6444 & 88.35 & 56.0880 & 44.0475 & 65.2430 & NA & NA & NA & NA & NA & 5304961\\\\\n",
       "\\end{tabular}\n"
      ],
      "text/markdown": [
       "\n",
       "A data.frame: 10 × 17\n",
       "\n",
       "| <!--/--> | Date &lt;date&gt; | Buy1 &lt;dbl&gt; | Buy2 &lt;dbl&gt; | Buy3 &lt;dbl&gt; | Buy4 &lt;dbl&gt; | Buy5 &lt;dbl&gt; | Sell1 &lt;dbl&gt; | Sell2 &lt;dbl&gt; | Sell3 &lt;dbl&gt; | Sell4 &lt;dbl&gt; | Sell5 &lt;dbl&gt; | IBM_div &lt;dbl&gt; | MSFT_div &lt;dbl&gt; | AAPL_div &lt;dbl&gt; | ORCL_div &lt;dbl&gt; | SAP_div &lt;dbl&gt; | mtm &lt;dbl&gt; |\n",
       "|---|---|---|---|---|---|---|---|---|---|---|---|---|---|---|---|---|---|\n",
       "| 1 | 2018-01-02 | 147.4665 | 85.95000 | 53.2500 | 43.0650 |  59.4505 |       NA |    NA |      NA |      NA |      NA | NA | NA | NA | NA | NA |      NA |\n",
       "| 2 | 2018-01-03 | 151.5201 | 86.35000 | 54.1240 | 43.0575 |  60.2100 |       NA |    NA |      NA |      NA |      NA | NA | NA | NA | NA | NA |      NA |\n",
       "| 3 | 2018-01-04 | 154.5889 | 87.11000 | 54.3200 | 43.2575 |  60.4795 |       NA |    NA |      NA |      NA |      NA | NA | NA | NA | NA | NA |      NA |\n",
       "| 4 | 2018-01-05 | 155.3442 | 88.19000 | 55.1115 | 43.7500 |  61.4570 |       NA |    NA |      NA |      NA |      NA | NA | NA | NA | NA | NA |      NA |\n",
       "| 5 | 2018-01-08 | 156.2811 | 88.28000 | 55.3470 | 43.5875 |  62.3435 |       NA |    NA |      NA |      NA |      NA | NA | NA | NA | NA | NA |      NA |\n",
       "| 6 | 2018-01-09 | 209.3100 | 22.24600 | 62.6350 | 49.0600 | 156.6252 | 156.6252 | 88.22 | 55.3130 | 43.5825 | 62.6350 | NA | NA | NA | NA | NA |      NA |\n",
       "| 7 | 2018-01-10 | 212.5200 | 22.32000 | 62.7165 | 48.8000 | 156.9599 | 156.9599 | 87.82 | 55.1305 | 43.5725 | 62.7165 | NA | NA | NA | NA | NA | 5188162 |\n",
       "| 8 | 2018-01-11 | 217.2400 | 22.53000 | 63.8340 | 48.9500 | 156.9790 | 156.9790 | 88.08 | 55.2760 | 43.8200 | 63.8340 | NA | NA | NA | NA | NA | 5242771 |\n",
       "| 9 | 2018-01-12 | 221.2300 | 22.41467 | 65.2600 | 49.5100 | 155.9656 | 155.9656 | 89.60 | 56.1130 | 44.2725 | 65.2600 | NA | NA | NA | NA | NA | 5285689 |\n",
       "| 10 | 2018-01-16 | 221.5300 | 22.67067 | 65.2430 | 49.5900 | 156.6444 | 156.6444 | 88.35 | 56.0880 | 44.0475 | 65.2430 | NA | NA | NA | NA | NA | 5304961 |\n",
       "\n"
      ],
      "text/plain": [
       "   Date       Buy1     Buy2     Buy3    Buy4    Buy5     Sell1    Sell2 Sell3  \n",
       "1  2018-01-02 147.4665 85.95000 53.2500 43.0650  59.4505       NA    NA      NA\n",
       "2  2018-01-03 151.5201 86.35000 54.1240 43.0575  60.2100       NA    NA      NA\n",
       "3  2018-01-04 154.5889 87.11000 54.3200 43.2575  60.4795       NA    NA      NA\n",
       "4  2018-01-05 155.3442 88.19000 55.1115 43.7500  61.4570       NA    NA      NA\n",
       "5  2018-01-08 156.2811 88.28000 55.3470 43.5875  62.3435       NA    NA      NA\n",
       "6  2018-01-09 209.3100 22.24600 62.6350 49.0600 156.6252 156.6252 88.22 55.3130\n",
       "7  2018-01-10 212.5200 22.32000 62.7165 48.8000 156.9599 156.9599 87.82 55.1305\n",
       "8  2018-01-11 217.2400 22.53000 63.8340 48.9500 156.9790 156.9790 88.08 55.2760\n",
       "9  2018-01-12 221.2300 22.41467 65.2600 49.5100 155.9656 155.9656 89.60 56.1130\n",
       "10 2018-01-16 221.5300 22.67067 65.2430 49.5900 156.6444 156.6444 88.35 56.0880\n",
       "   Sell4   Sell5   IBM_div MSFT_div AAPL_div ORCL_div SAP_div mtm    \n",
       "1       NA      NA NA      NA       NA       NA       NA           NA\n",
       "2       NA      NA NA      NA       NA       NA       NA           NA\n",
       "3       NA      NA NA      NA       NA       NA       NA           NA\n",
       "4       NA      NA NA      NA       NA       NA       NA           NA\n",
       "5       NA      NA NA      NA       NA       NA       NA           NA\n",
       "6  43.5825 62.6350 NA      NA       NA       NA       NA           NA\n",
       "7  43.5725 62.7165 NA      NA       NA       NA       NA      5188162\n",
       "8  43.8200 63.8340 NA      NA       NA       NA       NA      5242771\n",
       "9  44.2725 65.2600 NA      NA       NA       NA       NA      5285689\n",
       "10 44.0475 65.2430 NA      NA       NA       NA       NA      5304961"
      ]
     },
     "metadata": {},
     "output_type": "display_data"
    }
   ],
   "source": [
    "percent_change_df = data.frame(Date = merged$Date)\n",
    "for (i in universe){\n",
    "    change = arrange(merged,Date) %>% transmute(Date, change = get(paste0(\"Adj.Close_\", i))/lag(get(paste0(\"Adj.Close_\", i)), n=5)) \n",
    "    percent_change_df <- merge(percent_change_df, change, by = \"Date\")\n",
    "}\n",
    "names(percent_change_df)= c(\"Date\", \"5Day%Change_IBM\",\"5Day%Change_MSFT\",\"5Day%Change_GOOG\", \"5Day%Change_AAPL\", \"5Day%Change_AMZN\",\"5Day%Change_FB\", \"5Day%Change_NFLX\",\"5Day%Change_TSLA\",\"5Day%Change_ORCL\",\"5Day%Change_SAP\")\n",
    "every_fifth_day= percent_change_df[seq(1, nrow(df), 5), ]\n",
    "purchases = apply(every_fifth_day[2:length(every_fifth_day)], 1, function(row)tail(sort(row),5))\n",
    "x = lapply(purchases, function(inner_list) {\n",
    "  lapply(names(inner_list), function(subname) {\n",
    "    return(subname)\n",
    "  })\n",
    "})\n",
    "company_names = c()\n",
    "for (element in x){\n",
    "    for (company in element){\n",
    "        name = str_remove(company, \"5Day%Change_\")\n",
    "        company_names = c(company_names, name)\n",
    "    }\n",
    "}\n",
    "buy = data.frame(Date = every_fifth_day$Date[-1],matrix(company_names, ncol=5, byrow=TRUE))\n",
    "names(buy) = c(\"Date\",\"Buy1\",\"Buy2\",\"Buy3\",\"Buy4\",\"Buy5\")\n",
    "buy = mutate(buy, Sell1 = c(NA,head(buy$Buy1, -1)))\n",
    "buy =mutate(buy, Sell2 = c(NA,head(buy$Buy2, -1)))\n",
    "buy = mutate(buy, Sell3 = c(NA,head(buy$Buy3, -1)))\n",
    "buy= mutate(buy, Sell4 = c(NA,head(buy$Buy4, -1)))\n",
    "buy = mutate(buy, Sell5 = c(NA,head(buy$Buy5, -1)))\n",
    "close_prices = prices[,c(1,seq(2,21,2))]\n",
    "names(close_prices) = c('Date', universe)\n",
    "combined= merge(buy, close_prices, by=\"Date\")\n",
    "combined_copy = combined\n",
    "close_prices2 = prices2[,c(1,seq(2,21,2))]\n",
    "names(close_prices2) = c('Date', universe)\n",
    "df3 = merge(x=combined_copy[,1:11],y=close_prices2, by =\"Date\", all=TRUE)\n",
    "df3[1:5,2:6] = matrix(c(\"IBM\",\"MSFT\",\"GOOG\",\"AAPL\",\"AMZN\"),nrow=5,ncol=5,byrow=TRUE)\n",
    "df3[6:10,7:11] = matrix(c(\"IBM\",\"MSFT\",\"GOOG\",\"AAPL\",\"AMZN\"),nrow=5,ncol=5,byrow=TRUE)\n",
    "df3 = merge(df3,IBM_div, by=\"Date\", all.x = TRUE)\n",
    "df3 = merge(df3,MSFT_div, by=\"Date\", all.x = TRUE)\n",
    "df3 = merge(df3,AAPL_div, by=\"Date\", all.x = TRUE)\n",
    "df3 = merge(df3,ORCL_div, by=\"Date\", all.x = TRUE)\n",
    "df3 = merge(df3,SAP_div, by=\"Date\", all.x = TRUE)\n",
    "names(df3)[22:26] = paste0(universe_div, \"_div\")\n",
    "df4=df3\n",
    "for (i in seq(6,nrow(df3),5)){\n",
    "        z=i+4\n",
    "        df3[i:z,2:11] = df3[i,2:11]\n",
    "}\n",
    "for (i in 1:nrow(df3)){\n",
    "    for (j in 2:6){\n",
    "        name = df3[i,j]\n",
    "        if (name %in% names(df3)){\n",
    "            price = df3[i,name]\n",
    "            df3[i,j] = price\n",
    "        }\n",
    "    }\n",
    "}\n",
    "for (i in 1:nrow(df3)){\n",
    "    for (j in 7:11){\n",
    "        name = df3[i,j]\n",
    "        if (name %in% names(df3)){\n",
    "            price = df3[i,name]\n",
    "            df3[i,j] = price\n",
    "        }\n",
    "    }\n",
    "}\n",
    "#handle dividend columns \n",
    "df3 = merge(df3, df4[,c(1,7:11)], by = \"Date\")\n",
    "for (i in 2:nrow(df3)){\n",
    "    for (j in 27:31){\n",
    "        name = df3[i,j]\n",
    "        if (name %in% names(df3)){\n",
    "            div = df3[i,name]\n",
    "            df3[i,j] = div\n",
    "        }\n",
    "    }\n",
    "}\n",
    "final_df = df3[,c(1:11,22:26)]\n",
    "final_df[,seq(2,11,1)] = lapply(final_df[,seq(2,11,1)], as.double)\n",
    "df2diff = merge(x=final_df,y=percent_change_df, by =\"Date\", all.y=TRUE)\n",
    "df2diff = df2high[,1:16]\n",
    "names(df2diff)[7:11]=c('Sell1','Sell2','Sell3','Sell4','Sell5')\n",
    "cash = 5000000\n",
    "shares_bin = c()\n",
    "mtm = c()\n",
    "frequency=6\n",
    "\n",
    "#loop through each row (sell/buy dates)\n",
    "for (i in 1:nrow(df2diff)){\n",
    "    #on first day, just buy, since initializing portfolio \n",
    "    if (i == 1){\n",
    "        #buy\n",
    "        cashperstock = cash/5\n",
    "        for (j in 2:6){\n",
    "            shares = floor(cashperstock/df2diff[i,j])\n",
    "            cash = cash - (shares*df2diff[i,j])  \n",
    "            shares_bin = c(shares_bin,shares)\n",
    "            }\n",
    "        }\n",
    "    else if((i-1)%%frequency ==0){         ###adjusting for strategy###\n",
    "        #these are sell/buy days \n",
    "            for (j in 2:6){\n",
    "            #sell\n",
    "                received = shares_bin[j-1]*df2diff[i,j+5]\n",
    "                cash = cash + received \n",
    "            }\n",
    "            mtm = c(mtm,cash)\n",
    "            shares_bin = c()\n",
    "            cashperstock = cash/5\n",
    "            for (j in 2:6){\n",
    "                #buy \n",
    "                shares = floor(cashperstock/df2diff[i,j])\n",
    "                cash = cash - (shares*df2diff[i,j])  \n",
    "                shares_bin = c(shares_bin,shares)\n",
    "            } \n",
    "        }\n",
    "        \n",
    "    else if (i>6){\n",
    "        #non selling days (just have to calculate mtm)\n",
    "            s=c()\n",
    "            for (j in 2:6){\n",
    "                z = shares_bin[j-1]*df2diff[i,j]\n",
    "                s = c(s,z)\n",
    "            }\n",
    "                                    #dividend payment\n",
    "            for (d in 12:16){\n",
    "                if(!is.na(df2diff[i,d])){\n",
    "                    cash = cash+(shares_bin[d-11]*df2diff[i,d])\n",
    "        }\n",
    "            }\n",
    "        summed= sum(s)\n",
    "        mtm_intermed = cash+summed\n",
    "        mtm = c(mtm,mtm_intermed)\n",
    "         }\n",
    "}       \n",
    "df2diff$mtm = c(NA,NA,NA,NA,NA,NA,mtm)\n",
    "head(df2diff,10)"
   ]
  },
  {
   "cell_type": "code",
   "execution_count": 210,
   "id": "52f854eb",
   "metadata": {},
   "outputs": [],
   "source": [
    "#rebalancing every 6 days, instead of 5, positively increased the EOY MTM"
   ]
  }
 ],
 "metadata": {
  "kernelspec": {
   "display_name": "R",
   "language": "R",
   "name": "ir"
  },
  "language_info": {
   "codemirror_mode": "r",
   "file_extension": ".r",
   "mimetype": "text/x-r-source",
   "name": "R",
   "pygments_lexer": "r",
   "version": "4.2.2"
  }
 },
 "nbformat": 4,
 "nbformat_minor": 5
}
